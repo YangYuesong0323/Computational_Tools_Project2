{
 "cells": [
  {
   "cell_type": "markdown",
   "metadata": {},
   "source": [
    "# Project 2: Web Traffic Analysis\n",
    "**This is the second of three mandatory projects to be handed in as part of the assessment for the course 02807 Computational Tools for Data Science at Technical University of Denmark, autumn 2019.**\n",
    "\n",
    "#### Practical info\n",
    "- **The project is to be done in groups of at most 3 students**\n",
    "- **Each group has to hand in _one_ Jupyter notebook (this notebook) with their solution**\n",
    "- **The hand-in of the notebook is due 2019-11-10, 23:59 on DTU Inside**\n",
    "\n",
    "#### Your solution\n",
    "- **Your solution should be in Python**\n",
    "- **For each question you may use as many cells for your solution as you like**\n",
    "- **You should document your solution and explain the choices you've made (for example by using multiple cells and use Markdown to assist the reader of the notebook)**\n",
    "- **You should not remove the problem statements**\n",
    "- **Your notebook should be runnable, i.e., clicking [>>] in Jupyter should generate the result that you want to be assessed**\n",
    "- **You are not expected to use machine learning to solve any of the exercises**\n",
    "- **You will be assessed according to correctness and readability of your code, choice of solution, choice of tools and libraries, and documentation of your solution**"
   ]
  },
  {
   "cell_type": "markdown",
   "metadata": {},
   "source": [
    "## Introduction\n",
    "In this project your task is to analyze a stream of log entries. A log entry consists of an [IP address](https://en.wikipedia.org/wiki/IP_address) and a [domain name](https://en.wikipedia.org/wiki/Domain_name). For example, a log line may look as follows:\n",
    "\n",
    "`192.168.0.1 somedomain.dk`\n",
    "\n",
    "One log line is the result of the event that the domain name was visited by someone having the corresponding IP address. Your task is to analyze the traffic on a number of domains. Counting the number of unique IPs seen on a domain doesn't correspond to the exact number of unique visitors, but it is a good estimate.\n",
    "\n",
    "Specifically, you should answer the following questions from the stream of log entries.\n",
    "\n",
    "- How many unique IPs are there in the stream?\n",
    "- How many unique IPs are there for each domain?\n",
    "- How many times was IP X seen on domain Y? (for some X and Y provided at run time)\n",
    "\n",
    "**The answers to these questions can be approximate!**\n",
    "\n",
    "You should also try to answer one or more of the following, more advanced, questions. The answers to these should also be approximate.\n",
    "\n",
    "- How many unique IPs are there for the domains $d_1, d_2, \\ldots$?\n",
    "- How many times was IP X seen on domains $d_1, d_2, \\ldots$?\n",
    "- What are the X most frequent IPs in the stream?\n",
    "\n",
    "You should use algorithms and data structures that you've learned about in the lectures, and you should provide your own implementations of these.\n",
    "\n",
    "Furthermore, you are expected to:\n",
    "\n",
    "- Document the accuracy of your answers when using algorithms that give approximate answers\n",
    "- Argue why you are using certain parameters for your data structures\n",
    "\n",
    "This notebook is in three parts. In the first part you are given an example of how to read from the stream (which for the purpose of this project is a remote file). In the second part you should implement the algorithms and data structures that you intend to use, and in the last part you should use these for analyzing the stream."
   ]
  },
  {
   "cell_type": "code",
   "execution_count": 1,
   "metadata": {},
   "outputs": [
    {
     "name": "stdout",
     "output_type": "stream",
     "text": [
      "Requirement already satisfied: pymmh3 in c:\\programdata\\anaconda3\\lib\\site-packages (0.0.5)\n",
      "Requirement already satisfied: scipy in c:\\programdata\\anaconda3\\lib\\site-packages (1.2.1)\n"
     ]
    }
   ],
   "source": [
    "# Install pip packages phmmh3 and scipy in the current Jupyter kernel\n",
    "import sys\n",
    "!{sys.executable} -m pip install pymmh3\n",
    "!{sys.executable} -m pip install scipy"
   ]
  },
  {
   "cell_type": "code",
   "execution_count": 73,
   "metadata": {},
   "outputs": [],
   "source": [
    "import pymmh3 as mmh3\n",
    "import math\n",
    "import urllib\n",
    "import statistics\n",
    "import random\n",
    "import numpy as np\n",
    "import collections\n",
    "import pandas as pd\n",
    "from scipy.integrate import quad\n",
    "from collections import Counter\n",
    "import matplotlib.pyplot as plt\n",
    "%matplotlib inline"
   ]
  },
  {
   "cell_type": "markdown",
   "metadata": {},
   "source": [
    "## Reading the stream\n",
    "The following code reads a remote file line by line. It is wrapped in a generator to make it easier to extend. You may modify this if you want to, but your solution should remain parametrized, so that your notebook can be run without having to consume the entire file."
   ]
  },
  {
   "cell_type": "code",
   "execution_count": 74,
   "metadata": {},
   "outputs": [],
   "source": [
    "url=\"https://files.dtu.dk/fss/public/link/public/stream/read/traffic_2?linkToken=_DcyO-U3MjjuNzI-&itemName=traffic_2\""
   ]
  },
  {
   "cell_type": "code",
   "execution_count": 75,
   "metadata": {},
   "outputs": [],
   "source": [
    "def stream(n):\n",
    "    i = 0\n",
    "    with urllib.request.urlopen(url) as f:\n",
    "        for line in f:\n",
    "            element = line.rstrip().decode(\"utf-8\")\n",
    "            yield element\n",
    "            i += 1\n",
    "            if i == n:\n",
    "                break"
   ]
  },
  {
   "cell_type": "code",
   "execution_count": 5,
   "metadata": {},
   "outputs": [],
   "source": [
    "STREAM_SIZE = 5\n",
    "web_traffic_stream = stream(STREAM_SIZE)"
   ]
  },
  {
   "cell_type": "code",
   "execution_count": 6,
   "metadata": {},
   "outputs": [
    {
     "name": "stdout",
     "output_type": "stream",
     "text": [
      "186.99.192.116\tpython.org\n",
      "202.152.82.171\twikipedia.org\n",
      "130.126.231.205\tpython.org\n",
      "116.142.112.214\tpandas.pydata.org\n",
      "113.124.204.127\tpython.org\n"
     ]
    }
   ],
   "source": [
    "# test run to print the first 5 lines in the traffic stream\n",
    "for x in web_traffic_stream:\n",
    "    print(x)"
   ]
  },
  {
   "cell_type": "markdown",
   "metadata": {},
   "source": [
    "## Data structures"
   ]
  },
  {
   "cell_type": "markdown",
   "metadata": {},
   "source": [
    "### Q1 How many unique IPs are there in the stream?"
   ]
  },
  {
   "cell_type": "markdown",
   "metadata": {},
   "source": [
    "**There are many implementations available for HyperLogLog. Our group decides to implement the one introduced by Wikipedia.**\n",
    "<br>\n",
    "Source : https://en.wikipedia.org/wiki/HyperLogLog."
   ]
  },
  {
   "cell_type": "markdown",
   "metadata": {},
   "source": [
    "There are two main differences between the one introduced in lecture and in Wikipedia:"
   ]
  },
  {
   "cell_type": "markdown",
   "metadata": {},
   "source": [
    "* *The hash function*. In the lecture slides, the chosen hash function should map variable x to a number in [0, ..., w-1] where w = 32 or 64. In Wikipedia, the chosen hash function can map x to any range of integer."
   ]
  },
  {
   "cell_type": "markdown",
   "metadata": {},
   "source": [
    "* *The count estimation*. In lecture slides, the multiplication of m and the hormonic mean of the array M is returned. However, in Wikipedia, a more sophisticated estimation is presented which results in smaller error in estimation. We have attached a screenshot of the estimation formula below."
   ]
  },
  {
   "attachments": {
    "Screenshot%202019-11-04%20at%2004.57.50.png": {
     "image/png": "[encoded data removed]"
    }
   },
   "cell_type": "markdown",
   "metadata": {},
   "source": [
    ">![Screenshot%202019-11-04%20at%2004.57.50.png](attachment:Screenshot%202019-11-04%20at%2004.57.50.png)"
   ]
  },
  {
   "cell_type": "code",
   "execution_count": 7,
   "metadata": {},
   "outputs": [],
   "source": [
    "def hyperLogLog(stream, m=64): # m has to be power of 2\n",
    "    \n",
    "    # initiate an array M with m counters\n",
    "    M = [0,] * (m+1) # index 0 is dummy, we only focus on index 1 to m\n",
    "    \n",
    "    while (True):\n",
    "        \n",
    "        # try getting the next element\n",
    "        try:\n",
    "            IP=next(stream).split()[0]\n",
    "            \n",
    "        # function should end here\n",
    "        # enter the except block when there is no more incoming data\n",
    "        except: \n",
    "            \n",
    "            # get Z (note, exclude index 0 in array M)\n",
    "            Z = sum(list(map(lambda x : 2**-M[x], M[1:]))) ** -1\n",
    "            a_m = (quad(lambda u : math.log((2+u)/(1+u),2)**m , 0, np.inf)[0] * m)** -1\n",
    "            E = a_m * (m**2) * Z\n",
    "\n",
    "            return E\n",
    "    \n",
    "        # hash the IP address\n",
    "        hashing=mmh3.hash(IP)\n",
    "        \n",
    "        # obtain a binary representation of the IP address\n",
    "        binary=\"{0:b}\".format(hashing)\n",
    "\n",
    "        # split the binary string into upper and lower parts\n",
    "        upper=binary[0: int(math.log(m,2))]\n",
    "        lower=binary[int(math.log(m,2)):]\n",
    "\n",
    "        # compute position p of the leftmost 1-bit of the lower part\n",
    "        # if there is no 1 in the lower part, just return the length of the lower part\n",
    "        # this is based on the fact that 0000 occurs with the same probability as 0001\n",
    "        p=lower.find(\"1\") + 1 if lower.find(\"1\") != -1 else len(lower)\n",
    "\n",
    "        # obtain the index j which is the integer representation of the upper part + 1\n",
    "        j=abs(int(upper, 2)) + 1\n",
    "\n",
    "        # update array M\n",
    "        M[j]= max(M[j],p)\n",
    "    \n",
    "    return"
   ]
  },
  {
   "cell_type": "markdown",
   "metadata": {},
   "source": [
    " "
   ]
  },
  {
   "cell_type": "markdown",
   "metadata": {},
   "source": [
    "### Q2 How many unique IPs are there for each domain?"
   ]
  },
  {
   "cell_type": "markdown",
   "metadata": {},
   "source": [
    "**This is a generalization of Q1. We will modify HyperLogLog algorithm.**"
   ]
  },
  {
   "cell_type": "markdown",
   "metadata": {},
   "source": [
    "**Our approach:**\n",
    "1. Maintain a dictionary where key is domain and value is a HyperLogLog (HLL) array.\n",
    "2. For each incoming record, update corresponding HLL array, depending on the domain.\n",
    "3. Compute unique IPs for each domain. "
   ]
  },
  {
   "cell_type": "code",
   "execution_count": 8,
   "metadata": {},
   "outputs": [],
   "source": [
    "def hyperLogLog_at_scale(stream, m=64): # m has to be power of 2\n",
    "    \n",
    "    # initialize a domain dictionary with format {key = domain name : value = M array}\n",
    "    domain_dic={}\n",
    "    \n",
    "    while (True):\n",
    "        try:\n",
    "            element=next(stream).split()\n",
    "            IP=element[0]\n",
    "            domain=element[1]\n",
    "\n",
    "        except: \n",
    "            \n",
    "            # init a new dictionary with format {key = domain name : value = estimated count}\n",
    "            count_dic={}\n",
    "            \n",
    "            for (domain, M) in domain_dic.items():\n",
    "                Z = sum(list(map(lambda x : 2**-M[x], M[1:]))) ** -1\n",
    "                a_m = (quad(lambda u : math.log((2+u)/(1+u),2)**m , 0, np.inf)[0] * m)** -1\n",
    "                E = a_m * (m**2) * Z\n",
    "                \n",
    "                # add the domain and its corresponding unique counts to the dictionary\n",
    "                count_dic[domain]=E\n",
    "                       \n",
    "            return count_dic\n",
    "        \n",
    "        # first time seeing this domain\n",
    "        # create a M array of m counters\n",
    "        if domain not in domain_dic:\n",
    "            domain_dic[domain] = [0,] * (m+1)\n",
    "        \n",
    "        # hash the IP address\n",
    "        hashing=mmh3.hash(IP)\n",
    "        \n",
    "        # obtain a binary representation of the IP address\n",
    "        binary=\"{0:b}\".format(hashing)\n",
    "\n",
    "        # split the binary string into upper and lower parts\n",
    "        upper=binary[0: int(math.log(m,2))]\n",
    "        lower=binary[int(math.log(m,2)):]\n",
    "\n",
    "        # compute position p of the leftmost 1-bit of the lower part\n",
    "        p=lower.find(\"1\") + 1 if lower.find(\"1\") != -1 else len(lower)\n",
    "\n",
    "        # obtain the index j which is the integer representation of the upper part + 1\n",
    "        j=abs(int(upper, 2)) + 1\n",
    "\n",
    "        # update array M for that specific domain\n",
    "        value = domain_dic[domain]\n",
    "        value[j] = max(value[j],p)\n",
    "        domain_dic[domain] = value\n",
    "    \n",
    "    # dummy return value\n",
    "    return"
   ]
  },
  {
   "cell_type": "markdown",
   "metadata": {},
   "source": [
    " "
   ]
  },
  {
   "cell_type": "markdown",
   "metadata": {},
   "source": [
    "### Q3 How many times was IP X seen on domain Y? (for some X and Y provided at run time)"
   ]
  },
  {
   "cell_type": "markdown",
   "metadata": {},
   "source": [
    "**We will implement the countMin algorithm.**"
   ]
  },
  {
   "cell_type": "markdown",
   "metadata": {},
   "source": [
    "> Note: Python, unlike Java, does not have compile time and run time. So our group assumes that the question askes us to build a countMin on each domain first. Then, IP X and domain Y will be provided in a separate query. If IP_X and domain_Y are provided right at the start, we can simply filter and obtain the accurate frequency with the pseudo-code below.\n",
    "\n",
    "```python\n",
    "def helper(stream, IP_X, Domain_Y):\n",
    "    \n",
    "    counter = 0\n",
    "    \n",
    "    get_next_record from stream\n",
    "    \n",
    "    if domain == domain_Y and IP == IP_X:\n",
    "        \n",
    "        counter +=1\n",
    "    \n",
    "    return counter\n",
    "```"
   ]
  },
  {
   "cell_type": "markdown",
   "metadata": {},
   "source": [
    "**Our approach:**\n",
    "1. Maintain a dictionary whose key is the domain name and value is the countMin M matrix.\n",
    "<br>\n",
    "<br>\n",
    "2. Process each record based on its domain and update its corresponding M matrix.\n",
    "<br>\n",
    "<br>\n",
    "3. Return the dictionary. "
   ]
  },
  {
   "cell_type": "markdown",
   "metadata": {},
   "source": [
    "*First, prepare the dictionary prior to run time --> pre-compute*"
   ]
  },
  {
   "cell_type": "code",
   "execution_count": 9,
   "metadata": {},
   "outputs": [],
   "source": [
    "# pre-compute the countMin dictionary\n",
    "def countMin(stream, w=16, d=5):\n",
    "    \n",
    "    # init a domain dictionary with format (key=domain name : value = M matrix)\n",
    "    domain_dic={}\n",
    "    \n",
    "    while (True):\n",
    "        \n",
    "        # try getting the next IP adress\n",
    "        try:\n",
    "            element=next(stream).split()\n",
    "            IP=element[0]\n",
    "            domain=element[1]\n",
    "    \n",
    "        # function should end here\n",
    "        except: \n",
    "            return domain_dic\n",
    "        \n",
    "        # create a w*d matrix for each domain\n",
    "        if domain not in domain_dic:\n",
    "            outer=[]\n",
    "            for i in range(d):\n",
    "                inner=[0,] * w\n",
    "                outer.append(inner)\n",
    "            # assign into dictionary\n",
    "            domain_dic[domain] = outer\n",
    "        \n",
    "        # loop through each hashing function\n",
    "        for s in range(0,d):\n",
    "            # get a unique hashing\n",
    "            hashing=mmh3.hash(IP, seed=s) % w\n",
    "\n",
    "            # obtain the matrix for specified domain\n",
    "            value = domain_dic[domain]\n",
    "            \n",
    "            # update the matrix\n",
    "            value[s][hashing] +=1\n",
    "            \n",
    "            # assign new matrix back to the dictionary\n",
    "            domain_dic[domain] = value\n",
    "            \n",
    "    # dummy return\n",
    "    return"
   ]
  },
  {
   "cell_type": "markdown",
   "metadata": {},
   "source": [
    "*Then, provide IP X and Domain Y at run time --> extract estimates*"
   ]
  },
  {
   "cell_type": "code",
   "execution_count": 10,
   "metadata": {},
   "outputs": [],
   "source": [
    "# provide IP_X and Domain_Y at run time to extract from dictionary\n",
    "def getResult(dictionary, IP_X, Domain_Y, w=16, d=5):\n",
    "    Matrix=dictionary[Domain_Y]\n",
    "    res_list=[]\n",
    "    for s in range(0,d):\n",
    "        hashing=mmh3.hash(IP_X, seed=s) % w\n",
    "        res_list.append(Matrix[s][hashing])\n",
    "    return min(res_list)"
   ]
  },
  {
   "cell_type": "markdown",
   "metadata": {},
   "source": [
    " "
   ]
  },
  {
   "cell_type": "markdown",
   "metadata": {},
   "source": [
    "### Q4 How many unique IPs are there for the domains  𝑑1,𝑑2,… ?"
   ]
  },
  {
   "cell_type": "markdown",
   "metadata": {},
   "source": [
    "**Our solution is based on dictionary and HyperLogLog.**"
   ]
  },
  {
   "cell_type": "markdown",
   "metadata": {},
   "source": [
    "> Solution to this qnestion is pretty similar to the one to question 2. If the number of domains are small, it is perfectly fine to use the solution to question 2. Our group implements the below functions with the assumption that there are too many domains in the data stream such that it is not possible to store the information of each domain."
   ]
  },
  {
   "cell_type": "markdown",
   "metadata": {},
   "source": [
    "**Our approach:**\n",
    "1. Maintain a dictionary where key is domain and value is a HyperLogLog array.\n",
    "<br>\n",
    "<br>\n",
    "2. For each incoming record, update HLL array if the domain is in the dictionary. Else, ignore.\n",
    "<br>\n",
    "<br>\n",
    "3. Compute unique IPs for each domain. "
   ]
  },
  {
   "cell_type": "code",
   "execution_count": 11,
   "metadata": {},
   "outputs": [],
   "source": [
    "def hyperLogLog_multiple_domains(stream, domain1, *domains, m=64): \n",
    "    # minimum number of domains to be specified: 1\n",
    "    # additionally, user can specify more than 1 domain\n",
    "    \n",
    "    # create a domain list containing all the domains at interest\n",
    "    domain_list = [domain1,]\n",
    "    domain_list.extend(list(domains))\n",
    "    \n",
    "    # initialize a domain dictionary with format {key = domain name : value = M array}\n",
    "    domain_dic={}\n",
    "    \n",
    "    while (True):\n",
    "        try:\n",
    "            element=next(stream).split()\n",
    "            IP=element[0]\n",
    "            domain=element[1]\n",
    "\n",
    "        # enter the except block when there is no more incoming data\n",
    "        except: \n",
    "            # init a new dictionary with format {key = domain name : value = estimated count}\n",
    "            count_dic={}\n",
    "            \n",
    "            for (domain, M) in domain_dic.items():\n",
    "                # get Z (note, exclude index 0 in array M)\n",
    "                Z = sum(list(map(lambda x : 2**-M[x], M[1:]))) ** -1\n",
    "                a_m = (quad(lambda u : math.log((2+u)/(1+u),2)**m , 0, np.inf)[0] * m)** -1\n",
    "                E = a_m * (m**2) * Z\n",
    "                # add the domain and its corresponding unique counts to the dictionary\n",
    "                count_dic[domain]=E\n",
    "                       \n",
    "            return count_dic\n",
    "        \n",
    "        # if the incoming domain is of our interest, and that it is the first time we see this domain\n",
    "        # create a M array of m counters\n",
    "        if domain in domain_list and domain not in domain_dic:\n",
    "            domain_dic[domain] = [0,] * (m+1)\n",
    "        \n",
    "        # hash the IP address\n",
    "        hashing=mmh3.hash(IP)\n",
    "\n",
    "        # obtain a binary representation of the IP address\n",
    "        binary=\"{0:b}\".format(hashing)\n",
    "\n",
    "        # split the binary string into upper and lower parts\n",
    "        upper=binary[0: int(math.log(m,2))]\n",
    "        lower=binary[int(math.log(m,2)):]\n",
    "\n",
    "        # compute position p of the leftmost 1-bit of the lower part\n",
    "        p=lower.find(\"1\") + 1 if lower.find(\"1\") != -1 else len(lower)\n",
    "\n",
    "        # obtain the index j which is the integer representation of the upper part + 1\n",
    "        j=abs(int(upper, 2)) + 1\n",
    "\n",
    "        # update array M for that specific domain\n",
    "        if domain in domain_list:\n",
    "            value = domain_dic[domain]\n",
    "            value[j] = max(value[j],p)\n",
    "            domain_dic[domain] = value\n",
    "    \n",
    "    # dummy return value\n",
    "    return"
   ]
  },
  {
   "cell_type": "markdown",
   "metadata": {},
   "source": [
    " "
   ]
  },
  {
   "cell_type": "markdown",
   "metadata": {},
   "source": [
    "### Q5 How many times was IP X seen on domains  𝑑1,𝑑2,… ?"
   ]
  },
  {
   "cell_type": "markdown",
   "metadata": {},
   "source": [
    "**Our solution is based on countMin, with the help of an additional dictionary to keep track of the frequency of the requested domains.**"
   ]
  },
  {
   "cell_type": "markdown",
   "metadata": {},
   "source": [
    "> Solution to this qnestion is similar to the one to question 3. If the number of domains are small, it is perfectly fine to use the solution to question 3. Our group implements the below functions with the assumption that there are too many domains in the data stream such that it is not possible to store the information of each domain."
   ]
  },
  {
   "cell_type": "markdown",
   "metadata": {},
   "source": [
    "**Our approach:**\n",
    "1. Maintain a dictionary with key = domain and value = countMin M matrix.\n",
    "<br>\n",
    "<br>\n",
    "2. Process each new record based on its domain and update corresponding countMin M matrix.\n",
    "<br>\n",
    "<br>\n",
    "3. When IP_X and domains are provided at run time, calculate the estimates from the pre-computed dictionary."
   ]
  },
  {
   "cell_type": "markdown",
   "metadata": {},
   "source": [
    "*First, prepare the dictionary prior to run time --> pre-compute*"
   ]
  },
  {
   "cell_type": "code",
   "execution_count": 12,
   "metadata": {},
   "outputs": [],
   "source": [
    "def countMin_multiple_domains(stream, domain_list, w, d):\n",
    "        \n",
    "    # initialize a domain dictionary with format (key=domain name : value = M matrix)\n",
    "    domain_dic={}\n",
    "    \n",
    "    while (True):\n",
    "        try:\n",
    "            element=next(stream).split()\n",
    "            IP=element[0]\n",
    "            domain=element[1]\n",
    "    \n",
    "        # function should end here\n",
    "        # enter the except block when there is no more incoming data\n",
    "        except:\n",
    "            # return the final dictionary\n",
    "            return domain_dic\n",
    "        \n",
    "        # create a w*d matrix for each domain at interest\n",
    "        if domain in domain_list:\n",
    "            \n",
    "            # first time seeing this domain\n",
    "            if domain not in domain_dic:\n",
    "                outer=[]\n",
    "                for i in range(d):\n",
    "                    inner=[0,] * w\n",
    "                    outer.append(inner)\n",
    "                # add the domain and its matrix to the dictionary\n",
    "                domain_dic[domain] = outer\n",
    "        \n",
    "            # iterate through each hash function\n",
    "            for s in range(0,d):\n",
    "                # hash the IP address\n",
    "                hashing=mmh3.hash(IP, seed=s) % w\n",
    "\n",
    "                # obtain the current matrix for that domain\n",
    "                value = domain_dic[domain]\n",
    "\n",
    "                # increment the number of occurrences by 1 and update the matrix\n",
    "                value[s][hashing] +=1\n",
    "\n",
    "                # assign the updated matrix back to the dictionary\n",
    "                domain_dic[domain] = value\n",
    "            \n",
    "    # dummy return value\n",
    "    return"
   ]
  },
  {
   "cell_type": "markdown",
   "metadata": {},
   "source": [
    "*Then, provide IP X and the domains at interest at run time --> extract estimates*"
   ]
  },
  {
   "cell_type": "code",
   "execution_count": 13,
   "metadata": {},
   "outputs": [],
   "source": [
    "# makes use of the countMin_multiple_domains function\n",
    "# provide IP_X and domains at runtime to extract from the dictionary obtained from the countMin_multiple_domains fucntion\n",
    "\n",
    "def getResult_multiple_domains(stream, IP_X, domain1, *domains, w=16, d=5):\n",
    "        \n",
    "    # create a domain list containing all the domains at interest\n",
    "    domain_list = [domain1,]\n",
    "    domain_list.extend(domains)\n",
    "    \n",
    "    # obtain the countMin_dic from countMin_multiple_domains()\n",
    "    countMin_Dic = countMin_multiple_domains(stream, domain_list, w, d)\n",
    "    \n",
    "    # initialize a dictionary to store the number of times IP X is seen on different domains\n",
    "    # {domain1:n times, domain2: m times, ...}\n",
    "    res_dic = {}\n",
    "    \n",
    "    # iterate through the domain list\n",
    "    for domain in domain_list:  \n",
    "    \n",
    "        # obtain the frequency matrix for a particular domain\n",
    "        Matrix=countMin_Dic[domain]\n",
    "\n",
    "        # initialize a list to store the all the estimated numbers of occurrences from d hashing functions\n",
    "        res_list=[]\n",
    "        \n",
    "        for s in range(0,d):\n",
    "            hashing=mmh3.hash(IP_X, seed=s) % w\n",
    "            res_list.append(Matrix[s][hashing])\n",
    "            count = min(res_list)\n",
    "            # add the count for this particular domain to res_dic\n",
    "            res_dic[domain] = count\n",
    "    \n",
    "    return res_dic"
   ]
  },
  {
   "cell_type": "markdown",
   "metadata": {},
   "source": [
    " "
   ]
  },
  {
   "cell_type": "markdown",
   "metadata": {},
   "source": [
    "### Q6 What are the X most frequent IPs in the stream?"
   ]
  },
  {
   "cell_type": "markdown",
   "metadata": {},
   "source": [
    "### <font color = \"blue\">1. Naive Algorithm</font>"
   ]
  },
  {
   "cell_type": "markdown",
   "metadata": {},
   "source": [
    "**We will first implement a data structure taught in the class. However, it <font color='red'> DOES NOT </font> solve the problem.**"
   ]
  },
  {
   "cell_type": "markdown",
   "metadata": {},
   "source": [
    "> Finding the top X most frequent IPs is an extension of finding the most frequent IP. \n",
    "\n",
    "> Our group modifies the Boyer–Moore majority vote algorithm. Source: https://en.wikipedia.org/wiki/Boyer%E2%80%93Moore_majority_vote_algorithm"
   ]
  },
  {
   "cell_type": "markdown",
   "metadata": {},
   "source": [
    "**Our approach:**\n",
    "1. Maintain a dictionary of size X. Key is IP and value is corresponding frequency.\n",
    "<br>\n",
    "<br>\n",
    "2. For each new record e, if e is in the dictionary, increment the frequency by 1.\n",
    "<br>\n",
    "<br>\n",
    "3. If e is not in the dictionary and the dictionary size is smaller than X, add e to the dictionary with frequency being 1.\n",
    "<br>\n",
    "<br>\n",
    "4. If the dictionary size is X, then decrease all frequencies by 1.\n",
    "<br>\n",
    "<br>\n",
    "5. Remove the key-value pair from the dictionary if the value becomes 0."
   ]
  },
  {
   "cell_type": "code",
   "execution_count": 14,
   "metadata": {},
   "outputs": [],
   "source": [
    "def majority_voting_modified(stream, X):\n",
    "    # initiate a dictionary with format {key = IP : value = freqency}\n",
    "    topX = {}\n",
    "    \n",
    "    while (True):\n",
    "        # getting next IP\n",
    "        try:\n",
    "            IP = next(stream).split(\"\\t\")[0]\n",
    "        \n",
    "        # when no more incoming record\n",
    "        except:\n",
    "            return topX\n",
    "        \n",
    "        # Case 1 : IP in the dictionary\n",
    "        if IP in topX:\n",
    "            topX[IP] += 1\n",
    "        \n",
    "        # Case 2: IP not in dictionary\n",
    "        else:\n",
    "            \n",
    "            # Case 2a : topX has vacancy\n",
    "            if len(topX) < X:\n",
    "                topX[IP] = 1\n",
    "                \n",
    "            # Case 2b: topX does not have vacancy\n",
    "            else:\n",
    "                remove=[]\n",
    "                for key in topX:\n",
    "                    topX[key] -= 1\n",
    "                    if topX[key] == 0:\n",
    "                        remove.append(key)\n",
    "                        \n",
    "                # remove key-value pair with value == 0\n",
    "                for rm in remove:\n",
    "                    topX.pop(rm)\n",
    "        print(topX)\n",
    "    \n",
    "    return"
   ]
  },
  {
   "cell_type": "markdown",
   "metadata": {},
   "source": [
    "test run:"
   ]
  },
  {
   "cell_type": "code",
   "execution_count": 15,
   "metadata": {},
   "outputs": [],
   "source": [
    "STREAM_SIZE = 100\n",
    "web_traffic_stream = stream(STREAM_SIZE)"
   ]
  },
  {
   "cell_type": "code",
   "execution_count": 16,
   "metadata": {},
   "outputs": [
    {
     "name": "stdout",
     "output_type": "stream",
     "text": [
      "{'186.99.192.116': 1}\n",
      "{'186.99.192.116': 1, '202.152.82.171': 1}\n",
      "{'186.99.192.116': 1, '202.152.82.171': 1, '130.126.231.205': 1}\n",
      "{'186.99.192.116': 1, '202.152.82.171': 1, '130.126.231.205': 1, '116.142.112.214': 1}\n",
      "{'186.99.192.116': 1, '202.152.82.171': 1, '130.126.231.205': 1, '116.142.112.214': 1, '113.124.204.127': 1}\n",
      "{}\n",
      "{'138.74.228.219': 1}\n",
      "{'138.74.228.219': 1, '56.120.106.87': 1}\n",
      "{'138.74.228.219': 1, '56.120.106.87': 1, '189.119.55.225': 1}\n",
      "{'138.74.228.219': 1, '56.120.106.87': 1, '189.119.55.225': 1, '180.110.73.101': 1}\n",
      "{'138.74.228.219': 1, '56.120.106.87': 1, '189.119.55.225': 1, '180.110.73.101': 1, '125.147.103.124': 1}\n",
      "{}\n",
      "{'64.108.133.139': 1}\n",
      "{'64.108.133.139': 1, '87.91.133.89': 1}\n",
      "{'64.108.133.139': 1, '87.91.133.89': 1, '111.141.147.118': 1}\n",
      "{'64.108.133.139': 1, '87.91.133.89': 1, '111.141.147.118': 1, '97.65.99.76': 1}\n",
      "{'64.108.133.139': 1, '87.91.133.89': 1, '111.141.147.118': 1, '97.65.99.76': 1, '80.99.56.157': 1}\n",
      "{}\n",
      "{'200.132.86.152': 1}\n",
      "{'200.132.86.152': 1, '98.200.179.72': 1}\n",
      "{'200.132.86.152': 1, '98.200.179.72': 1, '82.129.212.123': 1}\n",
      "{'200.132.86.152': 1, '98.200.179.72': 1, '82.129.212.123': 1, '118.134.162.177': 1}\n",
      "{'200.132.86.152': 1, '98.200.179.72': 1, '82.129.212.123': 1, '118.134.162.177': 1, '142.129.144.83': 1}\n",
      "{}\n",
      "{'166.31.84.181': 1}\n",
      "{'166.31.84.181': 1, '194.77.131.184': 1}\n",
      "{'166.31.84.181': 1, '194.77.131.184': 1, '204.76.93.95': 1}\n",
      "{'166.31.84.181': 1, '194.77.131.184': 1, '204.76.93.95': 1, '164.82.140.88': 1}\n",
      "{'166.31.84.181': 1, '194.77.131.184': 1, '204.76.93.95': 1, '164.82.140.88': 1, '175.168.120.155': 1}\n",
      "{}\n",
      "{'109.96.154.73': 1}\n",
      "{'109.96.154.73': 1, '217.77.159.138': 1}\n",
      "{'109.96.154.73': 1, '217.77.159.138': 1, '127.194.124.74': 1}\n",
      "{'109.96.154.73': 1, '217.77.159.138': 1, '127.194.124.74': 1, '135.112.123.187': 1}\n",
      "{'109.96.154.73': 1, '217.77.159.138': 1, '127.194.124.74': 1, '135.112.123.187': 1, '183.99.127.119': 1}\n",
      "{}\n",
      "{'145.91.109.142': 1}\n",
      "{'145.91.109.142': 1, '194.160.147.218': 1}\n",
      "{'145.91.109.142': 1, '194.160.147.218': 1, '174.80.93.208': 1}\n",
      "{'145.91.109.142': 1, '194.160.147.218': 1, '174.80.93.208': 1, '188.184.111.204': 1}\n",
      "{'145.91.109.142': 1, '194.160.147.218': 1, '174.80.93.208': 1, '188.184.111.204': 1, '118.132.34.85': 1}\n",
      "{}\n",
      "{'93.159.94.107': 1}\n",
      "{'93.159.94.107': 1, '102.96.109.126': 1}\n",
      "{'93.159.94.107': 1, '102.96.109.126': 1, '58.119.72.88': 1}\n",
      "{'93.159.94.107': 1, '102.96.109.126': 1, '58.119.72.88': 1, '108.212.197.110': 1}\n",
      "{'93.159.94.107': 1, '102.96.109.126': 1, '58.119.72.88': 1, '108.212.197.110': 1, '73.112.136.99': 1}\n",
      "{}\n",
      "{'177.107.174.173': 1}\n",
      "{'177.107.174.173': 1, '174.98.209.145': 1}\n",
      "{'177.107.174.173': 1, '174.98.209.145': 1, '251.223.134.114': 1}\n",
      "{'177.107.174.173': 1, '174.98.209.145': 1, '251.223.134.114': 1, '112.178.122.82': 1}\n",
      "{'177.107.174.173': 1, '174.98.209.145': 1, '251.223.134.114': 1, '112.178.122.82': 1, '141.93.32.94': 1}\n",
      "{}\n",
      "{'171.149.69.88': 1}\n",
      "{'171.149.69.88': 1, '115.170.85.106': 1}\n",
      "{'171.149.69.88': 1, '115.170.85.106': 1, '132.117.139.124': 1}\n",
      "{'171.149.69.88': 1, '115.170.85.106': 1, '132.117.139.124': 1, '100.253.180.141': 1}\n",
      "{'171.149.69.88': 1, '115.170.85.106': 1, '132.117.139.124': 1, '100.253.180.141': 1, '89.151.206.101': 1}\n",
      "{}\n",
      "{'78.54.71.146': 1}\n",
      "{'78.54.71.146': 1, '203.85.185.49': 1}\n",
      "{'78.54.71.146': 1, '203.85.185.49': 1, '147.45.48.41': 1}\n",
      "{'78.54.71.146': 1, '203.85.185.49': 1, '147.45.48.41': 1, '47.90.98.150': 1}\n",
      "{'78.54.71.146': 1, '203.85.185.49': 1, '147.45.48.41': 1, '47.90.98.150': 1, '69.185.128.164': 1}\n",
      "{}\n",
      "{'161.134.127.210': 1}\n",
      "{'161.134.127.210': 1, '231.93.122.167': 1}\n",
      "{'161.134.127.210': 1, '231.93.122.167': 1, '140.53.93.159': 1}\n",
      "{'161.134.127.210': 1, '231.93.122.167': 1, '140.53.93.159': 1, '105.98.155.244': 1}\n",
      "{'161.134.127.210': 1, '231.93.122.167': 1, '140.53.93.159': 1, '105.98.155.244': 1, '110.220.151.140': 1}\n",
      "{}\n",
      "{'189.104.45.129': 1}\n",
      "{'189.104.45.129': 1, '119.123.154.109': 1}\n",
      "{'189.104.45.129': 1, '119.123.154.109': 1, '60.58.245.83': 1}\n",
      "{'189.104.45.129': 1, '119.123.154.109': 1, '60.58.245.83': 1, '143.137.33.94': 1}\n",
      "{'189.104.45.129': 1, '119.123.154.109': 1, '60.58.245.83': 1, '143.137.33.94': 1, '149.113.115.193': 1}\n",
      "{}\n",
      "{'212.168.99.114': 1}\n",
      "{'212.168.99.114': 1, '188.104.198.76': 1}\n",
      "{'212.168.99.114': 1, '188.104.198.76': 1, '94.121.123.151': 1}\n",
      "{'212.168.99.114': 1, '188.104.198.76': 1, '94.121.123.151': 1, '160.183.204.202': 1}\n",
      "{'212.168.99.114': 1, '188.104.198.76': 1, '94.121.123.151': 1, '160.183.204.202': 1, '244.15.83.105': 1}\n",
      "{}\n",
      "{'117.185.138.47': 1}\n",
      "{'117.185.138.47': 1, '125.142.128.86': 1}\n",
      "{'117.185.138.47': 1, '125.142.128.86': 1, '228.115.124.87': 1}\n",
      "{'117.185.138.47': 1, '125.142.128.86': 1, '228.115.124.87': 1, '94.176.112.166': 1}\n",
      "{'117.185.138.47': 1, '125.142.128.86': 1, '228.115.124.87': 1, '94.176.112.166': 1, '194.173.153.224': 1}\n",
      "{}\n",
      "{'152.80.74.237': 1}\n",
      "{'152.80.74.237': 1, '139.121.165.143': 1}\n",
      "{'152.80.74.237': 1, '139.121.165.143': 1, '134.156.98.200': 1}\n",
      "{'152.80.74.237': 1, '139.121.165.143': 1, '134.156.98.200': 1, '203.64.85.102': 1}\n",
      "{'152.80.74.237': 1, '139.121.165.143': 1, '134.156.98.200': 1, '203.64.85.102': 1, '155.94.107.117': 1}\n",
      "{}\n",
      "{'208.114.96.119': 1}\n",
      "{'208.114.96.119': 1, '114.255.47.190': 1}\n",
      "{'208.114.96.119': 1, '114.255.47.190': 1, '175.132.133.122': 1}\n",
      "{'208.114.96.119': 1, '114.255.47.190': 1, '175.132.133.122': 1, '52.30.199.124': 1}\n"
     ]
    },
    {
     "data": {
      "text/plain": [
       "{'208.114.96.119': 1,\n",
       " '114.255.47.190': 1,\n",
       " '175.132.133.122': 1,\n",
       " '52.30.199.124': 1}"
      ]
     },
     "execution_count": 16,
     "metadata": {},
     "output_type": "execute_result"
    }
   ],
   "source": [
    "majority_voting_modified(web_traffic_stream, 5)"
   ]
  },
  {
   "cell_type": "markdown",
   "metadata": {},
   "source": [
    "As we can see from the result, it **<font color=\"red\">DOES NOT</font>** fulfill our requirement which is to return the X most frequent IPs.\n",
    "<br>\n",
    "<br>\n",
    "This is because in our data stream, frequencies of IPs, even for the most frequent ones, are very low. Hence, IPs are removed from dictionary before they appear for the second time. i.e. After every k loops, the dictionary will be empty."
   ]
  },
  {
   "cell_type": "markdown",
   "metadata": {},
   "source": [
    "### <font color = \"blue\">2. Final Algorithm</font>"
   ]
  },
  {
   "cell_type": "markdown",
   "metadata": {},
   "source": [
    "**The naive algorithm described above is unable to solve the problem. Therefore, we implement our own data structure based on CountMin. Our final algorithm has a worse space complexity than the naive algorithm, but <font color=\"red\">IS ABLE TO</font> return the desired answer relatively quickly.**"
   ]
  },
  {
   "cell_type": "markdown",
   "metadata": {},
   "source": [
    "**Our approach:**\n",
    "1. Maintain a countMin M matrix to store frequency of each IP.\n",
    "<br>\n",
    "<br>\n",
    "2. Maintain a dictionary with key = frequency and value = list of IPs. Dictionary size is at maximum X.\n",
    "<br>\n",
    "<br>\n",
    "3. For each new record:\n",
    "    1. update M matrix\n",
    "    2. extract its frequency\n",
    "    3. update dictionary (see the pseudo-code below)"
   ]
  },
  {
   "cell_type": "markdown",
   "metadata": {},
   "source": [
    "```python\n",
    "def add_single_IP_to_dic():\n",
    "    if    IP exists in any key-value pair --> remove from list of IPs\n",
    "         \n",
    "    if    frequency is not in the dictionary --> create a new key-value pair\n",
    "    else  add IP to the corresponding key-value pair\n",
    " \n",
    "def update_dictionary():\n",
    "    if dictionary size < X:\n",
    "        add_single_IP_to_dic()\n",
    "    else\n",
    "        minF = minimum frequency stored in the dictionary\n",
    "        if    frequency > minF --> remove minF key-value pair\n",
    "                               --> add_single_IP_to_dic()\n",
    "        if    frequency == minF --> add_single_IP_to_dic()\n",
    "```"
   ]
  },
  {
   "cell_type": "markdown",
   "metadata": {},
   "source": [
    "4. Settle ties. There may be more than one IPs with the same frequency. When the function returns the top X, it must include all IPs with the same frequency if their frequencies are the top X. This would mean that there may be more than X number of IPs in the topX list."
   ]
  },
  {
   "cell_type": "code",
   "execution_count": 53,
   "metadata": {},
   "outputs": [],
   "source": [
    "# topX_dic is a dictionary of the following format: \n",
    "# {frequency1 : [IP1, IP2, ...], frequency2 : [IP3, IP4, ...], ...}\n",
    "# The maximum dictionary size is X. This happens when each frequency corresponds to one and only one IP.\n",
    "def add_to_topX_dic(topX_dic, IP, count):    \n",
    "    \n",
    "    # firstly, iterate through the dictionary to find if this IP already exists\n",
    "    for freq, IPs in topX_dic.items():\n",
    "        \n",
    "        # remove the IP from its old count key if it exists\n",
    "        if IP in IPs:\n",
    "            IPs.remove(IP)\n",
    "            topX_dic[freq] = IPs\n",
    "    \n",
    "    # if it is the first time this count is seen in the dictionary, create a key-value pair straightaway\n",
    "    if count not in topX_dic:\n",
    "        topX_dic[count] = [IP,]\n",
    "    \n",
    "    # if this count already exists in the dictionary\n",
    "    else:\n",
    "        # add IP as a value of its new count key in the dictionary\n",
    "        lst = topX_dic[count]\n",
    "        lst.append(IP)\n",
    "        topX_dic[count] = lst\n",
    "    \n",
    "    return topX_dic\n",
    "    \n",
    "    \n",
    "    \n",
    "# define a function to check whether we should put an IP into the topX dictionary, and do so when necessary\n",
    "def update_topX_dic(topX_dic, IP, count, X):\n",
    "        \n",
    "    # if topX_dic is not fully filled (fewer than X pairs)\n",
    "    if len(topX_dic) < X:\n",
    "        # add this IP to topX_dic\n",
    "        topX_dic = add_to_topX_dic(topX_dic, IP, count)\n",
    "    \n",
    "    else:\n",
    "        # sort the current top frequencies in ascending order\n",
    "        top_frequencies = sorted(list(topX_dic.keys()))\n",
    "        \n",
    "        # find the current minimum frequency accepted by the topX dictionary\n",
    "        min_freq = top_frequencies[0]\n",
    "        \n",
    "        # if the count is greater than min_freq, add this item to topX_dictionary\n",
    "        # delete the key-value pair with the min_freq\n",
    "        if count > min_freq:\n",
    "            topX_dic = add_to_topX_dic(topX_dic, IP, count)\n",
    "            topX_dic.pop(min_freq)\n",
    "            \n",
    "        # if the count is equal to min_freq, add this item to topX_dictionary, but do not delete the min_freq key-value pair\n",
    "        if count == min_freq:\n",
    "            topX_dic = add_to_topX_dic(topX_dic, IP, count)\n",
    "    \n",
    "    return topX_dic\n",
    " \n",
    "    \n",
    "# a tie occurs when the last few most frequent IPs have the same frequency\n",
    "# e.g. X = 10; both the 10th and the 11th IP in the top X list have the same frequency. In such cases, we will include both\n",
    "# therefore, the actual number of IPs in the top X list may exceed X.\n",
    "def settle_ties(topX_dic, X):\n",
    "    \n",
    "    # initialize a counter to keep track of the total number of IPs in the top X list\n",
    "    counter = 0\n",
    "    \n",
    "    # initialize a list that stores the top X most frequent counts and their IPs\n",
    "    # [(IP1, frequency1), (IP2, frequency2), ...]\n",
    "    topX_list = []\n",
    "    \n",
    "    # obtain the sorted frequencies in the dictionary in descending order\n",
    "    sorted_frequencies = sorted(topX_dic.keys(), reverse = True)\n",
    "    \n",
    "    for freq in sorted_frequencies:\n",
    "        # if no IPs have been added to topX_list, at least add the first set of IPs to the list\n",
    "        if counter == 0:\n",
    "            for IP in topX_dic[freq]:\n",
    "                topX_list.append((IP, freq))\n",
    "            # increment the counter by the number of IPs\n",
    "            counter += len(topX_dic[freq]) \n",
    "        \n",
    "        # if after adding the previous IPs to the list, len(topX_list) equals to X exactly, escape the for loop\n",
    "        elif counter == X:\n",
    "            break\n",
    "        \n",
    "        # if adding IPs with this frequency to the topX list does not make the length go beyond X, add these to the list \n",
    "        elif counter + len(topX_dic[freq]) < X:\n",
    "            for IP in topX_dic[freq]:\n",
    "                topX_list.append((IP, freq))\n",
    "            # increment the counter by the number of IPs\n",
    "            counter += len(topX_dic[freq]) \n",
    "        \n",
    "        # else settle ties by add the IPs, then escape the for loop\n",
    "        else:\n",
    "            for IP in topX_dic[freq]:\n",
    "                topX_list.append((IP, freq))\n",
    "            break\n",
    "        \n",
    "    # sort the topX list in descending order of counts\n",
    "    topX_list.sort(key=lambda tup: tup[1], reverse=True)\n",
    "    \n",
    "    # return the topX IPs and their counts in the form of a dictionary\n",
    "    return dict(topX_list)"
   ]
  },
  {
   "cell_type": "code",
   "execution_count": 54,
   "metadata": {},
   "outputs": [],
   "source": [
    "def topX_frequency(stream, X, w=32, d=10):\n",
    "    \n",
    "    M=[]\n",
    "    for i in range(d):\n",
    "        inner=[0,] * w\n",
    "        M.append(inner)\n",
    "    \n",
    "    # initialize a dictionary to store the top frequencies and also settle ties (if any)\n",
    "    # {frequency1 : [IP1, IP2, ...], frequency2 : [IP3, IP4, ...], ...}\n",
    "    topX_dic = {}    \n",
    "    \n",
    "    while (True):\n",
    "        \n",
    "        # try getting the next element\n",
    "        try:\n",
    "            element=next(stream).split()\n",
    "            IP=element[0]\n",
    "    \n",
    "        # function should end here\n",
    "        # enter the except block when there is no more incoming data\n",
    "        except:\n",
    "            final_topX = settle_ties(topX_dic, X)\n",
    "            return list(final_topX.keys())\n",
    "        \n",
    "        frequency_list=[]\n",
    "        # update M matrix\n",
    "        for s in range(0,d):\n",
    "            # hash the IP address\n",
    "            hashing=mmh3.hash(IP, seed=s) % w\n",
    "            M[s][hashing] +=1\n",
    "            frequency_list.append(M[s][hashing])\n",
    "        \n",
    "        \n",
    "        # find the current estimate of the number of occurrences of an IP address\n",
    "        count = min(frequency_list)\n",
    "        \n",
    "        # check and update the topX dictionary accordingly\n",
    "        topX_dic = update_topX_dic(topX_dic, IP, count, X)\n",
    "    \n",
    "    # dummy return value\n",
    "    return None"
   ]
  },
  {
   "cell_type": "markdown",
   "metadata": {},
   "source": [
    "### <font color = \"blue\">3. Alternate Algorithm</font>"
   ]
  },
  {
   "cell_type": "markdown",
   "metadata": {},
   "source": [
    "Additionally, we would like to propose another method to find the top X most frequent IPs.\n",
    "\n",
    "**We would like to do a reservoir smapling. According to law of probability, the frequency of an IP in the sample should be able to reflect its frequency in the whole stream data.**"
   ]
  },
  {
   "cell_type": "code",
   "execution_count": 112,
   "metadata": {},
   "outputs": [],
   "source": [
    "def reservoir_sampling(stream, k, X):\n",
    "    \n",
    "    # keep a counter for total number of records\n",
    "    count = 0\n",
    "       \n",
    "    # Initialize the reservoir array with size k, index [0, k-1]\n",
    "    reservoir = [\" \"] * k\n",
    "    \n",
    "    # Fill the reservoir array by the first k elements from streaming data\n",
    "    while count < k: \n",
    "        IP = next(stream).split(\"\\t\")[0]\n",
    "        reservoir[count] = IP # fill one slot in reservoir array\n",
    "        count += 1\n",
    "    \n",
    "    # Iterate all incoming streaming elements\n",
    "    while (True):\n",
    "        # get the next incoming element\n",
    "        try:\n",
    "            IP = next(stream).split(\"\\t\")[0]\n",
    "        # finish processing all streaming data\n",
    "        except:\n",
    "            res=sorted(list(dict(Counter(reservoir)).items()), \n",
    "                       key= lambda x : x[1], \n",
    "                       reverse=True)\n",
    "            return res[:X]\n",
    "        \n",
    "\n",
    "        if k < random.randrange(count + 1):\n",
    "            # replace a slot in reservoir array selected uniformly at random\n",
    "            reservoir[random.randrange(k)] = IP\n",
    "            \n",
    "    return None"
   ]
  },
  {
   "cell_type": "markdown",
   "metadata": {},
   "source": [
    "## Analysis"
   ]
  },
  {
   "cell_type": "markdown",
   "metadata": {},
   "source": [
    "### Obtain Exact Counts\n",
    "To obtain the accuracy of our streaming algorithms, we need to first obtain the exact number of occurrences of each domain and IP. The following function `find_exact_counts()` helps us obtain the exact counts and store the information in a dictionary.\n",
    "<br>\n",
    "<br>\n",
    "With the exact answers at hand, we are able to compare them with the estimated answers obtained from our streaming algorithms. We can then benchmark and comment on their performances. In this section, we will provide qualitative explanation to their performances as well."
   ]
  },
  {
   "cell_type": "code",
   "execution_count": 17,
   "metadata": {},
   "outputs": [],
   "source": [
    "# define a function to obtain the exact answers from the streaming data\n",
    "def find_exact_counts(stream):\n",
    "    \n",
    "    # initialize a dictionary of dictionaries that stores the exact counts for each IP for each domain\n",
    "    # {domain1 : {IP1 : occurrences1, IP2 : occurrences2, ...}, domain2: {IP1 : occurrences1, ...}, ...}\n",
    "    exact_dic = {}\n",
    "    \n",
    "    while (True):\n",
    "        \n",
    "        # try getting the next element\n",
    "        try:\n",
    "            element=next(stream).split()\n",
    "            IP=element[0]\n",
    "            domain=element[1]\n",
    "        \n",
    "        # function should end here\n",
    "        # enter the except block when there is no more incoming data\n",
    "        except:\n",
    "            return exact_dic\n",
    "        \n",
    "        if domain not in exact_dic.keys():\n",
    "            exact_dic[domain] = {}\n",
    "            exact_dic[domain][IP] = 1\n",
    "        \n",
    "        else:\n",
    "            sub_dic = exact_dic[domain]\n",
    "            if IP not in sub_dic.keys():\n",
    "                sub_dic[IP] = 1\n",
    "            else:\n",
    "                sub_dic[IP] += 1\n",
    "            # replace the original sub_dic by the updated one\n",
    "            exact_dic[domain] = sub_dic\n",
    "\n",
    "    # dummy return value    \n",
    "    return None"
   ]
  },
  {
   "cell_type": "code",
   "execution_count": 18,
   "metadata": {},
   "outputs": [
    {
     "data": {
      "text/plain": [
       "{'python.org': {'186.99.192.116': 1,\n",
       "  '130.126.231.205': 1,\n",
       "  '113.124.204.127': 1,\n",
       "  '138.74.228.219': 1,\n",
       "  '125.147.103.124': 1,\n",
       "  '98.200.179.72': 1,\n",
       "  '118.134.162.177': 1,\n",
       "  '166.31.84.181': 1,\n",
       "  '188.184.111.204': 1,\n",
       "  '118.132.34.85': 1,\n",
       "  '139.135.81.115': 1,\n",
       "  '58.119.72.88': 1,\n",
       "  '73.112.136.99': 1,\n",
       "  '181.223.154.91': 1,\n",
       "  '203.85.185.49': 1,\n",
       "  '69.185.128.164': 1,\n",
       "  '161.134.127.210': 1,\n",
       "  '105.98.155.244': 1,\n",
       "  '110.220.151.140': 1,\n",
       "  '99.121.45.126': 1,\n",
       "  '125.142.128.86': 1,\n",
       "  '208.114.96.119': 1,\n",
       "  '175.132.133.122': 1,\n",
       "  '110.181.109.83': 1,\n",
       "  '121.68.38.141': 1,\n",
       "  '149.112.137.51': 1,\n",
       "  '134.193.104.115': 1,\n",
       "  '120.101.134.186': 1,\n",
       "  '145.66.255.140': 1,\n",
       "  '89.77.227.69': 1,\n",
       "  '191.126.126.59': 1,\n",
       "  '113.113.65.155': 1,\n",
       "  '88.133.137.210': 1,\n",
       "  '110.193.102.46': 1,\n",
       "  '103.42.49.44': 1,\n",
       "  '110.60.144.62': 1,\n",
       "  '89.149.83.80': 1,\n",
       "  '67.232.160.201': 1,\n",
       "  '67.114.70.30': 1,\n",
       "  '78.122.148.55': 1,\n",
       "  '93.113.116.30': 1,\n",
       "  '53.32.199.128': 1,\n",
       "  '139.35.186.34': 1,\n",
       "  '148.134.115.51': 1,\n",
       "  '116.107.210.121': 1,\n",
       "  '21.127.166.80': 1,\n",
       "  '172.153.106.92': 1,\n",
       "  '93.84.128.98': 1,\n",
       "  '61.34.198.132': 1,\n",
       "  '137.193.88.152': 1,\n",
       "  '127.134.139.141': 1,\n",
       "  '137.174.185.214': 1,\n",
       "  '81.95.146.141': 1,\n",
       "  '49.49.74.179': 1,\n",
       "  '126.130.182.104': 1,\n",
       "  '66.109.65.112': 1,\n",
       "  '49.149.125.125': 1,\n",
       "  '139.241.102.107': 1,\n",
       "  '125.66.115.102': 1,\n",
       "  '123.104.115.135': 1,\n",
       "  '126.84.76.133': 1,\n",
       "  '105.178.64.137': 1,\n",
       "  '150.162.128.137': 1,\n",
       "  '91.165.173.179': 1,\n",
       "  '219.171.106.77': 1,\n",
       "  '172.99.113.120': 1,\n",
       "  '141.174.41.103': 1,\n",
       "  '99.95.145.134': 1,\n",
       "  '120.134.139.134': 1,\n",
       "  '166.162.128.61': 1,\n",
       "  '155.159.230.162': 1,\n",
       "  '158.202.151.55': 1,\n",
       "  '121.171.254.108': 1,\n",
       "  '76.140.214.131': 1,\n",
       "  '167.150.181.122': 1,\n",
       "  '133.77.151.93': 1,\n",
       "  '206.48.137.135': 1,\n",
       "  '123.147.115.121': 1,\n",
       "  '98.232.109.82': 1,\n",
       "  '194.185.229.117': 1,\n",
       "  '180.145.158.149': 1,\n",
       "  '161.98.123.143': 1,\n",
       "  '106.147.137.108': 1,\n",
       "  '89.74.91.137': 1,\n",
       "  '61.171.102.91': 1,\n",
       "  '169.167.128.179': 1,\n",
       "  '151.205.0.149': 1,\n",
       "  '116.101.62.124': 1,\n",
       "  '117.54.129.96': 1,\n",
       "  '160.71.166.144': 1,\n",
       "  '163.173.107.172': 1,\n",
       "  '167.91.193.155': 1,\n",
       "  '125.121.143.80': 1,\n",
       "  '126.116.228.152': 1,\n",
       "  '110.104.94.71': 1,\n",
       "  '174.93.58.101': 1,\n",
       "  '135.89.95.132': 1,\n",
       "  '14.131.170.62': 1,\n",
       "  '128.206.168.112': 1,\n",
       "  '197.98.60.179': 1,\n",
       "  '190.184.124.172': 1,\n",
       "  '97.106.96.132': 1,\n",
       "  '68.176.187.117': 1,\n",
       "  '61.13.138.167': 1,\n",
       "  '144.179.101.105': 1,\n",
       "  '110.240.129.148': 1,\n",
       "  '142.131.91.159': 1,\n",
       "  '139.161.86.119': 1,\n",
       "  '84.109.153.99': 1,\n",
       "  '204.94.82.165': 1,\n",
       "  '176.204.135.92': 1,\n",
       "  '170.88.145.210': 1,\n",
       "  '166.135.118.124': 1,\n",
       "  '136.170.148.60': 1,\n",
       "  '154.186.69.127': 1,\n",
       "  '134.142.70.75': 1,\n",
       "  '123.67.49.122': 1,\n",
       "  '108.163.63.152': 1,\n",
       "  '100.139.149.78': 1,\n",
       "  '114.80.189.121': 1,\n",
       "  '118.95.77.30': 1,\n",
       "  '100.47.171.0': 1,\n",
       "  '119.222.100.91': 1,\n",
       "  '52.30.198.130': 1,\n",
       "  '136.138.125.227': 1,\n",
       "  '98.96.151.101': 1,\n",
       "  '44.160.93.68': 1,\n",
       "  '63.84.181.186': 1,\n",
       "  '99.166.138.125': 1,\n",
       "  '223.97.68.176': 1,\n",
       "  '87.152.172.129': 1,\n",
       "  '127.46.213.118': 1,\n",
       "  '17.150.75.87': 1,\n",
       "  '94.101.52.126': 1,\n",
       "  '166.150.113.90': 1,\n",
       "  '122.79.151.177': 1,\n",
       "  '99.59.113.107': 1,\n",
       "  '89.123.104.108': 1,\n",
       "  '137.157.62.110': 1,\n",
       "  '151.148.99.100': 1,\n",
       "  '141.114.58.104': 1,\n",
       "  '24.132.68.159': 1,\n",
       "  '88.104.79.143': 1,\n",
       "  '47.222.156.223': 1,\n",
       "  '122.184.97.58': 1,\n",
       "  '106.70.150.112': 1,\n",
       "  '150.76.57.184': 1,\n",
       "  '33.133.222.174': 1,\n",
       "  '110.108.182.126': 1,\n",
       "  '162.165.183.203': 1,\n",
       "  '255.52.106.147': 1,\n",
       "  '157.147.107.66': 1,\n",
       "  '167.131.170.173': 1,\n",
       "  '140.133.163.52': 1,\n",
       "  '46.107.32.82': 1,\n",
       "  '173.76.211.148': 1,\n",
       "  '197.178.115.61': 1,\n",
       "  '220.150.161.194': 1,\n",
       "  '175.173.126.56': 1,\n",
       "  '140.138.131.156': 1,\n",
       "  '78.124.115.139': 1,\n",
       "  '130.210.76.145': 1,\n",
       "  '54.32.201.132': 1,\n",
       "  '118.134.74.197': 1,\n",
       "  '150.149.214.72': 1,\n",
       "  '204.99.109.125': 1,\n",
       "  '165.140.197.139': 1,\n",
       "  '160.115.164.136': 1,\n",
       "  '70.144.122.124': 1,\n",
       "  '174.100.124.177': 1,\n",
       "  '148.153.192.141': 1,\n",
       "  '155.135.96.104': 1,\n",
       "  '89.173.200.119': 1,\n",
       "  '139.118.255.115': 1,\n",
       "  '206.166.89.85': 1,\n",
       "  '105.62.138.210': 1,\n",
       "  '149.93.120.92': 1,\n",
       "  '193.170.132.158': 1,\n",
       "  '251.112.198.87': 1,\n",
       "  '138.148.209.47': 1,\n",
       "  '85.127.100.108': 1,\n",
       "  '80.96.124.101': 1,\n",
       "  '193.196.129.77': 1,\n",
       "  '168.98.156.45': 1,\n",
       "  '52.33.200.129': 1,\n",
       "  '151.173.46.186': 1,\n",
       "  '55.35.200.124': 1,\n",
       "  '162.174.167.217': 1,\n",
       "  '171.112.206.123': 1,\n",
       "  '87.158.210.156': 1,\n",
       "  '203.91.73.29': 1,\n",
       "  '126.161.113.113': 1,\n",
       "  '127.143.115.114': 1,\n",
       "  '67.144.15.180': 1,\n",
       "  '114.87.150.169': 1,\n",
       "  '189.108.212.104': 1,\n",
       "  '139.179.118.26': 1,\n",
       "  '197.87.62.191': 1,\n",
       "  '36.165.60.80': 1,\n",
       "  '26.116.95.79': 1,\n",
       "  '144.201.143.120': 1,\n",
       "  '96.147.108.142': 1,\n",
       "  '201.160.97.104': 1,\n",
       "  '126.123.38.135': 1,\n",
       "  '56.177.94.197': 1,\n",
       "  '46.177.169.172': 1,\n",
       "  '123.142.160.139': 1,\n",
       "  '157.164.204.141': 1,\n",
       "  '66.149.83.43': 1,\n",
       "  '117.112.103.52': 1,\n",
       "  '174.122.147.147': 1,\n",
       "  '207.136.173.145': 1,\n",
       "  '77.162.169.82': 1,\n",
       "  '106.91.221.70': 1,\n",
       "  '104.170.98.96': 1,\n",
       "  '147.90.80.111': 1,\n",
       "  '131.210.78.109': 1,\n",
       "  '106.162.100.168': 1,\n",
       "  '184.143.96.59': 1,\n",
       "  '196.213.147.178': 1,\n",
       "  '181.127.157.101': 1,\n",
       "  '102.134.96.170': 1,\n",
       "  '194.59.198.109': 1,\n",
       "  '129.151.7.117': 1,\n",
       "  '134.188.177.149': 1,\n",
       "  '26.86.160.133': 1,\n",
       "  '157.99.155.111': 1,\n",
       "  '195.85.68.127': 1,\n",
       "  '52.71.130.173': 1,\n",
       "  '167.182.137.153': 1,\n",
       "  '27.129.207.141': 1,\n",
       "  '255.148.173.247': 1,\n",
       "  '57.139.126.77': 1,\n",
       "  '80.66.127.169': 1,\n",
       "  '175.57.199.193': 1,\n",
       "  '83.125.72.106': 1,\n",
       "  '67.137.198.137': 1,\n",
       "  '126.122.51.157': 1,\n",
       "  '136.101.173.161': 1,\n",
       "  '157.154.67.210': 1,\n",
       "  '93.94.136.32': 1,\n",
       "  '97.132.0.255': 1,\n",
       "  '58.22.175.130': 1,\n",
       "  '113.89.156.173': 1,\n",
       "  '53.25.199.129': 1,\n",
       "  '128.227.184.119': 1,\n",
       "  '125.201.152.105': 1,\n",
       "  '120.249.109.190': 1,\n",
       "  '248.150.101.41': 1,\n",
       "  '162.234.173.172': 1,\n",
       "  '130.79.127.81': 1,\n",
       "  '31.109.202.171': 1,\n",
       "  '154.64.186.174': 1,\n",
       "  '109.162.155.92': 1,\n",
       "  '202.20.88.207': 1,\n",
       "  '208.92.170.45': 1,\n",
       "  '108.41.112.108': 1,\n",
       "  '109.197.67.3': 1,\n",
       "  '110.142.98.0': 1,\n",
       "  '71.139.168.45': 1,\n",
       "  '59.122.90.116': 1,\n",
       "  '145.103.83.81': 1,\n",
       "  '130.141.232.139': 1,\n",
       "  '98.91.61.158': 1,\n",
       "  '119.135.81.151': 1,\n",
       "  '200.135.131.88': 1,\n",
       "  '180.193.100.136': 1,\n",
       "  '96.104.205.162': 1,\n",
       "  '102.56.153.112': 1,\n",
       "  '124.71.183.115': 1,\n",
       "  '87.140.192.143': 1,\n",
       "  '159.61.252.108': 1,\n",
       "  '111.123.126.96': 1,\n",
       "  '175.146.166.59': 1,\n",
       "  '152.104.194.178': 1,\n",
       "  '137.110.154.192': 1,\n",
       "  '200.104.116.99': 1,\n",
       "  '110.159.97.134': 1,\n",
       "  '168.128.167.111': 1,\n",
       "  '137.197.77.138': 1,\n",
       "  '123.114.121.145': 1},\n",
       " 'wikipedia.org': {'202.152.82.171': 1,\n",
       "  '143.30.183.87': 1,\n",
       "  '56.120.106.87': 1,\n",
       "  '189.119.55.225': 1,\n",
       "  '180.110.73.101': 1,\n",
       "  '89.161.15.82': 1,\n",
       "  '111.141.147.118': 1,\n",
       "  '97.65.99.76': 1,\n",
       "  '80.99.56.157': 1,\n",
       "  '122.86.146.117': 1,\n",
       "  '82.129.212.123': 1,\n",
       "  '20.128.105.18': 1,\n",
       "  '204.76.93.95': 1,\n",
       "  '164.82.140.88': 1,\n",
       "  '175.168.120.155': 1,\n",
       "  '147.125.63.84': 1,\n",
       "  '109.96.154.73': 1,\n",
       "  '217.77.159.138': 1,\n",
       "  '135.112.123.187': 1,\n",
       "  '183.99.127.119': 1,\n",
       "  '91.129.0.84': 1,\n",
       "  '194.160.147.218': 1,\n",
       "  '174.80.93.208': 1,\n",
       "  '102.96.109.126': 1,\n",
       "  '119.69.152.112': 1,\n",
       "  '177.107.174.173': 1,\n",
       "  '141.93.32.94': 1,\n",
       "  '171.149.69.88': 1,\n",
       "  '132.117.139.124': 1,\n",
       "  '100.253.180.141': 1,\n",
       "  '155.129.93.158': 1,\n",
       "  '78.54.71.146': 1,\n",
       "  '140.53.93.159': 1,\n",
       "  '116.133.127.59': 1,\n",
       "  '60.58.245.83': 1,\n",
       "  '149.113.115.193': 1,\n",
       "  '188.104.198.76': 1,\n",
       "  '94.121.123.151': 1,\n",
       "  '160.183.204.202': 1,\n",
       "  '99.121.119.48': 1,\n",
       "  '117.185.138.47': 1,\n",
       "  '228.115.124.87': 1,\n",
       "  '94.176.112.166': 1,\n",
       "  '194.173.153.224': 1,\n",
       "  '152.80.74.237': 1,\n",
       "  '155.94.107.117': 1,\n",
       "  '150.169.172.191': 1,\n",
       "  '114.255.47.190': 1,\n",
       "  '52.30.199.124': 1,\n",
       "  '172.156.14.149': 1,\n",
       "  '103.76.61.126': 1,\n",
       "  '88.76.67.210': 1,\n",
       "  '115.61.143.139': 1,\n",
       "  '32.151.124.114': 1,\n",
       "  '98.12.65.143': 1,\n",
       "  '153.114.85.70': 1,\n",
       "  '167.173.134.69': 1,\n",
       "  '117.119.121.176': 1,\n",
       "  '78.61.101.143': 1,\n",
       "  '147.55.84.58': 1,\n",
       "  '109.121.98.197': 1,\n",
       "  '100.117.105.119': 1,\n",
       "  '140.155.109.56': 1,\n",
       "  '168.200.121.57': 1,\n",
       "  '156.116.139.218': 1,\n",
       "  '58.28.203.128': 1,\n",
       "  '54.105.28.98': 1,\n",
       "  '194.101.138.115': 1,\n",
       "  '115.98.123.90': 1,\n",
       "  '161.154.75.98': 1,\n",
       "  '158.175.107.158': 1,\n",
       "  '171.141.110.100': 1,\n",
       "  '71.162.179.144': 1,\n",
       "  '129.148.186.116': 1,\n",
       "  '255.103.104.108': 1,\n",
       "  '182.123.115.102': 1,\n",
       "  '82.159.94.60': 1,\n",
       "  '62.49.151.151': 1,\n",
       "  '160.209.96.72': 1,\n",
       "  '154.185.95.108': 1,\n",
       "  '93.153.29.107': 1,\n",
       "  '226.58.50.118': 1,\n",
       "  '130.112.108.103': 1,\n",
       "  '120.118.95.203': 1,\n",
       "  '80.61.165.147': 1,\n",
       "  '131.123.89.142': 1,\n",
       "  '90.114.172.137': 1,\n",
       "  '85.165.67.174': 1,\n",
       "  '133.81.135.221': 1,\n",
       "  '117.144.178.88': 1,\n",
       "  '112.91.64.109': 1,\n",
       "  '189.152.152.200': 1,\n",
       "  '58.85.66.79': 1,\n",
       "  '148.87.126.108': 1,\n",
       "  '135.105.122.50': 1,\n",
       "  '122.157.114.96': 1,\n",
       "  '101.105.160.190': 1,\n",
       "  '69.81.94.135': 1,\n",
       "  '171.148.126.115': 1,\n",
       "  '175.90.192.101': 1,\n",
       "  '142.125.179.112': 1,\n",
       "  '54.30.197.126': 1,\n",
       "  '117.166.118.113': 1,\n",
       "  '206.151.159.93': 1,\n",
       "  '54.89.194.61': 1,\n",
       "  '155.122.107.174': 1,\n",
       "  '203.75.164.39': 1,\n",
       "  '112.208.107.159': 1,\n",
       "  '107.109.59.223': 1,\n",
       "  '202.104.156.136': 1,\n",
       "  '127.130.120.97': 1,\n",
       "  '129.115.195.133': 1,\n",
       "  '128.131.120.141': 1,\n",
       "  '59.29.199.126': 1,\n",
       "  '104.91.139.131': 1,\n",
       "  '185.101.49.195': 1,\n",
       "  '112.131.115.57': 1,\n",
       "  '55.29.198.128': 1,\n",
       "  '209.124.158.105': 1,\n",
       "  '45.104.49.58': 1,\n",
       "  '94.255.157.133': 1,\n",
       "  '50.88.86.113': 1,\n",
       "  '215.143.151.116': 1,\n",
       "  '178.79.82.134': 1,\n",
       "  '172.176.81.73': 1,\n",
       "  '169.87.43.199': 1,\n",
       "  '72.108.132.151': 1,\n",
       "  '193.147.233.67': 1,\n",
       "  '100.178.124.95': 1,\n",
       "  '171.160.86.221': 1,\n",
       "  '152.0.102.84': 1,\n",
       "  '209.152.219.1': 1,\n",
       "  '2.176.207.38': 1,\n",
       "  '145.69.93.0': 1,\n",
       "  '80.206.204.148': 1,\n",
       "  '172.109.173.57': 1,\n",
       "  '9.68.108.130': 1,\n",
       "  '130.127.211.140': 1,\n",
       "  '53.26.202.128': 1,\n",
       "  '177.78.151.112': 1,\n",
       "  '123.95.81.120': 1,\n",
       "  '76.190.146.171': 1,\n",
       "  '194.101.68.128': 1,\n",
       "  '74.72.96.151': 1,\n",
       "  '149.157.189.135': 1,\n",
       "  '137.57.132.133': 1,\n",
       "  '135.172.72.77': 1,\n",
       "  '98.73.94.83': 1,\n",
       "  '151.134.160.103': 1,\n",
       "  '122.179.62.152': 1,\n",
       "  '85.126.184.139': 1,\n",
       "  '127.177.131.86': 1,\n",
       "  '119.144.50.0': 1,\n",
       "  '82.194.194.170': 1,\n",
       "  '95.107.53.134': 1,\n",
       "  '190.106.98.174': 1,\n",
       "  '96.183.190.65': 1,\n",
       "  '103.80.172.223': 1,\n",
       "  '200.166.255.157': 1,\n",
       "  '96.104.79.88': 1,\n",
       "  '67.131.91.50': 1,\n",
       "  '71.117.116.50': 1,\n",
       "  '28.144.159.109': 1,\n",
       "  '170.109.100.193': 1,\n",
       "  '206.222.74.132': 1,\n",
       "  '36.174.249.84': 1,\n",
       "  '182.139.102.163': 1,\n",
       "  '103.135.81.123': 1,\n",
       "  '51.63.134.127': 1,\n",
       "  '169.176.147.65': 1,\n",
       "  '201.168.151.163': 1,\n",
       "  '165.199.106.85': 1,\n",
       "  '79.145.161.131': 1,\n",
       "  '136.139.75.152': 1,\n",
       "  '155.103.191.85': 1,\n",
       "  '171.167.94.122': 1,\n",
       "  '255.65.140.30': 1,\n",
       "  '156.176.72.146': 1,\n",
       "  '129.134.191.84': 1,\n",
       "  '179.102.138.154': 1,\n",
       "  '177.185.98.182': 1,\n",
       "  '123.135.58.89': 1,\n",
       "  '176.86.127.62': 1,\n",
       "  '166.109.0.102': 1,\n",
       "  '70.192.158.106': 1,\n",
       "  '137.185.105.218': 1,\n",
       "  '137.122.109.78': 1,\n",
       "  '188.56.110.135': 1,\n",
       "  '119.145.155.156': 1,\n",
       "  '151.80.151.232': 1,\n",
       "  '55.32.197.127': 1,\n",
       "  '120.50.172.71': 1,\n",
       "  '112.128.178.83': 1,\n",
       "  '56.31.199.129': 1,\n",
       "  '105.136.44.118': 1,\n",
       "  '1.152.140.176': 1,\n",
       "  '62.170.25.0': 1,\n",
       "  '145.201.150.148': 1,\n",
       "  '54.109.98.67': 1,\n",
       "  '133.170.156.123': 1,\n",
       "  '173.201.91.157': 1,\n",
       "  '39.124.40.162': 1,\n",
       "  '68.135.111.117': 1,\n",
       "  '165.152.176.148': 1,\n",
       "  '78.133.0.66': 1,\n",
       "  '126.108.155.41': 1,\n",
       "  '93.181.121.200': 1,\n",
       "  '39.115.148.129': 1,\n",
       "  '51.187.128.72': 1,\n",
       "  '80.165.157.35': 1,\n",
       "  '94.88.80.121': 1,\n",
       "  '181.97.132.145': 1,\n",
       "  '168.135.124.158': 1,\n",
       "  '129.160.151.102': 1,\n",
       "  '161.38.125.156': 1,\n",
       "  '76.142.124.36': 1,\n",
       "  '143.161.93.145': 1,\n",
       "  '161.150.186.107': 1,\n",
       "  '110.141.210.163': 1,\n",
       "  '172.144.224.44': 1,\n",
       "  '132.101.119.126': 1,\n",
       "  '137.120.93.19': 1,\n",
       "  '122.120.69.119': 1,\n",
       "  '76.188.190.225': 1,\n",
       "  '130.73.115.185': 1,\n",
       "  '124.95.95.158': 1,\n",
       "  '226.156.164.84': 1,\n",
       "  '181.151.98.159': 1,\n",
       "  '107.86.99.202': 1,\n",
       "  '38.62.52.167': 1,\n",
       "  '87.147.119.142': 1,\n",
       "  '78.128.160.33': 1,\n",
       "  '106.139.150.139': 1,\n",
       "  '56.33.203.126': 1,\n",
       "  '4.194.191.99': 1,\n",
       "  '137.9.133.96': 1,\n",
       "  '174.130.113.164': 1,\n",
       "  '78.8.98.80': 1,\n",
       "  '153.62.179.121': 1,\n",
       "  '100.115.104.115': 1,\n",
       "  '55.30.202.128': 1,\n",
       "  '56.27.198.127': 1,\n",
       "  '68.129.122.86': 1,\n",
       "  '57.31.199.132': 1,\n",
       "  '189.163.8.122': 1,\n",
       "  '169.133.98.138': 1,\n",
       "  '173.196.191.72': 1,\n",
       "  '218.92.85.37': 1,\n",
       "  '126.186.98.88': 1,\n",
       "  '68.155.180.97': 1,\n",
       "  '93.146.169.169': 1,\n",
       "  '182.159.97.205': 1,\n",
       "  '106.194.111.172': 1,\n",
       "  '102.174.70.210': 1,\n",
       "  '21.88.96.94': 1,\n",
       "  '142.140.164.101': 1,\n",
       "  '81.154.145.67': 1,\n",
       "  '199.202.80.131': 1,\n",
       "  '66.108.80.127': 1,\n",
       "  '102.140.146.12': 1,\n",
       "  '64.112.176.147': 1,\n",
       "  '83.235.103.176': 1,\n",
       "  '137.135.121.194': 1,\n",
       "  '97.38.87.103': 1,\n",
       "  '147.162.105.192': 1,\n",
       "  '106.143.104.154': 1,\n",
       "  '68.19.89.55': 1,\n",
       "  '193.133.80.64': 1,\n",
       "  '104.50.106.69': 1,\n",
       "  '217.67.127.110': 1,\n",
       "  '126.135.143.67': 1,\n",
       "  '134.89.212.249': 1,\n",
       "  '151.199.171.101': 1,\n",
       "  '115.50.159.124': 1,\n",
       "  '221.74.79.69': 1,\n",
       "  '117.169.66.86': 1,\n",
       "  '137.142.117.107': 1,\n",
       "  '134.102.151.152': 1,\n",
       "  '110.157.175.38': 1,\n",
       "  '121.151.113.134': 1,\n",
       "  '78.121.102.129': 1,\n",
       "  '234.153.122.187': 1,\n",
       "  '153.63.108.202': 1,\n",
       "  '128.48.50.117': 1,\n",
       "  '175.169.88.164': 1,\n",
       "  '188.166.150.143': 1,\n",
       "  '111.68.144.124': 1,\n",
       "  '106.100.90.94': 1,\n",
       "  '248.131.91.151': 1,\n",
       "  '39.176.172.213': 1,\n",
       "  '83.196.121.190': 1,\n",
       "  '103.98.118.250': 1,\n",
       "  '147.73.46.64': 1,\n",
       "  '62.31.201.127': 1,\n",
       "  '185.125.88.103': 1,\n",
       "  '151.111.156.139': 1,\n",
       "  '68.136.180.115': 1,\n",
       "  '76.148.63.168': 1,\n",
       "  '127.108.105.234': 1,\n",
       "  '70.185.72.180': 1,\n",
       "  '165.140.149.130': 1,\n",
       "  '79.62.130.150': 1,\n",
       "  '42.246.186.240': 1,\n",
       "  '172.95.134.197': 1,\n",
       "  '143.95.82.63': 1,\n",
       "  '64.123.120.137': 1,\n",
       "  '78.42.191.123': 1,\n",
       "  '89.134.116.156': 1,\n",
       "  '119.112.158.128': 1,\n",
       "  '176.31.50.104': 1,\n",
       "  '44.136.47.99': 1,\n",
       "  '49.32.200.126': 1,\n",
       "  '89.75.164.150': 1,\n",
       "  '96.120.43.147': 1,\n",
       "  '71.52.80.101': 1,\n",
       "  '107.3.104.151': 1,\n",
       "  '147.137.129.135': 1,\n",
       "  '149.150.164.138': 1,\n",
       "  '162.85.120.74': 1,\n",
       "  '133.156.101.207': 1,\n",
       "  '128.134.224.138': 1,\n",
       "  '84.130.245.204': 1,\n",
       "  '87.82.127.57': 1,\n",
       "  '108.135.82.130': 1,\n",
       "  '121.62.113.161': 1,\n",
       "  '136.156.104.131': 1,\n",
       "  '118.179.173.228': 1,\n",
       "  '185.144.194.73': 1,\n",
       "  '247.148.208.97': 1,\n",
       "  '150.152.116.76': 1,\n",
       "  '139.99.105.151': 1,\n",
       "  '187.156.70.113': 1,\n",
       "  '53.28.195.127': 1,\n",
       "  '137.142.85.94': 1,\n",
       "  '102.110.176.153': 1,\n",
       "  '108.87.133.187': 1,\n",
       "  '74.144.72.175': 1,\n",
       "  '132.96.120.45': 1,\n",
       "  '138.112.145.101': 1,\n",
       "  '167.39.149.181': 1,\n",
       "  '132.168.97.241': 1,\n",
       "  '172.86.44.226': 1,\n",
       "  '142.123.132.194': 1,\n",
       "  '85.131.255.85': 1,\n",
       "  '166.57.160.126': 1,\n",
       "  '100.165.69.141': 1,\n",
       "  '19.110.80.75': 1,\n",
       "  '19.120.96.130': 1,\n",
       "  '168.110.76.146': 1,\n",
       "  '122.164.101.95': 1,\n",
       "  '254.161.97.86': 1,\n",
       "  '160.67.11.75': 1,\n",
       "  '138.197.109.125': 1,\n",
       "  '86.103.112.142': 1,\n",
       "  '135.104.120.99': 1,\n",
       "  '172.199.93.104': 1,\n",
       "  '44.124.184.202': 1,\n",
       "  '188.148.96.69': 1,\n",
       "  '51.122.207.196': 1,\n",
       "  '128.177.205.109': 1,\n",
       "  '54.27.199.124': 1,\n",
       "  '156.200.92.142': 1,\n",
       "  '20.174.118.126': 1,\n",
       "  '226.98.93.86': 1,\n",
       "  '253.86.191.113': 1,\n",
       "  '158.169.19.146': 1,\n",
       "  '148.118.142.99': 1,\n",
       "  '180.104.162.69': 1,\n",
       "  '122.146.61.110': 1,\n",
       "  '164.123.194.96': 1,\n",
       "  '148.100.234.192': 1,\n",
       "  '156.181.140.70': 1,\n",
       "  '50.88.187.25': 1,\n",
       "  '152.10.103.109': 1,\n",
       "  '191.113.158.153': 1,\n",
       "  '215.124.58.168': 1,\n",
       "  '135.48.118.83': 1,\n",
       "  '171.240.106.163': 1,\n",
       "  '70.175.104.68': 1,\n",
       "  '132.180.178.92': 1,\n",
       "  '137.112.170.134': 1,\n",
       "  '152.89.48.167': 1,\n",
       "  '111.119.91.113': 1,\n",
       "  '156.205.96.162': 1,\n",
       "  '161.43.34.62': 1,\n",
       "  '65.13.152.94': 1,\n",
       "  '113.93.107.101': 1,\n",
       "  '138.123.135.142': 1,\n",
       "  '52.28.196.128': 1,\n",
       "  '183.120.129.158': 1,\n",
       "  '91.121.140.127': 1,\n",
       "  '168.138.177.93': 1,\n",
       "  '158.225.109.192': 1,\n",
       "  '2.165.136.79': 1,\n",
       "  '8.134.145.138': 1,\n",
       "  '125.161.117.146': 1,\n",
       "  '127.137.118.238': 1,\n",
       "  '167.178.155.69': 1,\n",
       "  '165.169.118.75': 1,\n",
       "  '231.44.108.161': 1,\n",
       "  '171.150.69.127': 1,\n",
       "  '148.101.148.234': 1,\n",
       "  '58.30.202.126': 1,\n",
       "  '86.124.144.35': 1,\n",
       "  '126.134.174.110': 1,\n",
       "  '99.98.67.39': 1,\n",
       "  '120.144.109.47': 1,\n",
       "  '70.122.203.203': 1,\n",
       "  '55.31.200.127': 1,\n",
       "  '165.108.52.131': 1,\n",
       "  '144.46.99.146': 1,\n",
       "  '144.232.158.166': 1,\n",
       "  '143.183.172.178': 1,\n",
       "  '211.178.221.101': 1,\n",
       "  '81.40.122.105': 1,\n",
       "  '177.64.53.107': 1,\n",
       "  '80.250.185.210': 1,\n",
       "  '169.122.185.140': 1,\n",
       "  '27.128.171.121': 1,\n",
       "  '50.27.201.124': 1,\n",
       "  '77.96.132.120': 1,\n",
       "  '213.142.199.41': 1,\n",
       "  '200.188.155.109': 1,\n",
       "  '130.196.167.136': 1,\n",
       "  '111.146.89.116': 1,\n",
       "  '83.60.185.45': 1,\n",
       "  '131.131.159.158': 1,\n",
       "  '131.128.138.172': 1,\n",
       "  '71.102.144.32': 1,\n",
       "  '141.49.78.85': 1,\n",
       "  '161.130.66.215': 1,\n",
       "  '108.135.95.145': 1,\n",
       "  '213.174.142.108': 1,\n",
       "  '32.82.35.92': 1,\n",
       "  '104.75.29.78': 1,\n",
       "  '90.148.133.167': 1,\n",
       "  '173.119.86.183': 1,\n",
       "  '170.95.170.74': 1,\n",
       "  '88.154.152.125': 1,\n",
       "  '111.124.49.168': 1,\n",
       "  '80.185.105.122': 1,\n",
       "  '172.132.101.63': 1,\n",
       "  '107.132.123.43': 1,\n",
       "  '120.122.36.255': 1,\n",
       "  '196.71.92.138': 1,\n",
       "  '150.210.41.96': 1,\n",
       "  '150.195.104.149': 1,\n",
       "  '173.203.145.2': 1,\n",
       "  '76.86.175.134': 1,\n",
       "  '173.124.131.206': 1,\n",
       "  '178.111.160.165': 1,\n",
       "  '114.200.155.113': 1,\n",
       "  '127.100.92.179': 1,\n",
       "  '128.139.54.121': 1,\n",
       "  '95.172.100.133': 1,\n",
       "  '51.33.200.126': 1,\n",
       "  '196.53.75.117': 1,\n",
       "  '102.113.162.104': 1,\n",
       "  '169.161.170.181': 1,\n",
       "  '133.174.136.88': 1,\n",
       "  '131.102.21.132': 1,\n",
       "  '147.196.98.125': 1,\n",
       "  '98.97.170.120': 1,\n",
       "  '119.0.71.159': 1,\n",
       "  '188.141.87.142': 1,\n",
       "  '56.28.198.127': 1,\n",
       "  '8.129.88.84': 1,\n",
       "  '103.132.146.161': 1,\n",
       "  '57.182.141.186': 1,\n",
       "  '122.161.141.158': 1,\n",
       "  '83.123.121.156': 1,\n",
       "  '137.141.175.149': 1,\n",
       "  '128.187.104.68': 1,\n",
       "  '228.185.90.216': 1,\n",
       "  '59.80.179.82': 1,\n",
       "  '124.126.128.85': 1,\n",
       "  '190.189.255.138': 1,\n",
       "  '125.108.168.164': 1,\n",
       "  '140.110.133.150': 1,\n",
       "  '187.255.129.37': 1,\n",
       "  '176.71.91.113': 1,\n",
       "  '79.49.63.167': 1,\n",
       "  '9.225.66.0': 1,\n",
       "  '35.197.86.159': 1,\n",
       "  '155.206.241.132': 1,\n",
       "  '121.54.210.135': 1,\n",
       "  '78.69.168.6': 1,\n",
       "  '170.116.108.176': 1,\n",
       "  '136.98.39.153': 1,\n",
       "  '209.123.125.73': 1,\n",
       "  '60.115.113.201': 1,\n",
       "  '174.83.136.188': 1,\n",
       "  '137.162.91.150': 1,\n",
       "  '127.156.91.171': 1,\n",
       "  '138.190.136.189': 1,\n",
       "  '105.190.176.94': 1,\n",
       "  '153.150.98.120': 1,\n",
       "  '183.137.129.59': 1,\n",
       "  '68.159.130.0': 1,\n",
       "  '171.170.145.191': 1,\n",
       "  '171.153.80.84': 1,\n",
       "  '54.26.202.126': 1,\n",
       "  '103.109.134.131': 1,\n",
       "  '170.64.78.73': 1,\n",
       "  '182.121.148.62': 1,\n",
       "  '108.92.152.173': 1,\n",
       "  '73.97.103.148': 1,\n",
       "  '156.112.196.154': 1,\n",
       "  '144.97.164.128': 1,\n",
       "  '136.244.89.128': 1},\n",
       " 'pandas.pydata.org': {'116.142.112.214': 1,\n",
       "  '64.108.133.139': 1,\n",
       "  '87.91.133.89': 1,\n",
       "  '200.132.86.152': 1,\n",
       "  '142.129.144.83': 1,\n",
       "  '194.77.131.184': 1,\n",
       "  '145.91.109.142': 1,\n",
       "  '108.212.197.110': 1,\n",
       "  '251.223.134.114': 1,\n",
       "  '112.178.122.82': 1,\n",
       "  '115.170.85.106': 1,\n",
       "  '149.50.18.212': 1,\n",
       "  '212.168.99.114': 1,\n",
       "  '244.15.83.105': 1,\n",
       "  '132.176.92.140': 1,\n",
       "  '139.121.165.143': 1,\n",
       "  '203.64.85.102': 1,\n",
       "  '205.65.164.163': 1,\n",
       "  '217.224.146.125': 1,\n",
       "  '116.121.166.82': 1,\n",
       "  '56.32.198.125': 1,\n",
       "  '61.30.197.126': 1,\n",
       "  '103.133.72.130': 1,\n",
       "  '255.35.107.113': 1,\n",
       "  '104.177.164.160': 1,\n",
       "  '154.56.26.53': 1,\n",
       "  '105.196.57.89': 1,\n",
       "  '136.148.115.70': 1,\n",
       "  '142.80.91.153': 1,\n",
       "  '85.64.140.60': 1,\n",
       "  '133.129.212.146': 1,\n",
       "  '136.139.120.190': 1,\n",
       "  '77.36.135.229': 1,\n",
       "  '122.37.73.0': 1,\n",
       "  '195.128.123.114': 1,\n",
       "  '104.181.37.175': 1,\n",
       "  '120.169.79.130': 1,\n",
       "  '138.98.93.133': 1,\n",
       "  '172.86.118.121': 1,\n",
       "  '161.146.190.103': 1,\n",
       "  '75.147.215.127': 1,\n",
       "  '181.169.103.221': 1,\n",
       "  '97.83.122.127': 1,\n",
       "  '146.163.147.114': 1,\n",
       "  '117.162.111.60': 1,\n",
       "  '73.64.128.86': 1,\n",
       "  '168.182.156.171': 1,\n",
       "  '60.117.126.155': 1,\n",
       "  '49.106.129.134': 1,\n",
       "  '159.131.173.181': 1,\n",
       "  '198.126.9.77': 1,\n",
       "  '102.242.133.115': 1,\n",
       "  '111.153.59.192': 1,\n",
       "  '168.109.147.102': 1,\n",
       "  '83.136.117.89': 1,\n",
       "  '161.75.99.155': 1,\n",
       "  '198.145.88.156': 1,\n",
       "  '82.45.242.102': 1,\n",
       "  '60.121.144.67': 1,\n",
       "  '55.34.197.127': 1,\n",
       "  '174.139.173.169': 1,\n",
       "  '124.198.159.149': 1,\n",
       "  '122.93.167.146': 1,\n",
       "  '136.173.163.111': 1,\n",
       "  '137.111.191.169': 1,\n",
       "  '200.111.110.0': 1,\n",
       "  '63.0.126.112': 1,\n",
       "  '79.84.180.122': 1,\n",
       "  '192.237.98.187': 1,\n",
       "  '55.172.118.68': 1,\n",
       "  '111.63.93.106': 1,\n",
       "  '122.41.63.77': 1,\n",
       "  '118.129.143.142': 1,\n",
       "  '127.146.51.72': 1,\n",
       "  '135.199.237.157': 1,\n",
       "  '130.113.207.95': 1,\n",
       "  '162.223.76.181': 1,\n",
       "  '173.119.47.55': 1,\n",
       "  '116.95.83.146': 1,\n",
       "  '225.127.126.141': 1,\n",
       "  '106.177.121.190': 1,\n",
       "  '75.112.172.127': 1,\n",
       "  '38.173.124.34': 1,\n",
       "  '119.184.139.142': 1,\n",
       "  '84.93.91.99': 1,\n",
       "  '193.222.163.0': 1,\n",
       "  '98.109.81.180': 1,\n",
       "  '129.160.165.119': 1,\n",
       "  '125.30.115.193': 1,\n",
       "  '193.82.174.171': 1,\n",
       "  '219.198.148.94': 1,\n",
       "  '188.96.117.68': 1,\n",
       "  '82.116.133.200': 1,\n",
       "  '27.128.102.212': 1,\n",
       "  '160.165.129.179': 1,\n",
       "  '132.49.92.117': 1,\n",
       "  '171.192.176.255': 1,\n",
       "  '162.147.0.177': 1,\n",
       "  '57.30.198.127': 1,\n",
       "  '53.25.200.130': 1,\n",
       "  '66.163.9.90': 1,\n",
       "  '212.137.196.123': 1,\n",
       "  '145.80.114.81': 1,\n",
       "  '202.52.232.136': 1,\n",
       "  '56.123.186.181': 1,\n",
       "  '138.150.109.139': 1,\n",
       "  '151.126.90.73': 1,\n",
       "  '113.162.223.181': 1,\n",
       "  '114.212.125.28': 1,\n",
       "  '182.118.54.33': 1,\n",
       "  '103.97.112.112': 1,\n",
       "  '163.163.117.129': 1,\n",
       "  '158.122.86.55': 1,\n",
       "  '161.90.143.129': 1,\n",
       "  '246.149.192.222': 1,\n",
       "  '68.163.98.163': 1,\n",
       "  '146.41.82.164': 1,\n",
       "  '122.69.167.46': 1,\n",
       "  '92.61.165.204': 1,\n",
       "  '183.103.66.72': 1,\n",
       "  '155.123.96.35': 1,\n",
       "  '103.91.149.246': 1,\n",
       "  '101.92.42.177': 1,\n",
       "  '148.96.255.62': 1,\n",
       "  '162.224.163.48': 1,\n",
       "  '131.44.191.118': 1,\n",
       "  '115.79.78.127': 1,\n",
       "  '113.138.26.207': 1,\n",
       "  '69.73.206.131': 1},\n",
       " 'dtu.dk': {'127.194.124.74': 1,\n",
       "  '174.98.209.145': 1,\n",
       "  '47.90.98.150': 1,\n",
       "  '85.103.137.56': 1,\n",
       "  '170.123.106.255': 1,\n",
       "  '179.186.119.62': 1,\n",
       "  '203.155.167.84': 1,\n",
       "  '108.155.174.135': 1,\n",
       "  '62.24.200.123': 1,\n",
       "  '121.179.154.151': 1,\n",
       "  '189.84.202.153': 1,\n",
       "  '140.178.137.129': 1,\n",
       "  '161.184.165.172': 1,\n",
       "  '210.135.186.117': 1,\n",
       "  '101.95.216.157': 1,\n",
       "  '173.89.79.119': 1,\n",
       "  '140.92.128.120': 1,\n",
       "  '56.170.81.123': 1,\n",
       "  '129.143.112.241': 1,\n",
       "  '197.132.192.127': 1,\n",
       "  '157.235.107.124': 1,\n",
       "  '94.92.188.93': 1,\n",
       "  '176.142.133.72': 1,\n",
       "  '198.208.56.157': 1},\n",
       " 'google.com': {'93.159.94.107': 1,\n",
       "  '143.137.33.94': 1,\n",
       "  '92.96.131.200': 1,\n",
       "  '145.96.55.103': 1,\n",
       "  '143.187.200.153': 1,\n",
       "  '108.216.126.171': 1,\n",
       "  '219.94.116.68': 1,\n",
       "  '196.185.171.102': 1,\n",
       "  '88.87.91.166': 1,\n",
       "  '99.22.86.222': 1,\n",
       "  '86.3.100.69': 1,\n",
       "  '122.210.85.98': 1,\n",
       "  '180.47.140.30': 1,\n",
       "  '57.32.200.130': 1,\n",
       "  '58.208.103.190': 1,\n",
       "  '176.63.82.170': 1,\n",
       "  '32.172.64.67': 1,\n",
       "  '52.178.130.100': 1,\n",
       "  '127.18.166.172': 1,\n",
       "  '174.112.114.108': 1,\n",
       "  '166.120.140.101': 1,\n",
       "  '170.90.153.192': 1,\n",
       "  '238.112.132.215': 1,\n",
       "  '30.106.190.155': 1,\n",
       "  '199.153.101.221': 1},\n",
       " 'databricks.com': {'89.151.206.101': 1,\n",
       "  '189.104.45.129': 1,\n",
       "  '117.139.158.100': 1,\n",
       "  '142.104.146.214': 1,\n",
       "  '132.212.195.220': 1,\n",
       "  '82.157.141.101': 1,\n",
       "  '238.116.160.170': 1,\n",
       "  '159.146.172.139': 1,\n",
       "  '57.26.78.120': 1,\n",
       "  '125.202.103.207': 1},\n",
       " 'github.com': {'147.45.48.41': 1,\n",
       "  '231.93.122.167': 1,\n",
       "  '134.156.98.200': 1,\n",
       "  '140.96.205.6': 1,\n",
       "  '114.94.168.133': 1,\n",
       "  '33.123.182.165': 1,\n",
       "  '77.133.90.93': 1,\n",
       "  '140.78.149.119': 1,\n",
       "  '255.86.80.188': 1,\n",
       "  '90.176.133.162': 1,\n",
       "  '106.95.233.165': 1,\n",
       "  '80.169.93.64': 1,\n",
       "  '100.148.103.165': 1,\n",
       "  '176.195.139.82': 1},\n",
       " 'spark.apache.org': {'119.123.154.109': 1,\n",
       "  '115.126.105.75': 1,\n",
       "  '108.78.110.148': 1,\n",
       "  '149.134.149.142': 1,\n",
       "  '140.191.138.152': 1,\n",
       "  '140.26.131.165': 1},\n",
       " 'datarobot.com': {'95.219.92.80': 1}}"
      ]
     },
     "execution_count": 18,
     "metadata": {},
     "output_type": "execute_result"
    }
   ],
   "source": [
    "# print the exact counts dictionary for the first 1000 streaming data\n",
    "STREAM_SIZE = 1000\n",
    "web_traffic_stream = stream(STREAM_SIZE)\n",
    "find_exact_counts(web_traffic_stream)"
   ]
  },
  {
   "cell_type": "markdown",
   "metadata": {},
   "source": [
    "### Evaluate Algorithm Performance"
   ]
  },
  {
   "cell_type": "markdown",
   "metadata": {},
   "source": [
    "### <font color=\"blue\">Evaluation Criteria 1: Percentage Difference</font>\n",
    "To evaluate the performance of an algorithm, we introduce the concept of **percentage difference**, which is defined as $ \\frac{|EstimatedValue - TrueValue|}{(EstimatedValue + TrueValue) \\div 2}\\times 100\\%$.\n",
    "Percentage difference can go beyond 100%. The smaller the value, the closer the two results are, and thus the better the estimation.\n",
    "<br>\n",
    "<br>\n",
    "To evaluate algorithm performances for different stream sizes, we define a function `percent_diff_plot` to plot the change in percentage differences as stream size increases."
   ]
  },
  {
   "cell_type": "code",
   "execution_count": 149,
   "metadata": {},
   "outputs": [],
   "source": [
    "###################\n",
    "# input arguments #\n",
    "###################\n",
    "# streaming_algo is a function that we have defined earlier on\n",
    "# get_exact_answer is a function that extracts the true answer from exact_dic\n",
    "\n",
    "# define a function to calculate the percentage difference for a given stream size\n",
    "# return values from the streaming_algo and get_exact_answer functions are NUMBERS    \n",
    "def get_percentage_difference_num(streaming_algo, get_exact_answer, stream_size, *extraArgs):    \n",
    "    streaming_ans = streaming_algo(stream(stream_size), *extraArgs)\n",
    "    exact_ans = get_exact_answer(stream(stream_size), *extraArgs)\n",
    "    diff = abs(streaming_ans - exact_ans)/((streaming_ans+exact_ans)/2)*100\n",
    "    print(\"Percentage difference between {} and the true answer for {} streaming data is {}%.\".format(\n",
    "        streaming_algo.__name__, stream_size, diff))\n",
    "    return diff\n",
    "\n",
    "\n",
    "\n",
    "# define a function to calculate the percentage difference for a given stream size\n",
    "# return values from the streaming_algo and get_exact_answer functions are DICTIONARIES\n",
    "def get_percentage_difference_dic(streaming_algo, get_exact_answer, stream_size, *extraArgs):    \n",
    "    \n",
    "    # percentage difference for each key-value pair are calculated and stored in a list\n",
    "    # final percentage difference is the average percentage difference of the list\n",
    "    diff_list = []\n",
    "    \n",
    "    streaming_dic = streaming_algo(stream(stream_size), *extraArgs)\n",
    "    exact_dic = get_exact_answer(stream(stream_size), *extraArgs)\n",
    "    for key, value in streaming_dic.items():\n",
    "        streaming_ans = value\n",
    "        exact_ans = exact_dic[key]\n",
    "        diff = abs(streaming_ans - exact_ans)/((streaming_ans+exact_ans)/2)*100\n",
    "        diff_list.append(diff)\n",
    "    \n",
    "    ave_diff = sum(diff_list)/len(diff_list)\n",
    "    print(\"Average percentage difference between {} and the true answer for {} streaming data is {}%.\".format(\n",
    "        streaming_algo.__name__, stream_size, ave_diff))\n",
    "    return ave_diff"
   ]
  },
  {
   "cell_type": "code",
   "execution_count": 179,
   "metadata": {},
   "outputs": [],
   "source": [
    "###################\n",
    "# input arguments #\n",
    "###################\n",
    "# streaming_algo is a function that we have defined earlier on\n",
    "# get_exact_answer is a function that extracts the true answer from exact_dic\n",
    "\n",
    "\n",
    "# define a function to plot the percentage difference for a given streaming algorithm at different stream sizes\n",
    "# return values from the streaming_algo and get_exact_answer functions are NUMBERS   \n",
    "def percent_diff_plot_num(streaming_algo, get_exact_answer, *extraArgs):\n",
    "    \n",
    "    # size_list stores the different stream sizes\n",
    "    size_list=[50, 100, 500, 1000, 5000, 10000, 50000]\n",
    "    \n",
    "    # initialize a percentage difference list for plotting\n",
    "    percentage_diff_list = []\n",
    "    \n",
    "    for size in size_list:\n",
    "        percentage_diff = get_percentage_difference_num(streaming_algo, get_exact_answer, size, *extraArgs)\n",
    "        percentage_diff_list.append(percentage_diff)\n",
    "        \n",
    "    # plot a line graph    \n",
    "    plt.figure(figsize=(10,6))\n",
    "    plt.plot(size_list, percentage_diff_list)\n",
    "    plt.title(\"Performance of \" + streaming_algo.__name__)\n",
    "    plt.xscale(\"log\")\n",
    "    plt.xlabel(\"stream size (log scale)\")\n",
    "    plt.ylabel(\"percentage difference(%)\")\n",
    "    plt.show()\n",
    "    \n",
    "\n",
    "    \n",
    "# define a function to plot the percentage difference for a given streaming algorithm at different stream sizes\n",
    "# return values from the streaming_algo and get_exact_answer functions are DICTIONARIES   \n",
    "def percent_diff_plot_dic(streaming_algo, get_exact_answer, *extraArgs):\n",
    "    \n",
    "    # size_list stores the different stream sizes\n",
    "    size_list=[50, 100, 500, 1000, 5000, 10000, 50000]\n",
    "    \n",
    "    # initialize a percentage difference list for plotting\n",
    "    percentage_diff_list = []\n",
    "    \n",
    "    for size in size_list:\n",
    "        percentage_diff = get_percentage_difference_dic(streaming_algo, get_exact_answer, size, *extraArgs)\n",
    "        percentage_diff_list.append(percentage_diff)\n",
    "        \n",
    "    # plot a line graph    \n",
    "    plt.figure(figsize=(10,6))\n",
    "    plt.plot(size_list, percentage_diff_list)\n",
    "    plt.title(\"Performance of \" + streaming_algo.__name__)\n",
    "    plt.xscale(\"log\")\n",
    "    plt.xlabel(\"stream size (log scale)\")\n",
    "    plt.ylabel(\"average percentage difference(%)\")\n",
    "    plt.show()"
   ]
  },
  {
   "cell_type": "markdown",
   "metadata": {},
   "source": [
    "### <font color=\"blue\">Evaluation Criteria 2: Comparison of Counts</font>\n",
    "The first evaluation criteria tells us how off the estimate is, but it does not show whether the estimate is an overestimate or an underestimate. Thus, we introduce another perspective in algorithm performance evaluation, that is, to place the estimated counts and true counts side by side and compare which one is bigger. This gives us insight into whether our algorithm is consistently producing overestiamted/underestimated results. This criteria is useful in evaluating certain algorithms, e.g. CountMin, which have a tendency to overestimate the frequency counts. \n",
    "<br>\n",
    "<br>\n",
    "In this section, we define functions to visualize the counts obtained from the estimated and true values using line plots and bar charts. "
   ]
  },
  {
   "cell_type": "code",
   "execution_count": 205,
   "metadata": {},
   "outputs": [],
   "source": [
    "###################\n",
    "# input arguments #\n",
    "###################\n",
    "# streaming_algo is a function that we have defined earlier on\n",
    "# get_exact_answer is a function that extracts the true answer from exact_dic\n",
    "\n",
    "# define a function that returns the estimated and absolute counts of a straming algorithm for a given stream size\n",
    "# return values from the streaming_algo and get_exact_answer functions are NUMBERS    \n",
    "def get_esti_actual_num(streaming_algo, get_exact_answer, stream_size, *extraArgs):    \n",
    "    streaming_ans = streaming_algo(stream(stream_size), *extraArgs)\n",
    "    exact_ans = get_exact_answer(stream(stream_size), *extraArgs)\n",
    "    return (streaming_ans, exact_ans)\n",
    "\n",
    "\n",
    "# define a function to plot the estimated and true counts for a given streaming algorithm at different stream sizes\n",
    "# return values from the streaming_algo and get_exact_answer functions are NUMBERS   \n",
    "def compare_counts_num(streaming_algo, get_exact_answer, *extraArgs):\n",
    "    \n",
    "    # size_list stores the different stream sizes\n",
    "    size_list=[50, 100, 500, 1000, 5000, 10000, 50000]\n",
    "    \n",
    "    # initialize two lists for plotting\n",
    "    estimate = []\n",
    "    actual = []\n",
    "    \n",
    "    for size in size_list:\n",
    "        res = get_esti_actual_num(streaming_algo, get_exact_answer, size, *extraArgs)\n",
    "        est = res[0]\n",
    "        act = res[1]\n",
    "        estimate.append(est)\n",
    "        actual.append(act)\n",
    " \n",
    "    # plot a line graph    \n",
    "    fig, ax = plt.subplots(figsize=(10,6))\n",
    "    ax.plot(size_list, estimate, label=\"Estimate\")\n",
    "    ax.plot(size_list, actual, label=\"Actual\")\n",
    "    ax.set_title(\"Performance of \" + streaming_algo.__name__)\n",
    "    ax.set_xscale(\"log\")\n",
    "    ax.set_xlabel(\"stream (log scale)\")\n",
    "    ax.set_ylabel(\"counts\")\n",
    "    ax.legend()\n",
    "    plt.show()"
   ]
  },
  {
   "cell_type": "code",
   "execution_count": 218,
   "metadata": {},
   "outputs": [],
   "source": [
    "# define a function that returns the estimated and absolute counts of a straming algorithm for a given stream size\n",
    "# return values from the streaming_algo and get_exact_answer functions are DICTIONARIES\n",
    "# then, plot a grouped bar chart to visualize the difference for each key in the dictionary\n",
    "def compare_counts_dic(streaming_algo, get_exact_answer, stream_size, *extraArgs):    \n",
    "    \n",
    "    # initialize three lists for plotting\n",
    "    estimate = []\n",
    "    actual = []\n",
    "    groups = []\n",
    "    \n",
    "    streaming_dic = streaming_algo(stream(stream_size), *extraArgs)\n",
    "    exact_dic = get_exact_answer(stream(stream_size), *extraArgs)\n",
    "    for key, value in streaming_dic.items():\n",
    "        streaming_ans = value\n",
    "        exact_ans = exact_dic[key]\n",
    "        estimate.append(streaming_ans)\n",
    "        actual.append(exact_ans)\n",
    "        groups.append(key)\n",
    "        \n",
    "    \n",
    "    # set figure size\n",
    "    plt.figure(figsize=(10,6))\n",
    "    \n",
    "    # define bar positions\n",
    "    barWidth = 0.25\n",
    "    r1 = np.arange(len(estimate))\n",
    "    r2 = [x + barWidth for x in r1]\n",
    " \n",
    "    # make the plot\n",
    "    plt.bar(r1, estimate, width=barWidth, edgecolor='white', label='Estimate')\n",
    "    plt.bar(r2, actual, width=barWidth, edgecolor='white', label='Actual')\n",
    " \n",
    "    # add xticks on the middle of the group bars\n",
    "    plt.title(\"Performance of \" + streaming_algo.__name__)\n",
    "    plt.ylabel('counts')\n",
    "    plt.xticks([r + barWidth for r in range(len(estimate))], groups, rotation=\"vertical\")\n",
    " \n",
    "    # create legend & Show\n",
    "    plt.legend()\n",
    "    plt.show()"
   ]
  },
  {
   "cell_type": "markdown",
   "metadata": {},
   "source": [
    "### Q1 How many unique IPs are there in the stream?"
   ]
  },
  {
   "cell_type": "code",
   "execution_count": 151,
   "metadata": {},
   "outputs": [
    {
     "data": {
      "text/plain": [
       "45.38934098368149"
      ]
     },
     "execution_count": 151,
     "metadata": {},
     "output_type": "execute_result"
    }
   ],
   "source": [
    "# estimates\n",
    "STREAM_SIZE = 1000\n",
    "web_traffic_stream = stream(STREAM_SIZE)\n",
    "distinct_count = hyperLogLog(web_traffic_stream)\n",
    "distinct_count"
   ]
  },
  {
   "cell_type": "code",
   "execution_count": 152,
   "metadata": {},
   "outputs": [
    {
     "data": {
      "text/plain": [
       "1000"
      ]
     },
     "execution_count": 152,
     "metadata": {},
     "output_type": "execute_result"
    }
   ],
   "source": [
    "# exact\n",
    "def unique_IP(stream):\n",
    "    dic={}\n",
    "    while (True):\n",
    "        try:\n",
    "            IP=next(stream).split(\"\\t\")[0]\n",
    "        except:\n",
    "            return len(dic)\n",
    "        \n",
    "        if IP not in dic:\n",
    "            dic[IP] = 0\n",
    "    return\n",
    "\n",
    "STREAM_SIZE = 1000\n",
    "web_traffic_stream = stream(STREAM_SIZE)\n",
    "unique_IP(web_traffic_stream)"
   ]
  },
  {
   "cell_type": "markdown",
   "metadata": {},
   "source": [
    "> When using 1000 streaming data, the estimated answer is 28 while the true answer is 1000. There is a huge discrepancy. Our group feels that it is because the HyperLogLog algorithm does not work well when every IP appear once and only once. HyperLogLog relies on hashing to differentiate IPs. If all IPs are unique, hashing will fail because our HyperLogLog array size is limited to, in our case, 32. "
   ]
  },
  {
   "cell_type": "code",
   "execution_count": 153,
   "metadata": {
    "scrolled": true
   },
   "outputs": [
    {
     "name": "stdout",
     "output_type": "stream",
     "text": [
      "Percentage difference between hyperLogLog and the true answer for 1000 streaming data is 182.63256025129493%.\n"
     ]
    }
   ],
   "source": [
    "# percentage difference (size = 1000)\n",
    "diff = get_percentage_difference_num(hyperLogLog, unique_IP, 1000)"
   ]
  },
  {
   "cell_type": "code",
   "execution_count": 154,
   "metadata": {
    "scrolled": false
   },
   "outputs": [
    {
     "name": "stdout",
     "output_type": "stream",
     "text": [
      "Percentage difference between hyperLogLog and the true answer for 50 streaming data is 9.667031911054433%.\n",
      "Percentage difference between hyperLogLog and the true answer for 100 streaming data is 75.12333249030685%.\n",
      "Percentage difference between hyperLogLog and the true answer for 500 streaming data is 166.7105038013278%.\n",
      "Percentage difference between hyperLogLog and the true answer for 1000 streaming data is 182.63256025129493%.\n",
      "Percentage difference between hyperLogLog and the true answer for 5000 streaming data is 196.4008058922089%.\n",
      "Percentage difference between hyperLogLog and the true answer for 10000 streaming data is 198.18992705305175%.\n",
      "Percentage difference between hyperLogLog and the true answer for 50000 streaming data is 199.6232288627764%.\n"
     ]
    },
    {
     "data": {
      "image/png": "[encoded data removed]",
      "text/plain": [
       "<Figure size 720x432 with 1 Axes>"
      ]
     },
     "metadata": {
      "needs_background": "light"
     },
     "output_type": "display_data"
    }
   ],
   "source": [
    "# plot percentage difference\n",
    "percent_diff_plot_num(hyperLogLog,unique_IP)"
   ]
  },
  {
   "cell_type": "markdown",
   "metadata": {},
   "source": [
    "> The plot further testifies our guess. As stream size increases, many different IPs will be hashed to the same place in the array and thus the larger percentage difference."
   ]
  },
  {
   "cell_type": "code",
   "execution_count": 206,
   "metadata": {
    "scrolled": false
   },
   "outputs": [
    {
     "data": {
      "image/png": "[encoded data removed]",
      "text/plain": [
       "<Figure size 720x432 with 1 Axes>"
      ]
     },
     "metadata": {
      "needs_background": "light"
     },
     "output_type": "display_data"
    }
   ],
   "source": [
    "# plot counts\n",
    "compare_counts_num(hyperLogLog, unique_IP)"
   ]
  },
  {
   "cell_type": "markdown",
   "metadata": {},
   "source": [
    "> As can be seen, the estimated unique IPs does not increase much as stream size increases. However in reality, the actual number of unique IPs do increase as stream size increases (orange line)."
   ]
  },
  {
   "cell_type": "markdown",
   "metadata": {},
   "source": [
    "### Q2 How many unique IPs are there for each domain?"
   ]
  },
  {
   "cell_type": "code",
   "execution_count": 155,
   "metadata": {},
   "outputs": [
    {
     "data": {
      "text/plain": [
       "{'python.org': 45.38934098368149,\n",
       " 'wikipedia.org': 45.38934098368149,\n",
       " 'pandas.pydata.org': 45.38934098368149,\n",
       " 'dtu.dk': 45.38934098368149,\n",
       " 'google.com': 45.38934098368149,\n",
       " 'databricks.com': 45.38934098368149,\n",
       " 'github.com': 45.38934098368149,\n",
       " 'spark.apache.org': 45.38934098368149,\n",
       " 'datarobot.com': 45.38934098368149}"
      ]
     },
     "execution_count": 155,
     "metadata": {},
     "output_type": "execute_result"
    }
   ],
   "source": [
    "# estimates\n",
    "STREAM_SIZE = 1000\n",
    "web_traffic_stream = stream(STREAM_SIZE)\n",
    "hyperLogLog_at_scale(web_traffic_stream)"
   ]
  },
  {
   "cell_type": "code",
   "execution_count": 156,
   "metadata": {},
   "outputs": [
    {
     "data": {
      "text/plain": [
       "{'python.org': 281,\n",
       " 'wikipedia.org': 510,\n",
       " 'pandas.pydata.org': 129,\n",
       " 'dtu.dk': 24,\n",
       " 'google.com': 25,\n",
       " 'databricks.com': 10,\n",
       " 'github.com': 14,\n",
       " 'spark.apache.org': 6,\n",
       " 'datarobot.com': 1}"
      ]
     },
     "execution_count": 156,
     "metadata": {},
     "output_type": "execute_result"
    }
   ],
   "source": [
    "# exact\n",
    "def unique_IP_by_domain(stream):\n",
    "    exact_counts_dic = find_exact_counts(stream)\n",
    "    exact_res={}\n",
    "    for (k,v) in exact_counts_dic.items():\n",
    "        exact_res[k] = len(v)\n",
    "    return exact_res\n",
    "\n",
    "STREAM_SIZE = 1000\n",
    "web_traffic_stream = stream(STREAM_SIZE)\n",
    "unique_IP_by_domain(web_traffic_stream)"
   ]
  },
  {
   "cell_type": "code",
   "execution_count": 219,
   "metadata": {
    "scrolled": false
   },
   "outputs": [
    {
     "data": {
      "image/png": "[encoded data removed]",
      "text/plain": [
       "<Figure size 720x432 with 1 Axes>"
      ]
     },
     "metadata": {
      "needs_background": "light"
     },
     "output_type": "display_data"
    }
   ],
   "source": [
    "# plot counts for stream_size == 1000\n",
    "compare_counts_dic(hyperLogLog_at_scale, unique_IP_by_domain, 1000)"
   ]
  },
  {
   "cell_type": "markdown",
   "metadata": {},
   "source": [
    "> As can be seen from the bar chart above, estimates for some domains are accurate such as dtu.dk, google.com. Others are not accurate. We suspect that those which are accurate are coincidences, because it seems that estimate for every domain is around 22-24."
   ]
  },
  {
   "cell_type": "code",
   "execution_count": 158,
   "metadata": {},
   "outputs": [
    {
     "name": "stdout",
     "output_type": "stream",
     "text": [
      "Average percentage difference between hyperLogLog_at_scale and the true answer for 50 streaming data is 135.96429540786494%.\n",
      "Average percentage difference between hyperLogLog_at_scale and the true answer for 100 streaming data is 134.0188080261008%.\n",
      "Average percentage difference between hyperLogLog_at_scale and the true answer for 500 streaming data is 129.2797872539928%.\n",
      "Average percentage difference between hyperLogLog_at_scale and the true answer for 1000 streaming data is 122.81363866763935%.\n",
      "Average percentage difference between hyperLogLog_at_scale and the true answer for 5000 streaming data is 115.85764808705933%.\n",
      "Average percentage difference between hyperLogLog_at_scale and the true answer for 10000 streaming data is 136.51992044274695%.\n",
      "Average percentage difference between hyperLogLog_at_scale and the true answer for 50000 streaming data is 172.86229455623382%.\n"
     ]
    },
    {
     "data": {
      "image/png": "[encoded data removed]",
      "text/plain": [
       "<Figure size 720x432 with 1 Axes>"
      ]
     },
     "metadata": {
      "needs_background": "light"
     },
     "output_type": "display_data"
    }
   ],
   "source": [
    "# plot\n",
    "percent_diff_plot_dic(hyperLogLog_at_scale, unique_IP_by_domain)"
   ]
  },
  {
   "cell_type": "markdown",
   "metadata": {},
   "source": [
    "> From the plot, it can be seen that the average percentage difference seems to be decreasing as stream sizes increases. But again at larger stream sizes, the percentage difference starts to rise again, probably due to the same reason that we have outlined in the previous question. i.e. insufficient slots in the hash array."
   ]
  },
  {
   "cell_type": "markdown",
   "metadata": {},
   "source": [
    "### Q3 How many times was IP X seen on domain Y? (for some X and Y provided at run time)"
   ]
  },
  {
   "cell_type": "code",
   "execution_count": 164,
   "metadata": {},
   "outputs": [
    {
     "data": {
      "text/plain": [
       "24"
      ]
     },
     "execution_count": 164,
     "metadata": {},
     "output_type": "execute_result"
    }
   ],
   "source": [
    "# estimates\n",
    "def obtain_res(stream, IP_X, domain_Y):\n",
    "    countMin_Dic=countMin(stream)\n",
    "    return getResult(countMin_Dic, IP_X, domain_Y)\n",
    "\n",
    "STREAM_SIZE = 1000\n",
    "web_traffic_stream = stream(STREAM_SIZE)\n",
    "obtain_res(web_traffic_stream, \"202.152.82.171\", \"wikipedia.org\")"
   ]
  },
  {
   "cell_type": "code",
   "execution_count": 165,
   "metadata": {},
   "outputs": [
    {
     "data": {
      "text/plain": [
       "1"
      ]
     },
     "execution_count": 165,
     "metadata": {},
     "output_type": "execute_result"
    }
   ],
   "source": [
    "# exact\n",
    "def freq_X_Y(stream, IP_X, domain_Y):\n",
    "    exact_counts_dic = find_exact_counts(stream)\n",
    "    return exact_counts_dic[domain_Y][IP_X]\n",
    "    \n",
    "STREAM_SIZE = 1000\n",
    "web_traffic_stream = stream(STREAM_SIZE)\n",
    "freq_X_Y(web_traffic_stream, \"202.152.82.171\", \"wikipedia.org\")"
   ]
  },
  {
   "cell_type": "markdown",
   "metadata": {},
   "source": [
    "> countMin is an over-estimate for the frequency. This is expected because over-estimation is inevitable for the countMin algorithm."
   ]
  },
  {
   "cell_type": "code",
   "execution_count": 221,
   "metadata": {},
   "outputs": [
    {
     "data": {
      "image/png": "[encoded data removed]",
      "text/plain": [
       "<Figure size 720x432 with 1 Axes>"
      ]
     },
     "metadata": {
      "needs_background": "light"
     },
     "output_type": "display_data"
    }
   ],
   "source": [
    "# plot counts\n",
    "compare_counts_num(obtain_res, freq_X_Y,\"202.152.82.171\", \"wikipedia.org\")"
   ]
  },
  {
   "cell_type": "markdown",
   "metadata": {},
   "source": [
    "> from the line chart, it can be seen that the larger the stream size, the more likely that the algorithm overestimates the counts of IP X on domain Y."
   ]
  },
  {
   "cell_type": "code",
   "execution_count": 167,
   "metadata": {},
   "outputs": [
    {
     "name": "stdout",
     "output_type": "stream",
     "text": [
      "Percentage difference between obtain_res and the true answer for 1000 streaming data is 184.0%.\n"
     ]
    }
   ],
   "source": [
    "# percentage difference (size = 1000)\n",
    "diff = get_percentage_difference_num(obtain_res, freq_X_Y, 1000, \"202.152.82.171\", \"wikipedia.org\")"
   ]
  },
  {
   "cell_type": "code",
   "execution_count": 180,
   "metadata": {},
   "outputs": [
    {
     "name": "stdout",
     "output_type": "stream",
     "text": [
      "Percentage difference between obtain_res and the true answer for 50 streaming data is 66.66666666666666%.\n",
      "Percentage difference between obtain_res and the true answer for 100 streaming data is 100.0%.\n",
      "Percentage difference between obtain_res and the true answer for 500 streaming data is 169.23076923076923%.\n",
      "Percentage difference between obtain_res and the true answer for 1000 streaming data is 184.0%.\n",
      "Percentage difference between obtain_res and the true answer for 5000 streaming data is 197.33333333333334%.\n",
      "Percentage difference between obtain_res and the true answer for 10000 streaming data is 198.73015873015873%.\n",
      "Percentage difference between obtain_res and the true answer for 50000 streaming data is 199.7439180537772%.\n"
     ]
    },
    {
     "data": {
      "image/png": "[encoded data removed]",
      "text/plain": [
       "<Figure size 720x432 with 1 Axes>"
      ]
     },
     "metadata": {
      "needs_background": "light"
     },
     "output_type": "display_data"
    }
   ],
   "source": [
    "# plot\n",
    "percent_diff_plot_num(obtain_res, freq_X_Y, \"202.152.82.171\", \"wikipedia.org\")"
   ]
  },
  {
   "cell_type": "markdown",
   "metadata": {},
   "source": [
    "> As a result of overestimation, it is not surprising that the percentage difference increases with stream size."
   ]
  },
  {
   "cell_type": "markdown",
   "metadata": {},
   "source": [
    "### Q4 How many unique IPs are there for the domains  𝑑1,𝑑2,… ?"
   ]
  },
  {
   "cell_type": "code",
   "execution_count": 222,
   "metadata": {},
   "outputs": [
    {
     "data": {
      "text/plain": [
       "{'python.org': 45.38934098368149,\n",
       " 'wikipedia.org': 45.38934098368149,\n",
       " 'pandas.pydata.org': 45.38934098368149}"
      ]
     },
     "execution_count": 222,
     "metadata": {},
     "output_type": "execute_result"
    }
   ],
   "source": [
    "# estimates\n",
    "STREAM_SIZE = 1000\n",
    "web_traffic_stream = stream(STREAM_SIZE)\n",
    "hyperLogLog_multiple_domains(web_traffic_stream, \n",
    "                             \"pandas.pydata.org\", \n",
    "                             \"python.org\", \n",
    "                             \"wikipedia.org\")"
   ]
  },
  {
   "cell_type": "code",
   "execution_count": 223,
   "metadata": {},
   "outputs": [
    {
     "data": {
      "text/plain": [
       "{'pandas.pydata.org': 129, 'python.org': 281, 'wikipedia.org': 510}"
      ]
     },
     "execution_count": 223,
     "metadata": {},
     "output_type": "execute_result"
    }
   ],
   "source": [
    "# exact\n",
    "def unique_IP_domains(stream, *domains):\n",
    "    exact_counts_dic = find_exact_counts(stream)\n",
    "    exact_dic={}\n",
    "    for domain in domains:\n",
    "        exact_dic[domain] = len(exact_counts_dic[domain])\n",
    "    return exact_dic\n",
    "\n",
    "STREAM_SIZE = 1000\n",
    "web_traffic_stream = stream(STREAM_SIZE)\n",
    "unique_IP_domains(web_traffic_stream,\n",
    "                  \"pandas.pydata.org\", \n",
    "                  \"python.org\", \n",
    "                  \"wikipedia.org\")"
   ]
  },
  {
   "cell_type": "code",
   "execution_count": 224,
   "metadata": {
    "scrolled": false
   },
   "outputs": [
    {
     "data": {
      "image/png": "[encoded data removed]",
      "text/plain": [
       "<Figure size 720x432 with 1 Axes>"
      ]
     },
     "metadata": {
      "needs_background": "light"
     },
     "output_type": "display_data"
    }
   ],
   "source": [
    "# plot counts for stream_size == 1000\n",
    "compare_counts_dic(hyperLogLog_multiple_domains, unique_IP_domains, 1000, \"pandas.pydata.org\", \"python.org\", \"wikipedia.org\")"
   ]
  },
  {
   "cell_type": "markdown",
   "metadata": {},
   "source": [
    "> Again, HyperLogLog seems to give wrong estimates."
   ]
  },
  {
   "cell_type": "code",
   "execution_count": 226,
   "metadata": {},
   "outputs": [
    {
     "name": "stdout",
     "output_type": "stream",
     "text": [
      "Average percentage difference between hyperLogLog_multiple_domains and the true answer for 50 streaming data is 101.7751936060403%.\n",
      "Average percentage difference between hyperLogLog_multiple_domains and the true answer for 100 streaming data is 54.71123365072523%.\n",
      "Average percentage difference between hyperLogLog_multiple_domains and the true answer for 500 streaming data is 94.85931066869033%.\n",
      "Average percentage difference between hyperLogLog_multiple_domains and the true answer for 1000 streaming data is 135.85784300662547%.\n",
      "Average percentage difference between hyperLogLog_multiple_domains and the true answer for 5000 streaming data is 184.69603371450498%.\n",
      "Average percentage difference between hyperLogLog_multiple_domains and the true answer for 10000 streaming data is 192.17610274007905%.\n",
      "Average percentage difference between hyperLogLog_multiple_domains and the true answer for 50000 streaming data is 198.35515665269338%.\n"
     ]
    },
    {
     "data": {
      "image/png": "[encoded data removed]",
      "text/plain": [
       "<Figure size 720x432 with 1 Axes>"
      ]
     },
     "metadata": {
      "needs_background": "light"
     },
     "output_type": "display_data"
    }
   ],
   "source": [
    "# plot\n",
    "percent_diff_plot_dic(hyperLogLog_multiple_domains, unique_IP_domains, \"pandas.pydata.org\", \"python.org\", \"wikipedia.org\")"
   ]
  },
  {
   "cell_type": "markdown",
   "metadata": {},
   "source": [
    "> Generally speaking, percentage difference widens with stream size probably due to the same reason that we have outlined in Q1 and Q2. i.e. insufficient slots in the hash array."
   ]
  },
  {
   "cell_type": "markdown",
   "metadata": {},
   "source": [
    "### Q5 How many times was IP X seen on domains  𝑑1,𝑑2,… ?"
   ]
  },
  {
   "cell_type": "code",
   "execution_count": 51,
   "metadata": {},
   "outputs": [
    {
     "data": {
      "text/plain": [
       "{'python.org': 18, 'wikipedia.org': 27}"
      ]
     },
     "execution_count": 51,
     "metadata": {},
     "output_type": "execute_result"
    }
   ],
   "source": [
    "# estimates\n",
    "STREAM_SIZE = 1000\n",
    "web_traffic_stream = stream(STREAM_SIZE)\n",
    "results_dictionary = getResult_multiple_domains(web_traffic_stream,\n",
    "                                                \"186.99.192.116\", \n",
    "                                                \"python.org\", \n",
    "                                                \"wikipedia.org\")\n",
    "results_dictionary"
   ]
  },
  {
   "cell_type": "code",
   "execution_count": 52,
   "metadata": {},
   "outputs": [
    {
     "ename": "KeyError",
     "evalue": "'186.99.192.116'",
     "output_type": "error",
     "traceback": [
      "\u001b[0;31m---------------------------------------------------------------------------\u001b[0m",
      "\u001b[0;31mKeyError\u001b[0m                                  Traceback (most recent call last)",
      "\u001b[0;32m<ipython-input-52-b0d8edb24488>\u001b[0m in \u001b[0;36m<module>\u001b[0;34m\u001b[0m\n\u001b[1;32m      4\u001b[0m \u001b[0mexact_dic\u001b[0m\u001b[0;34m=\u001b[0m\u001b[0;34m{\u001b[0m\u001b[0;34m}\u001b[0m\u001b[0;34m\u001b[0m\u001b[0;34m\u001b[0m\u001b[0m\n\u001b[1;32m      5\u001b[0m \u001b[0mexact_dic\u001b[0m\u001b[0;34m[\u001b[0m\u001b[0;34m\"python.org\"\u001b[0m\u001b[0;34m]\u001b[0m\u001b[0;34m=\u001b[0m\u001b[0mexact_counts_dic\u001b[0m\u001b[0;34m[\u001b[0m\u001b[0;34m\"python.org\"\u001b[0m\u001b[0;34m]\u001b[0m\u001b[0;34m[\u001b[0m\u001b[0;34m\"186.99.192.116\"\u001b[0m\u001b[0;34m]\u001b[0m\u001b[0;34m\u001b[0m\u001b[0;34m\u001b[0m\u001b[0m\n\u001b[0;32m----> 6\u001b[0;31m \u001b[0mexact_dic\u001b[0m\u001b[0;34m[\u001b[0m\u001b[0;34m\"wikipedia.org\"\u001b[0m\u001b[0;34m]\u001b[0m\u001b[0;34m=\u001b[0m\u001b[0mexact_counts_dic\u001b[0m\u001b[0;34m[\u001b[0m\u001b[0;34m\"wikipedia.org\"\u001b[0m\u001b[0;34m]\u001b[0m\u001b[0;34m[\u001b[0m\u001b[0;34m\"186.99.192.116\"\u001b[0m\u001b[0;34m]\u001b[0m\u001b[0;34m\u001b[0m\u001b[0;34m\u001b[0m\u001b[0m\n\u001b[0m\u001b[1;32m      7\u001b[0m \u001b[0mexact_dic\u001b[0m\u001b[0;34m\u001b[0m\u001b[0;34m\u001b[0m\u001b[0m\n",
      "\u001b[0;31mKeyError\u001b[0m: '186.99.192.116'"
     ]
    }
   ],
   "source": [
    "# exact\n",
    "STREAM_SIZE = 1000\n",
    "web_traffic_stream = stream(STREAM_SIZE)\n",
    "exact_counts_dic = find_exact_counts(web_traffic_stream)\n",
    "exact_dic={}\n",
    "exact_dic[\"python.org\"]=exact_counts_dic[\"python.org\"][\"186.99.192.116\"]\n",
    "exact_dic[\"wikipedia.org\"]=exact_counts_dic[\"wikipedia.org\"][\"186.99.192.116\"]\n",
    "exact_dic"
   ]
  },
  {
   "cell_type": "markdown",
   "metadata": {},
   "source": [
    "> There is a keyError when getting the exact count. This implies that in the first 1000 records, IP '186.99.192.116' does not even appear. However, estimates are available. This means estimates are not accurate."
   ]
  },
  {
   "cell_type": "markdown",
   "metadata": {},
   "source": [
    "### Q6 What are the X most frequent IPs in the stream?"
   ]
  },
  {
   "cell_type": "code",
   "execution_count": 55,
   "metadata": {},
   "outputs": [
    {
     "data": {
      "text/plain": [
       "['174.83.136.188', '111.124.49.168', '128.187.104.68', '155.206.241.132']"
      ]
     },
     "execution_count": 55,
     "metadata": {},
     "output_type": "execute_result"
    }
   ],
   "source": [
    "# estimates\n",
    "STREAM_SIZE = 1000\n",
    "web_traffic_stream = stream(STREAM_SIZE)\n",
    "topX = topX_frequency(web_traffic_stream, 3)\n",
    "topX"
   ]
  },
  {
   "cell_type": "code",
   "execution_count": 73,
   "metadata": {},
   "outputs": [],
   "source": [
    "# exact\n",
    "def most_frequent(stream,X):\n",
    "    topX={}\n",
    "    while (True):\n",
    "        try:\n",
    "            IP=next(stream).split(\"\\t\")[0]\n",
    "        except:\n",
    "            sort= sorted(list(topX.items()), \n",
    "                          key=lambda x : x[1],\n",
    "                          reverse=True)\n",
    "            return list(map(lambda x : x[0], sort[:X]))\n",
    "\n",
    "        if IP not in topX:\n",
    "            topX[IP] = 0\n",
    "        topX[IP] += 1\n",
    "    return"
   ]
  },
  {
   "cell_type": "code",
   "execution_count": 74,
   "metadata": {},
   "outputs": [
    {
     "data": {
      "text/plain": [
       "['186.99.192.116', '202.152.82.171', '130.126.231.205']"
      ]
     },
     "execution_count": 74,
     "metadata": {},
     "output_type": "execute_result"
    }
   ],
   "source": [
    "STREAM_SIZE = 1000\n",
    "web_traffic_stream = stream(STREAM_SIZE)\n",
    "most_frequent(web_traffic_stream, 3)"
   ]
  },
  {
   "cell_type": "markdown",
   "metadata": {},
   "source": [
    "> Seems the estimates for topX is not accurate either."
   ]
  },
  {
   "cell_type": "markdown",
   "metadata": {},
   "source": [
    "### Choosing certain parameters for the data structure"
   ]
  },
  {
   "cell_type": "markdown",
   "metadata": {},
   "source": [
    "#### Hyperloglog"
   ]
  },
  {
   "cell_type": "markdown",
   "metadata": {},
   "source": [
    "The parameter 'm' of Hyperloglog can be analysed as follows. for x(counter)=$_{}log_2^m$, it means that $2^x$ = m, so basically m has to be power of 2.The paper 'HyperLogLog: the analysis of a near-optimalcardinality estimation algorithm' (http://algo.inria.fr/flajolet/Publications/FlFuGaMe07.pdf) maintained that generally the algorithm dimensioned for maximal cardinalities in the range[0..$10^9$] and for common“practical” values m= $2^4$,...,$2^{16}$."
   ]
  },
  {
   "cell_type": "markdown",
   "metadata": {},
   "source": [
    "Predicted standard error of Hyperloglog is calculated as $1.04\\sqrt{m}$, for instance, we calculated the perdicted standard error for m =32, 64, 128, 256, 1024 and 65536. The results are predict error ±18% for m=32, ±13% for m=64,±9% for m=128,±7% for m=256,±3% for m=1024 and ±0.5% for m= 65536. The larger the m, the smaller the error rate and the higher accuracy. However, on the other hand, the larger the m, the more storage space is required. For the purpose of our project,we think that 'm=32' and general error of  ±18% percent would be enough to get a general picture of unique IPs visited but it seems like we need a bigger m for a more accurate result."
   ]
  },
  {
   "cell_type": "markdown",
   "metadata": {},
   "source": [
    "#### CountMIN"
   ]
  },
  {
   "cell_type": "markdown",
   "metadata": {},
   "source": [
    "The parameter'w' and'd' of CountMin can be explained as follows.The CountMIN sketch is simply an array of counters of width w and depth d, CM[1, 1] . . . CM[d, w]. Each entry of the array is initially zero. Additionally, d hash functions h1 . . . hd : {1 . . . n} → {1 . . . w} are chosen uniformly at random from a pairwise-independent family. Once w and d are chosen, the space required is fixed: the data structure is represented by wd counters and d hash functions."
   ]
  },
  {
   "cell_type": "markdown",
   "metadata": {},
   "source": [
    "Generally, Count Min Sketch’s efficiency can be demonstrated by reviewing its requirements. \n",
    "A method is found for calculating width(w)and depth(d).\n",
    "First one is from the paper by original CountMin author:\n",
    "http://dimacs.rutgers.edu/~graham/pubs/papers/cmsoft.pdf , from which we conclude that $$𝑤=2/error$$\n",
    "\n",
    "$$𝑑=ln(1−certainty)/ln(1/2)$$\n",
    "Also,from the book called'Real-Time Analytics: Techniques to Analyze and Visualize Streaming Data' the calculation of d and w is given as \n",
    "$$𝑤=2/error$$\n",
    "\n",
    "$$𝑑=ln(1/(1−certainty))/ln(2)$$\n",
    "which is equivalent as the formula given before.\n",
    "From the implementation of CountMin within stream-lib (https://github.com/addthis/stream-lib/blob/master/src/main/java/com/clearspring/analytics/stream/frequency/CountMinSketch.java) the formalu is given as \n",
    "$$𝑤=2/error$$\n",
    "\n",
    "$$𝑑=⌈−ln(1−certainty)/ln(2)$$\n",
    "which is also equivalent."
   ]
  },
  {
   "cell_type": "markdown",
   "metadata": {},
   "source": [
    "We chose w=16 and d=5 as the parameters for the question'How many times was IP X seen on domain Y',then the error will be 12% while certainty will be 97%.For the question'What are the X most frequent IPs in the stream'w=32 and d=10 are chosen by us, so the error will be 6.25% when certainty will be 99.9%."
   ]
  },
  {
   "cell_type": "markdown",
   "metadata": {},
   "source": [
    "With the increase of w and d, the error will be smaller, which means the accuracy will be higher. Nevertheless, with the increase of w, the storage space will be larger. And as d goes up, it takes longer time to calculate.We chose w=16 and d=5 as the parameters for the question'How many times was IP X seen on domain' and we chose w=32 and d=10 as the parameters for the question'What are the X most frequent IPs in the stream'because for the second questions (most frequent)it requires more accuracy, otherwise there will be a bigger chance to give the wrong answer. But from the result, we need to increase 'w'to a large extent."
   ]
  }
 ],
 "metadata": {
  "kernelspec": {
   "display_name": "Python 3",
   "language": "python",
   "name": "python3"
  },
  "language_info": {
   "codemirror_mode": {
    "name": "ipython",
    "version": 3
   },
   "file_extension": ".py",
   "mimetype": "text/x-python",
   "name": "python",
   "nbconvert_exporter": "python",
   "pygments_lexer": "ipython3",
   "version": "3.7.3"
  }
 },
 "nbformat": 4,
 "nbformat_minor": 2
}
