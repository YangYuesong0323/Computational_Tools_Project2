{
 "cells": [
  {
   "cell_type": "markdown",
   "metadata": {},
   "source": [
    "# Project 2: Web Traffic Analysis\n",
    "**This is the second of three mandatory projects to be handed in as part of the assessment for the course 02807 Computational Tools for Data Science at Technical University of Denmark, autumn 2019.**\n",
    "\n",
    "#### Practical info\n",
    "- **The project is to be done in groups of at most 3 students**\n",
    "- **Each group has to hand in _one_ Jupyter notebook (this notebook) with their solution**\n",
    "- **The hand-in of the notebook is due 2019-11-10, 23:59 on DTU Inside**\n",
    "\n",
    "#### Your solution\n",
    "- **Your solution should be in Python**\n",
    "- **For each question you may use as many cells for your solution as you like**\n",
    "- **You should document your solution and explain the choices you've made (for example by using multiple cells and use Markdown to assist the reader of the notebook)**\n",
    "- **You should not remove the problem statements**\n",
    "- **Your notebook should be runnable, i.e., clicking [>>] in Jupyter should generate the result that you want to be assessed**\n",
    "- **You are not expected to use machine learning to solve any of the exercises**\n",
    "- **You will be assessed according to correctness and readability of your code, choice of solution, choice of tools and libraries, and documentation of your solution**"
   ]
  },
  {
   "cell_type": "markdown",
   "metadata": {},
   "source": [
    "## Introduction\n",
    "In this project your task is to analyze a stream of log entries. A log entry consists of an [IP address](https://en.wikipedia.org/wiki/IP_address) and a [domain name](https://en.wikipedia.org/wiki/Domain_name). For example, a log line may look as follows:\n",
    "\n",
    "`192.168.0.1 somedomain.dk`\n",
    "\n",
    "One log line is the result of the event that the domain name was visited by someone having the corresponding IP address. Your task is to analyze the traffic on a number of domains. Counting the number of unique IPs seen on a domain doesn't correspond to the exact number of unique visitors, but it is a good estimate.\n",
    "\n",
    "Specifically, you should answer the following questions from the stream of log entries.\n",
    "\n",
    "- How many unique IPs are there in the stream?\n",
    "- How many unique IPs are there for each domain?\n",
    "- How many times was IP X seen on domain Y? (for some X and Y provided at run time)\n",
    "\n",
    "**The answers to these questions can be approximate!**\n",
    "\n",
    "You should also try to answer one or more of the following, more advanced, questions. The answers to these should also be approximate.\n",
    "\n",
    "- How many unique IPs are there for the domains $d_1, d_2, \\ldots$?\n",
    "- How many times was IP X seen on domains $d_1, d_2, \\ldots$?\n",
    "- What are the X most frequent IPs in the stream?\n",
    "\n",
    "You should use algorithms and data structures that you've learned about in the lectures, and you should provide your own implementations of these.\n",
    "\n",
    "Furthermore, you are expected to:\n",
    "\n",
    "- Document the accuracy of your answers when using algorithms that give approximate answers\n",
    "- Argue why you are using certain parameters for your data structures\n",
    "\n",
    "This notebook is in three parts. In the first part you are given an example of how to read from the stream (which for the purpose of this project is a remote file). In the second part you should implement the algorithms and data structures that you intend to use, and in the last part you should use these for analyzing the stream."
   ]
  },
  {
   "cell_type": "code",
   "execution_count": 45,
   "metadata": {},
   "outputs": [
    {
     "name": "stdout",
     "output_type": "stream",
     "text": [
      "Requirement already satisfied: pymmh3 in c:\\programdata\\anaconda3\\lib\\site-packages (0.0.5)\n",
      "Requirement already satisfied: scipy in c:\\programdata\\anaconda3\\lib\\site-packages (1.2.1)\n"
     ]
    }
   ],
   "source": [
    "# Install pip packages phmmh3 and scipy in the current Jupyter kernel\n",
    "import sys\n",
    "!{sys.executable} -m pip install pymmh3\n",
    "!{sys.executable} -m pip install scipy"
   ]
  },
  {
   "cell_type": "code",
   "execution_count": 6,
   "metadata": {},
   "outputs": [],
   "source": [
    "import pymmh3 as mmh3\n",
    "import math\n",
    "import urllib\n",
    "import statistics\n",
    "import random\n",
    "import numpy as np\n",
    "import collections\n",
    "import pandas as pd\n",
    "from scipy.integrate import quad\n",
    "from collections import Counter"
   ]
  },
  {
   "cell_type": "markdown",
   "metadata": {},
   "source": [
    "## Reading the stream\n",
    "The following code reads a remote file line by line. It is wrapped in a generator to make it easier to extend. You may modify this if you want to, but your solution should remain parametrized, so that your notebook can be run without having to consume the entire file."
   ]
  },
  {
   "cell_type": "code",
   "execution_count": 7,
   "metadata": {},
   "outputs": [],
   "source": [
    "url=\"https://files.dtu.dk/fss/public/link/public/stream/read/traffic_2?linkToken=_DcyO-U3MjjuNzI-&itemName=traffic_2\""
   ]
  },
  {
   "cell_type": "code",
   "execution_count": 11,
   "metadata": {},
   "outputs": [],
   "source": [
    "def stream(n):\n",
    "    i = 0\n",
    "    with urllib.request.urlopen(url) as f:\n",
    "        for line in f:\n",
    "            element = line.rstrip().decode(\"utf-8\")\n",
    "            yield element\n",
    "            i += 1\n",
    "            if i == n:\n",
    "                break"
   ]
  },
  {
   "cell_type": "code",
   "execution_count": 9,
   "metadata": {},
   "outputs": [],
   "source": [
    "STREAM_SIZE = 5\n",
    "web_traffic_stream = stream(STREAM_SIZE)"
   ]
  },
  {
   "cell_type": "code",
   "execution_count": 10,
   "metadata": {},
   "outputs": [
    {
     "name": "stdout",
     "output_type": "stream",
     "text": [
      "186.99.192.116\tpython.org\n",
      "202.152.82.171\twikipedia.org\n",
      "130.126.231.205\tpython.org\n",
      "116.142.112.214\tpandas.pydata.org\n",
      "113.124.204.127\tpython.org\n"
     ]
    }
   ],
   "source": [
    "# test run to print the first 5 lines in the traffic stream\n",
    "for x in web_traffic_stream:\n",
    "    print(x)"
   ]
  },
  {
   "cell_type": "markdown",
   "metadata": {},
   "source": [
    "## Data structures"
   ]
  },
  {
   "cell_type": "markdown",
   "metadata": {},
   "source": [
    "### Q1 How many unique IPs are there in the stream?"
   ]
  },
  {
   "cell_type": "markdown",
   "metadata": {},
   "source": [
    ">There are many implementations available for HyperLogLog. Our group decides to implement the one introduced by Wikipedia. Source : https://en.wikipedia.org/wiki/HyperLogLog."
   ]
  },
  {
   "cell_type": "markdown",
   "metadata": {},
   "source": [
    "There are two main differences between the one introduced in lecture and in Wikipedia:"
   ]
  },
  {
   "cell_type": "markdown",
   "metadata": {},
   "source": [
    "* The hash function. In the lecture slides, the chosen hash function should map variable x to a number in [0, ..., w-1] where w = 32 or 64. In Wikipedia, the chosen hash function can map x to any range of integer."
   ]
  },
  {
   "cell_type": "markdown",
   "metadata": {},
   "source": [
    "* The count estimation. In lecture slides, the multiplication of m and the hormonic mean of the array M is returned. However, in Wikipedia, a more sophisticated estimation is presented which results in smaller error in estimation. We have attached a screenshot of the estimation formula below."
   ]
  },
  {
   "attachments": {
    "Screenshot%202019-11-04%20at%2004.57.50.png": {
     "image/png": "[encoded data removed]"
    }
   },
   "cell_type": "markdown",
   "metadata": {},
   "source": [
    "![Screenshot%202019-11-04%20at%2004.57.50.png](attachment:Screenshot%202019-11-04%20at%2004.57.50.png)"
   ]
  },
  {
   "cell_type": "code",
   "execution_count": 12,
   "metadata": {},
   "outputs": [],
   "source": [
    "def hyperLogLog(stream, m=32): # m has to be power of 2\n",
    "    \n",
    "    # initiate an array M with m counters\n",
    "    M = [0,] * (m+1) # index 0 is dummy, we only focus on index 1 to m\n",
    "    \n",
    "    while (True):\n",
    "        \n",
    "        # try getting the next element\n",
    "        try:\n",
    "            IP=next(stream).split()[0]\n",
    "            \n",
    "        # function should end here\n",
    "        # enter the except block when there is no more incoming data\n",
    "        except: \n",
    "            \n",
    "            # get Z (note, exclude index 0 in array M)\n",
    "            Z = sum(list(map(lambda x : 2**-M[x], M[1:]))) ** -1\n",
    "            a_m = (quad(lambda u : math.log((2+u)/(1+u),2)**m , 0, np.inf)[0] * m)** -1\n",
    "            E = a_m * (m**2) * Z\n",
    "\n",
    "            return E\n",
    "    \n",
    "        # hash the IP address\n",
    "        hashing=mmh3.hash(IP)\n",
    "        \n",
    "        # obtain a binary representation of the IP address\n",
    "        binary=\"{0:b}\".format(hashing)\n",
    "\n",
    "        # split the binary string into upper and lower parts\n",
    "        upper=binary[0: int(math.log(m,2))]\n",
    "        lower=binary[int(math.log(m,2)):]\n",
    "\n",
    "        # compute position p of the leftmost 1-bit of the lower part\n",
    "        # if there is no 1 in the lower part, just return the length of the lower part\n",
    "        # this is based on the fact that 0000 occurs with the same probability as 0001\n",
    "        p=lower.find(\"1\") + 1 if lower.find(\"1\") != -1 else len(lower)\n",
    "\n",
    "        # obtain the index j which is the integer representation of the upper part + 1\n",
    "        j=abs(int(upper, 2)) + 1\n",
    "\n",
    "        # update array M\n",
    "        M[j]= max(M[j],p)\n",
    "    \n",
    "    return"
   ]
  },
  {
   "cell_type": "markdown",
   "metadata": {},
   "source": [
    " "
   ]
  },
  {
   "cell_type": "markdown",
   "metadata": {},
   "source": [
    "### Q2 How many unique IPs are there for each domain?"
   ]
  },
  {
   "cell_type": "markdown",
   "metadata": {},
   "source": [
    "> This is a generalization of Q1. We will modify HyperLogLog algorithm."
   ]
  },
  {
   "cell_type": "markdown",
   "metadata": {},
   "source": [
    "Our approach:"
   ]
  },
  {
   "cell_type": "markdown",
   "metadata": {},
   "source": [
    "1. Maintain a dictionary where key is domain and value is a HyperLogLog array."
   ]
  },
  {
   "cell_type": "markdown",
   "metadata": {},
   "source": [
    "2. For each incoming record, update corresponding HLL array, depending on the domain."
   ]
  },
  {
   "cell_type": "markdown",
   "metadata": {},
   "source": [
    "3. Compute unique IPs for each domain. "
   ]
  },
  {
   "cell_type": "code",
   "execution_count": 32,
   "metadata": {},
   "outputs": [],
   "source": [
    "def hyperLogLog_at_scale(stream, m=32): # m has to be power of 2\n",
    "    \n",
    "    # initialize a domain dictionary with format {key = domain name : value = M array}\n",
    "    domain_dic={}\n",
    "    \n",
    "    while (True):\n",
    "        try:\n",
    "            element=next(stream).split()\n",
    "            IP=element[0]\n",
    "            domain=element[1]\n",
    "\n",
    "        except: \n",
    "            \n",
    "            # init a new dictionary with format {key = domain name : value = estimated count}\n",
    "            count_dic={}\n",
    "            \n",
    "            for (domain, M) in domain_dic.items():\n",
    "                Z = sum(list(map(lambda x : 2**-M[x], M[1:]))) ** -1\n",
    "                a_m = (quad(lambda u : math.log((2+u)/(1+u),2)**m , 0, np.inf)[0] * m)** -1\n",
    "                E = a_m * (m**2) * Z\n",
    "                \n",
    "                # add the domain and its corresponding unique counts to the dictionary\n",
    "                count_dic[domain]=E\n",
    "                       \n",
    "            return count_dic\n",
    "        \n",
    "        # first time seeing this domain\n",
    "        # create a M array of m counters\n",
    "        if domain not in domain_dic:\n",
    "            domain_dic[domain] = [0,] * (m+1)\n",
    "        \n",
    "        # hash the IP address\n",
    "        hashing=mmh3.hash(IP)\n",
    "        \n",
    "        # obtain a binary representation of the IP address\n",
    "        binary=\"{0:b}\".format(hashing)\n",
    "\n",
    "        # split the binary string into upper and lower parts\n",
    "        upper=binary[0: int(math.log(m,2))]\n",
    "        lower=binary[int(math.log(m,2)):]\n",
    "\n",
    "        # compute position p of the leftmost 1-bit of the lower part\n",
    "        p=lower.find(\"1\") + 1 if lower.find(\"1\") != -1 else len(lower)\n",
    "\n",
    "        # obtain the index j which is the integer representation of the upper part + 1\n",
    "        j=abs(int(upper, 2)) + 1\n",
    "\n",
    "        # update array M for that specific domain\n",
    "        value = domain_dic[domain]\n",
    "        value[j] = max(value[j],p)\n",
    "        domain_dic[domain] = value\n",
    "    \n",
    "    # dummy return value\n",
    "    return"
   ]
  },
  {
   "cell_type": "markdown",
   "metadata": {},
   "source": [
    " "
   ]
  },
  {
   "cell_type": "markdown",
   "metadata": {},
   "source": [
    "### Q3 How many times was IP X seen on domain Y? (for some X and Y provided at run time)"
   ]
  },
  {
   "cell_type": "markdown",
   "metadata": {},
   "source": [
    "> We will implement countMin data structure."
   ]
  },
  {
   "cell_type": "markdown",
   "metadata": {},
   "source": [
    "> Note: python, unlike java, does not have compile time and run time. So our group assumes the question is asking us to build countMin on each domain. Then, IP X and domain Y will be provided. If IP_X and domain_Y are provided at the start, we can simply filter and obtain the accurate frequency with the pseudo code below."
   ]
  },
  {
   "cell_type": "markdown",
   "metadata": {},
   "source": [
    "def helper(stream, IP_X, Domain_Y):\n",
    "    \n",
    "    counter = 0\n",
    "    \n",
    "    get_next_record from stream\n",
    "    \n",
    "    if domain == domain_Y and IP == IP_X:\n",
    "        \n",
    "        counter +=1\n",
    "    \n",
    "    return counter"
   ]
  },
  {
   "cell_type": "markdown",
   "metadata": {},
   "source": [
    "Our approach:"
   ]
  },
  {
   "cell_type": "markdown",
   "metadata": {},
   "source": [
    "1. Maintain a dictionary, key is domain name and value is countMin M matrix."
   ]
  },
  {
   "cell_type": "markdown",
   "metadata": {},
   "source": [
    "2. Process each record based on its domain and update corresponding M matrix."
   ]
  },
  {
   "cell_type": "markdown",
   "metadata": {},
   "source": [
    "3. Return the dictionary. "
   ]
  },
  {
   "cell_type": "code",
   "execution_count": 37,
   "metadata": {},
   "outputs": [],
   "source": [
    "def countMin(stream, w=16, d=5):\n",
    "    \n",
    "    # init a domain dictionary with format (key=domain name : value = M matrix)\n",
    "    domain_dic={}\n",
    "    \n",
    "    while (True):\n",
    "        \n",
    "        # try getting the next IP adress\n",
    "        try:\n",
    "            element=next(stream).split()\n",
    "            IP=element[0]\n",
    "            domain=element[1]\n",
    "    \n",
    "        # function should end here\n",
    "        except: \n",
    "            return domain_dic\n",
    "        \n",
    "        # create a w*d matrix for each domain\n",
    "        if domain not in domain_dic:\n",
    "            outer=[]\n",
    "            for i in range(d):\n",
    "                inner=[0,] * w\n",
    "                outer.append(inner)\n",
    "            # assign into dictionary\n",
    "            domain_dic[domain] = outer\n",
    "        \n",
    "        # loop through each hashing function\n",
    "        for s in range(0,d):\n",
    "            # get a unique hashing\n",
    "            hashing=mmh3.hash(IP, seed=s) % w\n",
    "\n",
    "            # obtain the matrix for specified domain\n",
    "            value = domain_dic[domain]\n",
    "            \n",
    "            # update the matrix\n",
    "            value[s][hashing] +=1\n",
    "            \n",
    "            # assign new matrix back to the dictionary\n",
    "            domain_dic[domain] = value\n",
    "            \n",
    "    # dummy return\n",
    "    return"
   ]
  },
  {
   "cell_type": "markdown",
   "metadata": {},
   "source": [
    "> Dictionary is built before run time. --> pre-compute"
   ]
  },
  {
   "cell_type": "markdown",
   "metadata": {},
   "source": [
    "> IP X and Domain Y is provided at run time. --> extract estimates"
   ]
  },
  {
   "cell_type": "code",
   "execution_count": 38,
   "metadata": {},
   "outputs": [],
   "source": [
    "# provide IP_X and Domain_Y at run time to extract from dictionary\n",
    "def getResult(dictionary, IP_X, Domain_Y, w=16, d=5):\n",
    "    Matrix=dictionary[Domain_Y]\n",
    "    res_list=[]\n",
    "    for s in range(0,d):\n",
    "        hashing=mmh3.hash(IP_X, seed=s) % w\n",
    "        res_list.append(Matrix[s][hashing])\n",
    "    return min(res_list)"
   ]
  },
  {
   "cell_type": "markdown",
   "metadata": {},
   "source": [
    " "
   ]
  },
  {
   "cell_type": "markdown",
   "metadata": {},
   "source": [
    "### Q4 How many unique IPs are there for the domains  𝑑1,𝑑2,… ?"
   ]
  },
  {
   "cell_type": "markdown",
   "metadata": {},
   "source": [
    "> Our solution is based on dictionary and HyperLogLog."
   ]
  },
  {
   "cell_type": "markdown",
   "metadata": {},
   "source": [
    "> Solution to this qnestion is pretty similar to the one to question 2. If the number of domains are small, it is perfectly fine to use the solution to question 2. Our group implements the below functions with the assumption that there are too many domains in the data stream such that it is not possible to store information about each domain."
   ]
  },
  {
   "cell_type": "markdown",
   "metadata": {},
   "source": [
    "Our approach:"
   ]
  },
  {
   "cell_type": "markdown",
   "metadata": {},
   "source": [
    "1. Maintain a dictionary where key is domain and value is a HyperLogLog array."
   ]
  },
  {
   "cell_type": "markdown",
   "metadata": {},
   "source": [
    "2. For each incoming record, update HLL array if the domain is in the dictionary. Else, ignore."
   ]
  },
  {
   "cell_type": "markdown",
   "metadata": {},
   "source": [
    "3. Compute unique IPs for each domain. "
   ]
  },
  {
   "cell_type": "code",
   "execution_count": 43,
   "metadata": {},
   "outputs": [],
   "source": [
    "def hyperLogLog_multiple_domains(stream, domain1, *domains, m=32): \n",
    "    # minimum number of domains to be specified: 1\n",
    "    # additionally, user can specify more than 1 domain\n",
    "    \n",
    "    # create a domain list containing all the domains at interest\n",
    "    domain_list = [domain1,]\n",
    "    domain_list.extend(list(domains))\n",
    "    \n",
    "    # initialize a domain dictionary with format {key = domain name : value = M array}\n",
    "    domain_dic={}\n",
    "    \n",
    "    while (True):\n",
    "        try:\n",
    "            element=next(stream).split()\n",
    "            IP=element[0]\n",
    "            domain=element[1]\n",
    "\n",
    "        # enter the except block when there is no more incoming data\n",
    "        except: \n",
    "            # init a new dictionary with format {key = domain name : value = estimated count}\n",
    "            count_dic={}\n",
    "            \n",
    "            for (domain, M) in domain_dic.items():\n",
    "                # get Z (note, exclude index 0 in array M)\n",
    "                Z = sum(list(map(lambda x : 2**-M[x], M[1:]))) ** -1\n",
    "                a_m = (quad(lambda u : math.log((2+u)/(1+u),2)**m , 0, np.inf)[0] * m)** -1\n",
    "                E = a_m * (m**2) * Z\n",
    "                # add the domain and its corresponding unique counts to the dictionary\n",
    "                count_dic[domain]=E\n",
    "                       \n",
    "            return count_dic\n",
    "        \n",
    "        # if the incoming domain is of our interest, and that it is the first time we see this domain\n",
    "        # create a M array of m counters\n",
    "        if domain in domain_list and domain not in domain_dic:\n",
    "            domain_dic[domain] = [0,] * (m+1)\n",
    "        \n",
    "        # hash the IP address\n",
    "        hashing=mmh3.hash(IP)\n",
    "\n",
    "        # obtain a binary representation of the IP address\n",
    "        binary=\"{0:b}\".format(hashing)\n",
    "\n",
    "        # split the binary string into upper and lower parts\n",
    "        upper=binary[0: int(math.log(m,2))]\n",
    "        lower=binary[int(math.log(m,2)):]\n",
    "\n",
    "        # compute position p of the leftmost 1-bit of the lower part\n",
    "        p=lower.find(\"1\") + 1 if lower.find(\"1\") != -1 else len(lower)\n",
    "\n",
    "        # obtain the index j which is the integer representation of the upper part + 1\n",
    "        j=abs(int(upper, 2)) + 1\n",
    "\n",
    "        # update array M for that specific domain\n",
    "        if domain in domain_list:\n",
    "            value = domain_dic[domain]\n",
    "            value[j] = max(value[j],p)\n",
    "            domain_dic[domain] = value\n",
    "    \n",
    "    # dummy return value\n",
    "    return"
   ]
  },
  {
   "cell_type": "markdown",
   "metadata": {},
   "source": [
    " "
   ]
  },
  {
   "cell_type": "markdown",
   "metadata": {},
   "source": [
    "### Q5 How many times was IP X seen on domains  𝑑1,𝑑2,… ?"
   ]
  },
  {
   "cell_type": "markdown",
   "metadata": {},
   "source": [
    "> Our solution is based on dictionary and countMin."
   ]
  },
  {
   "cell_type": "markdown",
   "metadata": {},
   "source": [
    "> Solution to this qnestion is pretty similar to the one to question 3. If the number of domains are small, it is perfectly fine to use the solution to question 3. Our group implements the below functions with the assumption that there are too many domains in the data stream such that it is not possible to store information about each domain."
   ]
  },
  {
   "cell_type": "markdown",
   "metadata": {},
   "source": [
    "Our approach:"
   ]
  },
  {
   "cell_type": "markdown",
   "metadata": {},
   "source": [
    "1. Maintain a dictionary with key = domain and value = countMin M matrix."
   ]
  },
  {
   "cell_type": "markdown",
   "metadata": {},
   "source": [
    "2. Process each new record based on its domain and update corresponding countMin M matrix."
   ]
  },
  {
   "cell_type": "markdown",
   "metadata": {},
   "source": [
    "3. When IP_X and domains are provided at run time, calculate the estimates from the pre-computed dictionary."
   ]
  },
  {
   "cell_type": "code",
   "execution_count": 47,
   "metadata": {},
   "outputs": [],
   "source": [
    "def countMin_multiple_domains(stream, domain_list, w, d):\n",
    "        \n",
    "    # initialize a domain dictionary with format (key=domain name : value = M matrix)\n",
    "    domain_dic={}\n",
    "    \n",
    "    while (True):\n",
    "        try:\n",
    "            element=next(stream).split()\n",
    "            IP=element[0]\n",
    "            domain=element[1]\n",
    "    \n",
    "        # function should end here\n",
    "        # enter the except block when there is no more incoming data\n",
    "        except:\n",
    "            # return the final dictionary\n",
    "            return domain_dic\n",
    "        \n",
    "        # create a w*d matrix for each domain at interest\n",
    "        if domain in domain_list:\n",
    "            \n",
    "            # first time seeing this domain\n",
    "            if domain not in domain_dic:\n",
    "                outer=[]\n",
    "                for i in range(d):\n",
    "                    inner=[0,] * w\n",
    "                    outer.append(inner)\n",
    "                # add the domain and its matrix to the dictionary\n",
    "                domain_dic[domain] = outer\n",
    "        \n",
    "            # iterate through each hash function\n",
    "            for s in range(0,d):\n",
    "                # hash the IP address\n",
    "                hashing=mmh3.hash(IP, seed=s) % w\n",
    "\n",
    "                # obtain the current matrix for that domain\n",
    "                value = domain_dic[domain]\n",
    "\n",
    "                # increment the number of occurrences by 1 and update the matrix\n",
    "                value[s][hashing] +=1\n",
    "\n",
    "                # assign the updated matrix back to the dictionary\n",
    "                domain_dic[domain] = value\n",
    "            \n",
    "    # dummy return value\n",
    "    return"
   ]
  },
  {
   "cell_type": "code",
   "execution_count": 48,
   "metadata": {},
   "outputs": [],
   "source": [
    "# makes use of the countMin_multiple_domains function\n",
    "# provide IP_X and domains at runtime to extract from the dictionary obtained from the countMin_multiple_domains fucntion\n",
    "\n",
    "def getResult_multiple_domains(stream, IP_X, domain1, *domains, w=16, d=5):\n",
    "        \n",
    "    # create a domain list containing all the domains at interest\n",
    "    domain_list = [domain1,]\n",
    "    domain_list.extend(domains)\n",
    "    \n",
    "    # obtain the countMin_dic from countMin_multiple_domains()\n",
    "    countMin_Dic = countMin_multiple_domains(stream, domain_list, w, d)\n",
    "    \n",
    "    # initialize a dictionary to store the number of times IP X is seen on different domains\n",
    "    # {domain1:n times, domain2: m times, ...}\n",
    "    res_dic = {}\n",
    "    \n",
    "    # iterate through the domain list\n",
    "    for domain in domain_list:  \n",
    "    \n",
    "        # obtain the frequency matrix for a particular domain\n",
    "        Matrix=countMin_Dic[domain]\n",
    "\n",
    "        # initialize a list to store the all the estimated numbers of occurrences from d hashing functions\n",
    "        res_list=[]\n",
    "        \n",
    "        for s in range(0,d):\n",
    "            hashing=mmh3.hash(IP_X, seed=s) % w\n",
    "            res_list.append(Matrix[s][hashing])\n",
    "            count = min(res_list)\n",
    "            # add the count for this particular domain to res_dic\n",
    "            res_dic[domain] = count\n",
    "    \n",
    "    return res_dic"
   ]
  },
  {
   "cell_type": "markdown",
   "metadata": {},
   "source": [
    " "
   ]
  },
  {
   "cell_type": "markdown",
   "metadata": {},
   "source": [
    "### Q6 What are the X most frequent IPs in the stream?"
   ]
  },
  {
   "cell_type": "markdown",
   "metadata": {},
   "source": [
    "#### <font color = \"blue\"> As requested, we will implement the data structure taught in the class. However, it <font color='red'> DOES NOT </font> solve the problem. </font>"
   ]
  },
  {
   "cell_type": "markdown",
   "metadata": {},
   "source": [
    "> Finding the top X most frequent IPs is an extension of finding the most frequent IP. \n",
    "\n",
    "> Our group will modify the Boyer–Moore majority vote algorithm. Source: https://en.wikipedia.org/wiki/Boyer%E2%80%93Moore_majority_vote_algorithm"
   ]
  },
  {
   "cell_type": "markdown",
   "metadata": {},
   "source": [
    "Our approach :"
   ]
  },
  {
   "cell_type": "markdown",
   "metadata": {},
   "source": [
    "1. Maintain a dictionary of size X. Key is IP and value is corresponding frequency."
   ]
  },
  {
   "cell_type": "markdown",
   "metadata": {},
   "source": [
    "2. For each new record e, if e is in the dictionary, increment the frequency by 1."
   ]
  },
  {
   "cell_type": "markdown",
   "metadata": {},
   "source": [
    "3. If e is not in the dictionary and the dictionary size is smaller than X, add e to the dictionary with frequency being 1."
   ]
  },
  {
   "cell_type": "markdown",
   "metadata": {},
   "source": [
    "4. If the dictionary size is X, then decrement all frequencies by 1."
   ]
  },
  {
   "cell_type": "markdown",
   "metadata": {},
   "source": [
    "5. Remove the key-value pair from the dictionary if the value becomes 0."
   ]
  },
  {
   "cell_type": "code",
   "execution_count": 75,
   "metadata": {},
   "outputs": [],
   "source": [
    "def majority_voting_modified(stream, X):\n",
    "    # initiate a dictionary with format {key = IP : value = freqency}\n",
    "    topX = {}\n",
    "    \n",
    "    while (True):\n",
    "        # getting next IP\n",
    "        try:\n",
    "            IP = next(stream).split(\"\\t\")[0]\n",
    "        \n",
    "        # when no more incoming record\n",
    "        except:\n",
    "            return topX\n",
    "        \n",
    "        # Case 1 : IP in the dictionary\n",
    "        if IP in topX:\n",
    "            topX[IP] += 1\n",
    "        \n",
    "        # Case 2: IP not in dictionary\n",
    "        else:\n",
    "            \n",
    "            # Case 2a : topX has vacancy\n",
    "            if len(topX) < X:\n",
    "                topX[IP] = 1\n",
    "                \n",
    "            # Case 2b: topX does not have vacancy\n",
    "            else:\n",
    "                remove=[]\n",
    "                for key in topX:\n",
    "                    topX[key] -= 1\n",
    "                    if topX[key] == 0:\n",
    "                        remove.append(key)\n",
    "                        \n",
    "                # remove key-value pair with value == 0\n",
    "                for rm in remove:\n",
    "                    topX.pop(rm)\n",
    "        print(topX)\n",
    "    \n",
    "    return"
   ]
  },
  {
   "cell_type": "code",
   "execution_count": 76,
   "metadata": {},
   "outputs": [],
   "source": [
    "STREAM_SIZE = 100\n",
    "web_traffic_stream = stream(STREAM_SIZE)"
   ]
  },
  {
   "cell_type": "code",
   "execution_count": 77,
   "metadata": {},
   "outputs": [
    {
     "name": "stdout",
     "output_type": "stream",
     "text": [
      "{'186.99.192.116': 1}\n",
      "{'186.99.192.116': 1, '202.152.82.171': 1}\n",
      "{'186.99.192.116': 1, '202.152.82.171': 1, '130.126.231.205': 1}\n",
      "{'186.99.192.116': 1, '202.152.82.171': 1, '130.126.231.205': 1, '116.142.112.214': 1}\n",
      "{'186.99.192.116': 1, '202.152.82.171': 1, '130.126.231.205': 1, '116.142.112.214': 1, '113.124.204.127': 1}\n",
      "{}\n",
      "{'138.74.228.219': 1}\n",
      "{'138.74.228.219': 1, '56.120.106.87': 1}\n",
      "{'138.74.228.219': 1, '56.120.106.87': 1, '189.119.55.225': 1}\n",
      "{'138.74.228.219': 1, '56.120.106.87': 1, '189.119.55.225': 1, '180.110.73.101': 1}\n",
      "{'138.74.228.219': 1, '56.120.106.87': 1, '189.119.55.225': 1, '180.110.73.101': 1, '125.147.103.124': 1}\n",
      "{}\n",
      "{'64.108.133.139': 1}\n",
      "{'64.108.133.139': 1, '87.91.133.89': 1}\n",
      "{'64.108.133.139': 1, '87.91.133.89': 1, '111.141.147.118': 1}\n",
      "{'64.108.133.139': 1, '87.91.133.89': 1, '111.141.147.118': 1, '97.65.99.76': 1}\n",
      "{'64.108.133.139': 1, '87.91.133.89': 1, '111.141.147.118': 1, '97.65.99.76': 1, '80.99.56.157': 1}\n",
      "{}\n",
      "{'200.132.86.152': 1}\n",
      "{'200.132.86.152': 1, '98.200.179.72': 1}\n",
      "{'200.132.86.152': 1, '98.200.179.72': 1, '82.129.212.123': 1}\n",
      "{'200.132.86.152': 1, '98.200.179.72': 1, '82.129.212.123': 1, '118.134.162.177': 1}\n",
      "{'200.132.86.152': 1, '98.200.179.72': 1, '82.129.212.123': 1, '118.134.162.177': 1, '142.129.144.83': 1}\n",
      "{}\n",
      "{'166.31.84.181': 1}\n",
      "{'166.31.84.181': 1, '194.77.131.184': 1}\n",
      "{'166.31.84.181': 1, '194.77.131.184': 1, '204.76.93.95': 1}\n",
      "{'166.31.84.181': 1, '194.77.131.184': 1, '204.76.93.95': 1, '164.82.140.88': 1}\n",
      "{'166.31.84.181': 1, '194.77.131.184': 1, '204.76.93.95': 1, '164.82.140.88': 1, '175.168.120.155': 1}\n",
      "{}\n",
      "{'109.96.154.73': 1}\n",
      "{'109.96.154.73': 1, '217.77.159.138': 1}\n",
      "{'109.96.154.73': 1, '217.77.159.138': 1, '127.194.124.74': 1}\n",
      "{'109.96.154.73': 1, '217.77.159.138': 1, '127.194.124.74': 1, '135.112.123.187': 1}\n",
      "{'109.96.154.73': 1, '217.77.159.138': 1, '127.194.124.74': 1, '135.112.123.187': 1, '183.99.127.119': 1}\n",
      "{}\n",
      "{'145.91.109.142': 1}\n",
      "{'145.91.109.142': 1, '194.160.147.218': 1}\n",
      "{'145.91.109.142': 1, '194.160.147.218': 1, '174.80.93.208': 1}\n",
      "{'145.91.109.142': 1, '194.160.147.218': 1, '174.80.93.208': 1, '188.184.111.204': 1}\n",
      "{'145.91.109.142': 1, '194.160.147.218': 1, '174.80.93.208': 1, '188.184.111.204': 1, '118.132.34.85': 1}\n",
      "{}\n",
      "{'93.159.94.107': 1}\n",
      "{'93.159.94.107': 1, '102.96.109.126': 1}\n",
      "{'93.159.94.107': 1, '102.96.109.126': 1, '58.119.72.88': 1}\n",
      "{'93.159.94.107': 1, '102.96.109.126': 1, '58.119.72.88': 1, '108.212.197.110': 1}\n",
      "{'93.159.94.107': 1, '102.96.109.126': 1, '58.119.72.88': 1, '108.212.197.110': 1, '73.112.136.99': 1}\n",
      "{}\n",
      "{'177.107.174.173': 1}\n",
      "{'177.107.174.173': 1, '174.98.209.145': 1}\n",
      "{'177.107.174.173': 1, '174.98.209.145': 1, '251.223.134.114': 1}\n",
      "{'177.107.174.173': 1, '174.98.209.145': 1, '251.223.134.114': 1, '112.178.122.82': 1}\n",
      "{'177.107.174.173': 1, '174.98.209.145': 1, '251.223.134.114': 1, '112.178.122.82': 1, '141.93.32.94': 1}\n",
      "{}\n",
      "{'171.149.69.88': 1}\n",
      "{'171.149.69.88': 1, '115.170.85.106': 1}\n",
      "{'171.149.69.88': 1, '115.170.85.106': 1, '132.117.139.124': 1}\n",
      "{'171.149.69.88': 1, '115.170.85.106': 1, '132.117.139.124': 1, '100.253.180.141': 1}\n",
      "{'171.149.69.88': 1, '115.170.85.106': 1, '132.117.139.124': 1, '100.253.180.141': 1, '89.151.206.101': 1}\n",
      "{}\n",
      "{'78.54.71.146': 1}\n",
      "{'78.54.71.146': 1, '203.85.185.49': 1}\n",
      "{'78.54.71.146': 1, '203.85.185.49': 1, '147.45.48.41': 1}\n",
      "{'78.54.71.146': 1, '203.85.185.49': 1, '147.45.48.41': 1, '47.90.98.150': 1}\n",
      "{'78.54.71.146': 1, '203.85.185.49': 1, '147.45.48.41': 1, '47.90.98.150': 1, '69.185.128.164': 1}\n",
      "{}\n",
      "{'161.134.127.210': 1}\n",
      "{'161.134.127.210': 1, '231.93.122.167': 1}\n",
      "{'161.134.127.210': 1, '231.93.122.167': 1, '140.53.93.159': 1}\n",
      "{'161.134.127.210': 1, '231.93.122.167': 1, '140.53.93.159': 1, '105.98.155.244': 1}\n",
      "{'161.134.127.210': 1, '231.93.122.167': 1, '140.53.93.159': 1, '105.98.155.244': 1, '110.220.151.140': 1}\n",
      "{}\n",
      "{'189.104.45.129': 1}\n",
      "{'189.104.45.129': 1, '119.123.154.109': 1}\n",
      "{'189.104.45.129': 1, '119.123.154.109': 1, '60.58.245.83': 1}\n",
      "{'189.104.45.129': 1, '119.123.154.109': 1, '60.58.245.83': 1, '143.137.33.94': 1}\n",
      "{'189.104.45.129': 1, '119.123.154.109': 1, '60.58.245.83': 1, '143.137.33.94': 1, '149.113.115.193': 1}\n",
      "{}\n",
      "{'212.168.99.114': 1}\n",
      "{'212.168.99.114': 1, '188.104.198.76': 1}\n",
      "{'212.168.99.114': 1, '188.104.198.76': 1, '94.121.123.151': 1}\n",
      "{'212.168.99.114': 1, '188.104.198.76': 1, '94.121.123.151': 1, '160.183.204.202': 1}\n",
      "{'212.168.99.114': 1, '188.104.198.76': 1, '94.121.123.151': 1, '160.183.204.202': 1, '244.15.83.105': 1}\n",
      "{}\n",
      "{'117.185.138.47': 1}\n",
      "{'117.185.138.47': 1, '125.142.128.86': 1}\n",
      "{'117.185.138.47': 1, '125.142.128.86': 1, '228.115.124.87': 1}\n",
      "{'117.185.138.47': 1, '125.142.128.86': 1, '228.115.124.87': 1, '94.176.112.166': 1}\n",
      "{'117.185.138.47': 1, '125.142.128.86': 1, '228.115.124.87': 1, '94.176.112.166': 1, '194.173.153.224': 1}\n",
      "{}\n",
      "{'152.80.74.237': 1}\n",
      "{'152.80.74.237': 1, '139.121.165.143': 1}\n",
      "{'152.80.74.237': 1, '139.121.165.143': 1, '134.156.98.200': 1}\n",
      "{'152.80.74.237': 1, '139.121.165.143': 1, '134.156.98.200': 1, '203.64.85.102': 1}\n",
      "{'152.80.74.237': 1, '139.121.165.143': 1, '134.156.98.200': 1, '203.64.85.102': 1, '155.94.107.117': 1}\n",
      "{}\n",
      "{'208.114.96.119': 1}\n",
      "{'208.114.96.119': 1, '114.255.47.190': 1}\n",
      "{'208.114.96.119': 1, '114.255.47.190': 1, '175.132.133.122': 1}\n",
      "{'208.114.96.119': 1, '114.255.47.190': 1, '175.132.133.122': 1, '52.30.199.124': 1}\n"
     ]
    },
    {
     "data": {
      "text/plain": [
       "{'208.114.96.119': 1,\n",
       " '114.255.47.190': 1,\n",
       " '175.132.133.122': 1,\n",
       " '52.30.199.124': 1}"
      ]
     },
     "execution_count": 77,
     "metadata": {},
     "output_type": "execute_result"
    }
   ],
   "source": [
    "majority_voting_modified(web_traffic_stream, 5)"
   ]
  },
  {
   "cell_type": "markdown",
   "metadata": {},
   "source": [
    "> As we can see from the result, it does not fulfill our requirement which is to return the most frequent IPs. \n",
    "\n",
    "> This is because the frequencies of IPs, even for the most frequent ones, are very low. Hence, IPs are removed from dictionary become they appear for the second time. i.e. After every k loops, the dictionary will be empty."
   ]
  },
  {
   "cell_type": "markdown",
   "metadata": {},
   "source": [
    "<font color='blue'> Therefore, we have to implement our own data structure which has worse space complexity but will be able to return the desired answer. </font>"
   ]
  },
  {
   "cell_type": "markdown",
   "metadata": {},
   "source": [
    "Our approach:"
   ]
  },
  {
   "cell_type": "markdown",
   "metadata": {},
   "source": [
    "1. Maintain a countMin M matrix to store frequency of each IP."
   ]
  },
  {
   "cell_type": "markdown",
   "metadata": {},
   "source": [
    "2. Maintain a dictionary with key = frequency and value = list of IPs. Dictionary size is at maximum X."
   ]
  },
  {
   "cell_type": "markdown",
   "metadata": {},
   "source": [
    "3. For each new record\n",
    "    \n",
    "    3.1 update M matrix\n",
    "    \n",
    "    3.2 extract its frequency\n",
    "    \n",
    "    3.3 update dictionary (see details below)\n",
    "    \n",
    "        add_single_IP_to_dic():\n",
    "           if    IP exists in any key-value pair --> remove from list of IPs\n",
    "         \n",
    "           if    frequency is not in the dictionary --> create a new key-value pair\n",
    "           else  add IP to the corresponding key-value pair\n",
    "        \n",
    "        update_dictionary():\n",
    "            if dictionary size < X:\n",
    "                add_single_IP_to_dic()\n",
    "            else\n",
    "               minF = minimum frequency stored in the dictionary\n",
    "               if    frequency > minF --> remove minF key-value pair\n",
    "                                      --> add_single_IP_to_dic()\n",
    "               if    frequency == minF --> add_single_IP_to_dic()\n",
    "                                  \n",
    "        "
   ]
  },
  {
   "cell_type": "markdown",
   "metadata": {},
   "source": [
    "4. Settle ties. There may be more than one IPs with the same frequency. When return top X, consider all IPs with the same frequency if they are in top X."
   ]
  },
  {
   "cell_type": "code",
   "execution_count": 53,
   "metadata": {},
   "outputs": [],
   "source": [
    "# topX_dic is a dictionary of the following format: \n",
    "# {frequency1 : [IP1, IP2, ...], frequency2 : [IP3, IP4, ...], ...}\n",
    "# The maximum dictionary size is X. This happens when each frequency corresponds to one and only one IP.\n",
    "def add_to_topX_dic(topX_dic, IP, count):    \n",
    "    \n",
    "    # firstly, iterate through the dictionary to find if this IP already exists\n",
    "    for freq, IPs in topX_dic.items():\n",
    "        \n",
    "        # remove the IP from its old count key if it exists\n",
    "        if IP in IPs:\n",
    "            IPs.remove(IP)\n",
    "            topX_dic[freq] = IPs\n",
    "    \n",
    "    # if it is the first time this count is seen in the dictionary, create a key-value pair straightaway\n",
    "    if count not in topX_dic:\n",
    "        topX_dic[count] = [IP,]\n",
    "    \n",
    "    # if this count already exists in the dictionary\n",
    "    else:\n",
    "        # add IP as a value of its new count key in the dictionary\n",
    "        lst = topX_dic[count]\n",
    "        lst.append(IP)\n",
    "        topX_dic[count] = lst\n",
    "    \n",
    "    return topX_dic\n",
    "    \n",
    "    \n",
    "    \n",
    "# define a function to check whether we should put an IP into the topX dictionary, and do so when necessary\n",
    "def update_topX_dic(topX_dic, IP, count, X):\n",
    "        \n",
    "    # if topX_dic is not fully filled (fewer than X pairs)\n",
    "    if len(topX_dic) < X:\n",
    "        # add this IP to topX_dic\n",
    "        topX_dic = add_to_topX_dic(topX_dic, IP, count)\n",
    "    \n",
    "    else:\n",
    "        # sort the current top frequencies in ascending order\n",
    "        top_frequencies = sorted(list(topX_dic.keys()))\n",
    "        \n",
    "        # find the current minimum frequency accepted by the topX dictionary\n",
    "        min_freq = top_frequencies[0]\n",
    "        \n",
    "        # if the count is greater than min_freq, add this item to topX_dictionary\n",
    "        # delete the key-value pair with the min_freq\n",
    "        if count > min_freq:\n",
    "            topX_dic = add_to_topX_dic(topX_dic, IP, count)\n",
    "            topX_dic.pop(min_freq)\n",
    "            \n",
    "        # if the count is equal to min_freq, add this item to topX_dictionary, but do not delete the min_freq key-value pair\n",
    "        if count == min_freq:\n",
    "            topX_dic = add_to_topX_dic(topX_dic, IP, count)\n",
    "    \n",
    "    return topX_dic\n",
    " \n",
    "    \n",
    "# a tie occurs when the last few most frequent IPs have the same frequency\n",
    "# e.g. X = 10; both the 10th and the 11th IP in the top X list have the same frequency. In such cases, we will include both\n",
    "# therefore, the actual number of IPs in the top X list may exceed X.\n",
    "def settle_ties(topX_dic, X):\n",
    "    \n",
    "    # initialize a counter to keep track of the total number of IPs in the top X list\n",
    "    counter = 0\n",
    "    \n",
    "    # initialize a list that stores the top X most frequent counts and their IPs\n",
    "    # [(IP1, frequency1), (IP2, frequency2), ...]\n",
    "    topX_list = []\n",
    "    \n",
    "    # obtain the sorted frequencies in the dictionary in descending order\n",
    "    sorted_frequencies = sorted(topX_dic.keys(), reverse = True)\n",
    "    \n",
    "    for freq in sorted_frequencies:\n",
    "        # if no IPs have been added to topX_list, at least add the first set of IPs to the list\n",
    "        if counter == 0:\n",
    "            for IP in topX_dic[freq]:\n",
    "                topX_list.append((IP, freq))\n",
    "            # increment the counter by the number of IPs\n",
    "            counter += len(topX_dic[freq]) \n",
    "        \n",
    "        # if after adding the previous IPs to the list, len(topX_list) equals to X exactly, escape the for loop\n",
    "        elif counter == X:\n",
    "            break\n",
    "        \n",
    "        # if adding IPs with this frequency to the topX list does not make the length go beyond X, add these to the list \n",
    "        elif counter + len(topX_dic[freq]) < X:\n",
    "            for IP in topX_dic[freq]:\n",
    "                topX_list.append((IP, freq))\n",
    "            # increment the counter by the number of IPs\n",
    "            counter += len(topX_dic[freq]) \n",
    "        \n",
    "        # else settle ties by add the IPs, then escape the for loop\n",
    "        else:\n",
    "            for IP in topX_dic[freq]:\n",
    "                topX_list.append((IP, freq))\n",
    "            break\n",
    "        \n",
    "    # sort the topX list in descending order of counts\n",
    "    topX_list.sort(key=lambda tup: tup[1], reverse=True)\n",
    "    \n",
    "    # return the topX IPs and their counts in the form of a dictionary\n",
    "    return dict(topX_list)"
   ]
  },
  {
   "cell_type": "code",
   "execution_count": 54,
   "metadata": {},
   "outputs": [],
   "source": [
    "def topX_frequency(stream, X, w=32, d=10):\n",
    "    \n",
    "    M=[]\n",
    "    for i in range(d):\n",
    "        inner=[0,] * w\n",
    "        M.append(inner)\n",
    "    \n",
    "    # initialize a dictionary to store the top frequencies and also settle ties (if any)\n",
    "    # {frequency1 : [IP1, IP2, ...], frequency2 : [IP3, IP4, ...], ...}\n",
    "    topX_dic = {}    \n",
    "    \n",
    "    while (True):\n",
    "        \n",
    "        # try getting the next element\n",
    "        try:\n",
    "            element=next(stream).split()\n",
    "            IP=element[0]\n",
    "    \n",
    "        # function should end here\n",
    "        # enter the except block when there is no more incoming data\n",
    "        except:\n",
    "            final_topX = settle_ties(topX_dic, X)\n",
    "            return list(final_topX.keys())\n",
    "        \n",
    "        frequency_list=[]\n",
    "        # update M matrix\n",
    "        for s in range(0,d):\n",
    "            # hash the IP address\n",
    "            hashing=mmh3.hash(IP, seed=s) % w\n",
    "            M[s][hashing] +=1\n",
    "            frequency_list.append(M[s][hashing])\n",
    "        \n",
    "        \n",
    "        # find the current estimate of the number of occurrences of an IP address\n",
    "        count = min(frequency_list)\n",
    "        \n",
    "        # check and update the topX dictionary accordingly\n",
    "        topX_dic = update_topX_dic(topX_dic, IP, count, X)\n",
    "    \n",
    "    # dummy return value\n",
    "    return None"
   ]
  },
  {
   "cell_type": "markdown",
   "metadata": {},
   "source": [
    "> Additionally, we would like to propose another method to find the top X most frequent IPs. \n",
    "\n",
    ">We would like to do a reservoir smapling. According to law of probability, the frequency of an IP in the sample should be able to reflect its frequency in the whole stream data."
   ]
  },
  {
   "cell_type": "code",
   "execution_count": 112,
   "metadata": {},
   "outputs": [],
   "source": [
    "def reservoir_sampling(stream, k, X):\n",
    "    \n",
    "    # keep a counter for total number of records\n",
    "    count = 0\n",
    "       \n",
    "    # Initialize the reservoir array with size k, index [0, k-1]\n",
    "    reservoir = [\" \"] * k\n",
    "    \n",
    "    # Fill the reservoir array by the first k elements from streaming data\n",
    "    while count < k: \n",
    "        IP = next(stream).split(\"\\t\")[0]\n",
    "        reservoir[count] = IP # fill one slot in reservoir array\n",
    "        count += 1\n",
    "    \n",
    "    # Iterate all incoming streaming elements\n",
    "    while (True):\n",
    "        # get the next incoming element\n",
    "        try:\n",
    "            IP = next(stream).split(\"\\t\")[0]\n",
    "        # finish processing all streaming data\n",
    "        except:\n",
    "            res=sorted(list(dict(Counter(reservoir)).items()), \n",
    "                       key= lambda x : x[1], \n",
    "                       reverse=True)\n",
    "            return res[:X]\n",
    "        \n",
    "\n",
    "        if k < random.randrange(count + 1):\n",
    "            # replace a slot in reservoir array selected uniformly at random\n",
    "            reservoir[random.randrange(k)] = IP\n",
    "            \n",
    "    return None"
   ]
  },
  {
   "cell_type": "markdown",
   "metadata": {},
   "source": [
    "## Analysis"
   ]
  },
  {
   "cell_type": "markdown",
   "metadata": {},
   "source": [
    "### Accuracy Analysis"
   ]
  },
  {
   "cell_type": "code",
   "execution_count": 35,
   "metadata": {},
   "outputs": [],
   "source": [
    "def find_exact_counts(stream):\n",
    "    \n",
    "    # initialize a dictionary of dictionaries that stores the exact counts for each IP for each domain\n",
    "    # {domain1 : {IP1 : occurrences1, IP2 : occurrences2, ...}, domain2: {IP1 : occurrences1, ...}, ...}\n",
    "    exact_dic = {}\n",
    "    \n",
    "    while (True):\n",
    "        \n",
    "        # try getting the next element\n",
    "        try:\n",
    "            element=next(stream).split()\n",
    "            IP=element[0]\n",
    "            domain=element[1]\n",
    "        \n",
    "        # function should end here\n",
    "        # enter the except block when there is no more incoming data\n",
    "        except:\n",
    "            return exact_dic\n",
    "        \n",
    "        if domain not in exact_dic.keys():\n",
    "            exact_dic[domain] = {}\n",
    "            exact_dic[domain][IP] = 1\n",
    "        \n",
    "        else:\n",
    "            sub_dic = exact_dic[domain]\n",
    "            if IP not in sub_dic.keys():\n",
    "                sub_dic[IP] = 1\n",
    "            else:\n",
    "                sub_dic[IP] += 1\n",
    "            # replace the original sub_dic by the updated one\n",
    "            exact_dic[domain] = sub_dic\n",
    "\n",
    "    # dummy return value    \n",
    "    return None"
   ]
  },
  {
   "cell_type": "markdown",
   "metadata": {},
   "source": [
    "> Our approach is to get the exact answers for each algorithm and compare it with the estimates. We will provide some qualitative explanation as much as possible."
   ]
  },
  {
   "cell_type": "markdown",
   "metadata": {},
   "source": [
    "### Q1 How many unique IPs are there in the stream?"
   ]
  },
  {
   "cell_type": "code",
   "execution_count": 30,
   "metadata": {},
   "outputs": [
    {
     "data": {
      "text/plain": [
       "28.4032508105588"
      ]
     },
     "execution_count": 30,
     "metadata": {},
     "output_type": "execute_result"
    }
   ],
   "source": [
    "# estimates\n",
    "STREAM_SIZE = 1000\n",
    "web_traffic_stream = stream(STREAM_SIZE)\n",
    "distinct_count = hyperLogLog(web_traffic_stream)\n",
    "distinct_count"
   ]
  },
  {
   "cell_type": "code",
   "execution_count": 31,
   "metadata": {},
   "outputs": [
    {
     "data": {
      "text/plain": [
       "1000"
      ]
     },
     "execution_count": 31,
     "metadata": {},
     "output_type": "execute_result"
    }
   ],
   "source": [
    "# exact\n",
    "def unique_IP(stream):\n",
    "    dic={}\n",
    "    while (True):\n",
    "        try:\n",
    "            IP=next(stream).split(\"\\t\")[0]\n",
    "        except:\n",
    "            return len(dic)\n",
    "        \n",
    "        if IP not in dic:\n",
    "            dic[IP] = 0\n",
    "    return\n",
    "\n",
    "STREAM_SIZE = 1000\n",
    "web_traffic_stream = stream(STREAM_SIZE)\n",
    "unique_IP(web_traffic_stream)"
   ]
  },
  {
   "cell_type": "markdown",
   "metadata": {},
   "source": [
    "> The estimated answer is 28 while the true answer is 1000. There is a huge discrepancy. Our group feel it is because the HyperLogLog algorithm does not work well when every IP appear once and only once. HyperLogLog relies on hashing to differentiate IPs. If all IPs are unique, hashing will fail because our HyperLogLog array size is limited, in our case, 32. "
   ]
  },
  {
   "cell_type": "markdown",
   "metadata": {},
   "source": [
    "### Q2 How many unique IPs are there for each domain?"
   ]
  },
  {
   "cell_type": "code",
   "execution_count": 33,
   "metadata": {},
   "outputs": [
    {
     "data": {
      "text/plain": [
       "{'python.org': 23.74564913138453,\n",
       " 'wikipedia.org': 24.52315025699615,\n",
       " 'pandas.pydata.org': 23.574111934356978,\n",
       " 'dtu.dk': 22.30792428163273,\n",
       " 'google.com': 22.30792428163273,\n",
       " 'databricks.com': 22.30792428163273,\n",
       " 'github.com': 22.30792428163273,\n",
       " 'spark.apache.org': 22.30792428163273,\n",
       " 'datarobot.com': 22.30792428163273}"
      ]
     },
     "execution_count": 33,
     "metadata": {},
     "output_type": "execute_result"
    }
   ],
   "source": [
    "# estimates\n",
    "STREAM_SIZE = 1000\n",
    "web_traffic_stream = stream(STREAM_SIZE)\n",
    "hyperLogLog_at_scale(web_traffic_stream)"
   ]
  },
  {
   "cell_type": "code",
   "execution_count": 36,
   "metadata": {},
   "outputs": [
    {
     "data": {
      "text/plain": [
       "{'python.org': 281,\n",
       " 'wikipedia.org': 510,\n",
       " 'pandas.pydata.org': 129,\n",
       " 'dtu.dk': 24,\n",
       " 'google.com': 25,\n",
       " 'databricks.com': 10,\n",
       " 'github.com': 14,\n",
       " 'spark.apache.org': 6,\n",
       " 'datarobot.com': 1}"
      ]
     },
     "execution_count": 36,
     "metadata": {},
     "output_type": "execute_result"
    }
   ],
   "source": [
    "# exact\n",
    "STREAM_SIZE = 1000\n",
    "web_traffic_stream = stream(STREAM_SIZE)\n",
    "exact_counts_dic = find_exact_counts(web_traffic_stream)\n",
    "exact_res={}\n",
    "for (k,v) in exact_counts_dic.items():\n",
    "    exact_res[k] = len(v)\n",
    "exact_res"
   ]
  },
  {
   "cell_type": "markdown",
   "metadata": {},
   "source": [
    "> Estimates for some domains are accurate such as dtu.dk, google.com. Others are not accurate. We suspect that those which are accurate are coincidences, because seems that estimate for every domain is around 22-24."
   ]
  },
  {
   "cell_type": "markdown",
   "metadata": {},
   "source": [
    "### Q3 How many times was IP X seen on domain Y? (for some X and Y provided at run time)"
   ]
  },
  {
   "cell_type": "code",
   "execution_count": 39,
   "metadata": {},
   "outputs": [
    {
     "data": {
      "text/plain": [
       "24"
      ]
     },
     "execution_count": 39,
     "metadata": {},
     "output_type": "execute_result"
    }
   ],
   "source": [
    "# estimates\n",
    "STREAM_SIZE = 1000\n",
    "web_traffic_stream = stream(STREAM_SIZE)\n",
    "countMin_Dic=countMin(web_traffic_stream)\n",
    "getResult(countMin_Dic, \"202.152.82.171\", \"wikipedia.org\" )"
   ]
  },
  {
   "cell_type": "code",
   "execution_count": 41,
   "metadata": {},
   "outputs": [
    {
     "data": {
      "text/plain": [
       "1"
      ]
     },
     "execution_count": 41,
     "metadata": {},
     "output_type": "execute_result"
    }
   ],
   "source": [
    "# exact\n",
    "STREAM_SIZE = 1000\n",
    "web_traffic_stream = stream(STREAM_SIZE)\n",
    "exact_counts_dic = find_exact_counts(web_traffic_stream)\n",
    "exact_counts_dic[\"wikipedia.org\"][\"202.152.82.171\"]"
   ]
  },
  {
   "cell_type": "markdown",
   "metadata": {},
   "source": [
    "> countMin is an over-estimate for the frequency. This is expected because over-estimation is inevitable for the countMin algorithm."
   ]
  },
  {
   "cell_type": "markdown",
   "metadata": {},
   "source": [
    "### Q4 How many unique IPs are there for the domains  𝑑1,𝑑2,… ?"
   ]
  },
  {
   "cell_type": "code",
   "execution_count": 44,
   "metadata": {},
   "outputs": [
    {
     "data": {
      "text/plain": [
       "{'python.org': 23.74564913138453,\n",
       " 'wikipedia.org': 24.52315025699615,\n",
       " 'pandas.pydata.org': 23.574111934356978}"
      ]
     },
     "execution_count": 44,
     "metadata": {},
     "output_type": "execute_result"
    }
   ],
   "source": [
    "# estimates\n",
    "STREAM_SIZE = 1000\n",
    "web_traffic_stream = stream(STREAM_SIZE)\n",
    "hyperLogLog_multiple_domains(web_traffic_stream, \n",
    "                             \"pandas.pydata.org\", \n",
    "                             \"python.org\", \n",
    "                             \"wikipedia.org\")"
   ]
  },
  {
   "cell_type": "code",
   "execution_count": 45,
   "metadata": {},
   "outputs": [
    {
     "data": {
      "text/plain": [
       "{'python.org': 281, 'wikipedia.org': 510, 'pandas.pydata.org': 129}"
      ]
     },
     "execution_count": 45,
     "metadata": {},
     "output_type": "execute_result"
    }
   ],
   "source": [
    "# exact\n",
    "STREAM_SIZE = 1000\n",
    "web_traffic_stream = stream(STREAM_SIZE)\n",
    "exact_counts_dic = find_exact_counts(web_traffic_stream)\n",
    "exact_dic={}\n",
    "exact_dic['python.org'] = len(exact_counts_dic[\"python.org\"])\n",
    "exact_dic['wikipedia.org'] = len(exact_counts_dic['wikipedia.org'])\n",
    "exact_dic['pandas.pydata.org'] = len(exact_counts_dic['pandas.pydata.org'])\n",
    "exact_dic"
   ]
  },
  {
   "cell_type": "markdown",
   "metadata": {},
   "source": [
    "> Again, HyperLogLog seems to give wrong estimates."
   ]
  },
  {
   "cell_type": "markdown",
   "metadata": {},
   "source": [
    "### Q5 How many times was IP X seen on domains  𝑑1,𝑑2,… ?"
   ]
  },
  {
   "cell_type": "code",
   "execution_count": 51,
   "metadata": {},
   "outputs": [
    {
     "data": {
      "text/plain": [
       "{'python.org': 18, 'wikipedia.org': 27}"
      ]
     },
     "execution_count": 51,
     "metadata": {},
     "output_type": "execute_result"
    }
   ],
   "source": [
    "# estimates\n",
    "STREAM_SIZE = 1000\n",
    "web_traffic_stream = stream(STREAM_SIZE)\n",
    "results_dictionary = getResult_multiple_domains(web_traffic_stream,\n",
    "                                                \"186.99.192.116\", \n",
    "                                                \"python.org\", \n",
    "                                                \"wikipedia.org\")\n",
    "results_dictionary"
   ]
  },
  {
   "cell_type": "code",
   "execution_count": 52,
   "metadata": {},
   "outputs": [
    {
     "ename": "KeyError",
     "evalue": "'186.99.192.116'",
     "output_type": "error",
     "traceback": [
      "\u001b[0;31m---------------------------------------------------------------------------\u001b[0m",
      "\u001b[0;31mKeyError\u001b[0m                                  Traceback (most recent call last)",
      "\u001b[0;32m<ipython-input-52-b0d8edb24488>\u001b[0m in \u001b[0;36m<module>\u001b[0;34m\u001b[0m\n\u001b[1;32m      4\u001b[0m \u001b[0mexact_dic\u001b[0m\u001b[0;34m=\u001b[0m\u001b[0;34m{\u001b[0m\u001b[0;34m}\u001b[0m\u001b[0;34m\u001b[0m\u001b[0;34m\u001b[0m\u001b[0m\n\u001b[1;32m      5\u001b[0m \u001b[0mexact_dic\u001b[0m\u001b[0;34m[\u001b[0m\u001b[0;34m\"python.org\"\u001b[0m\u001b[0;34m]\u001b[0m\u001b[0;34m=\u001b[0m\u001b[0mexact_counts_dic\u001b[0m\u001b[0;34m[\u001b[0m\u001b[0;34m\"python.org\"\u001b[0m\u001b[0;34m]\u001b[0m\u001b[0;34m[\u001b[0m\u001b[0;34m\"186.99.192.116\"\u001b[0m\u001b[0;34m]\u001b[0m\u001b[0;34m\u001b[0m\u001b[0;34m\u001b[0m\u001b[0m\n\u001b[0;32m----> 6\u001b[0;31m \u001b[0mexact_dic\u001b[0m\u001b[0;34m[\u001b[0m\u001b[0;34m\"wikipedia.org\"\u001b[0m\u001b[0;34m]\u001b[0m\u001b[0;34m=\u001b[0m\u001b[0mexact_counts_dic\u001b[0m\u001b[0;34m[\u001b[0m\u001b[0;34m\"wikipedia.org\"\u001b[0m\u001b[0;34m]\u001b[0m\u001b[0;34m[\u001b[0m\u001b[0;34m\"186.99.192.116\"\u001b[0m\u001b[0;34m]\u001b[0m\u001b[0;34m\u001b[0m\u001b[0;34m\u001b[0m\u001b[0m\n\u001b[0m\u001b[1;32m      7\u001b[0m \u001b[0mexact_dic\u001b[0m\u001b[0;34m\u001b[0m\u001b[0;34m\u001b[0m\u001b[0m\n",
      "\u001b[0;31mKeyError\u001b[0m: '186.99.192.116'"
     ]
    }
   ],
   "source": [
    "# exact\n",
    "STREAM_SIZE = 1000\n",
    "web_traffic_stream = stream(STREAM_SIZE)\n",
    "exact_counts_dic = find_exact_counts(web_traffic_stream)\n",
    "exact_dic={}\n",
    "exact_dic[\"python.org\"]=exact_counts_dic[\"python.org\"][\"186.99.192.116\"]\n",
    "exact_dic[\"wikipedia.org\"]=exact_counts_dic[\"wikipedia.org\"][\"186.99.192.116\"]\n",
    "exact_dic"
   ]
  },
  {
   "cell_type": "markdown",
   "metadata": {},
   "source": [
    "> There is an keyError when getting the exact count, meaning that in the first 1000 records, IP '186.99.192.116' does not even appear. However, estimates are available. This means estimates are not accurate."
   ]
  },
  {
   "cell_type": "markdown",
   "metadata": {},
   "source": [
    "### Q6 What are the X most frequent IPs in the stream?"
   ]
  },
  {
   "cell_type": "code",
   "execution_count": 55,
   "metadata": {},
   "outputs": [
    {
     "data": {
      "text/plain": [
       "['174.83.136.188', '111.124.49.168', '128.187.104.68', '155.206.241.132']"
      ]
     },
     "execution_count": 55,
     "metadata": {},
     "output_type": "execute_result"
    }
   ],
   "source": [
    "# estimates\n",
    "STREAM_SIZE = 1000\n",
    "web_traffic_stream = stream(STREAM_SIZE)\n",
    "topX = topX_frequency(web_traffic_stream, 3)\n",
    "topX"
   ]
  },
  {
   "cell_type": "code",
   "execution_count": 73,
   "metadata": {},
   "outputs": [],
   "source": [
    "# exact\n",
    "def most_frequent(stream,X):\n",
    "    topX={}\n",
    "    while (True):\n",
    "        try:\n",
    "            IP=next(stream).split(\"\\t\")[0]\n",
    "        except:\n",
    "            sort= sorted(list(topX.items()), \n",
    "                          key=lambda x : x[1],\n",
    "                          reverse=True)\n",
    "            return list(map(lambda x : x[0], sort[:X]))\n",
    "\n",
    "        if IP not in topX:\n",
    "            topX[IP] = 0\n",
    "        topX[IP] += 1\n",
    "    return"
   ]
  },
  {
   "cell_type": "code",
   "execution_count": 74,
   "metadata": {},
   "outputs": [
    {
     "data": {
      "text/plain": [
       "['186.99.192.116', '202.152.82.171', '130.126.231.205']"
      ]
     },
     "execution_count": 74,
     "metadata": {},
     "output_type": "execute_result"
    }
   ],
   "source": [
    "STREAM_SIZE = 1000\n",
    "web_traffic_stream = stream(STREAM_SIZE)\n",
    "most_frequent(web_traffic_stream, 3)"
   ]
  },
  {
   "cell_type": "markdown",
   "metadata": {},
   "source": [
    "> Seems the estimates for topX is not accurate either."
   ]
  },
  {
   "cell_type": "code",
   "execution_count": null,
   "metadata": {},
   "outputs": [],
   "source": []
  },
  {
   "cell_type": "code",
   "execution_count": null,
   "metadata": {},
   "outputs": [],
   "source": []
  },
  {
   "cell_type": "code",
   "execution_count": null,
   "metadata": {},
   "outputs": [],
   "source": []
  },
  {
   "cell_type": "code",
   "execution_count": null,
   "metadata": {},
   "outputs": [],
   "source": []
  },
  {
   "cell_type": "code",
   "execution_count": 77,
   "metadata": {},
   "outputs": [],
   "source": [
    "# check the accuracy of IP counting\n",
    "def CountIP_accuracy(stream): \n",
    "    #create a dictionary(key is IP,value is count)\n",
    "    IP_dict={}\n",
    "    \n",
    "    element=next(stream).split()\n",
    "    IP=element[0]\n",
    "    domain=element[1]\n",
    "      \n",
    "    for count in stream: \n",
    "        if (count in IP_dict): \n",
    "            IP_dict[count] += 1\n",
    "        else: \n",
    "            IP_dict[count] = 1\n",
    "  \n",
    "    for IP, count in IP_dict.counts(): \n",
    "        print (\"% d : % d\"%(IP, count)) \n",
    "        return IP_dict"
   ]
  },
  {
   "cell_type": "code",
   "execution_count": 78,
   "metadata": {},
   "outputs": [],
   "source": [
    "#check the accuracy of CountMin function\n",
    "def CountMin_accuracy(stream):\n",
    "    #create a dictionary (key is domain, value is IP_dict)\n",
    "    domain_dict={}\n",
    "    \n",
    "    element=next(stream).split()\n",
    "    IP=element[0]\n",
    "    domain=element[1]\n",
    "    \n",
    "    for IP_dict in stream:\n",
    "        if (IP_dict in domain_dict): \n",
    "            domain_dict[IP_dict] += 1\n",
    "        else: \n",
    "            domain_dict[IP_dict] = 1\n",
    "  \n",
    "    for domain, IP_dict in IP_dict.counts(): \n",
    "        print (\"% d : % d\"%(domain, IP_dict)) "
   ]
  }
 ],
 "metadata": {
  "kernelspec": {
   "display_name": "Python 3",
   "language": "python",
   "name": "python3"
  },
  "language_info": {
   "codemirror_mode": {
    "name": "ipython",
    "version": 3
   },
   "file_extension": ".py",
   "mimetype": "text/x-python",
   "name": "python",
   "nbconvert_exporter": "python",
   "pygments_lexer": "ipython3",
   "version": "3.7.3"
  }
 },
 "nbformat": 4,
 "nbformat_minor": 2
}
